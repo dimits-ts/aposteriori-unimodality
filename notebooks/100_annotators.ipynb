{
 "cells": [
  {
   "cell_type": "code",
   "execution_count": 2,
   "metadata": {},
   "outputs": [],
   "source": [
    "import sys\n",
    "\n",
    "# IT'S 2025 WHY HASN'T SOMEONE FIXED THIS\n",
    "if \"..\" not in sys.path:\n",
    "    sys.path.insert(0, \"..\")\n",
    "    \n",
    "import pandas as pd\n",
    "import numpy as np\n",
    "import ast\n",
    "\n",
    "import tasks.run_helper"
   ]
  },
  {
   "cell_type": "code",
   "execution_count": 3,
   "metadata": {},
   "outputs": [
    {
     "data": {
      "text/html": [
       "<div>\n",
       "<style scoped>\n",
       "    .dataframe tbody tr th:only-of-type {\n",
       "        vertical-align: middle;\n",
       "    }\n",
       "\n",
       "    .dataframe tbody tr th {\n",
       "        vertical-align: top;\n",
       "    }\n",
       "\n",
       "    .dataframe thead th {\n",
       "        text-align: right;\n",
       "    }\n",
       "</style>\n",
       "<table border=\"1\" class=\"dataframe\">\n",
       "  <thead>\n",
       "    <tr style=\"text-align: right;\">\n",
       "      <th></th>\n",
       "      <th></th>\n",
       "      <th></th>\n",
       "      <th></th>\n",
       "      <th>toxicity</th>\n",
       "      <th>annot_age</th>\n",
       "      <th>annot_sex</th>\n",
       "      <th>annot_sexual_orientation</th>\n",
       "      <th>annot_demographic_group</th>\n",
       "      <th>annot_current_employment</th>\n",
       "      <th>annot_education_level</th>\n",
       "      <th>annot_politics</th>\n",
       "      <th>fake_index</th>\n",
       "    </tr>\n",
       "    <tr>\n",
       "      <th>conv_id</th>\n",
       "      <th>message_id</th>\n",
       "      <th>comment_key</th>\n",
       "      <th>message</th>\n",
       "      <th></th>\n",
       "      <th></th>\n",
       "      <th></th>\n",
       "      <th></th>\n",
       "      <th></th>\n",
       "      <th></th>\n",
       "      <th></th>\n",
       "      <th></th>\n",
       "      <th></th>\n",
       "    </tr>\n",
       "  </thead>\n",
       "  <tbody>\n",
       "    <tr>\n",
       "      <th>250cc245-86c4-4e97-a8ce-31d5d6796f71</th>\n",
       "      <th>-1428289379724132680</th>\n",
       "      <th>250cc245-86c4-4e97-a8ce-31d5d6796f71-1428289379724132680</th>\n",
       "      <th>well thats a no brainer hillary clinton gave huma abdein a security clearance when she has ties to a known terrorist group the muslim brotherhood, and her mother runs an anti american news paper in the middle east, debbie washed up crook shultz got the awan famaily security clearances and they were recent immigrants, had absolutely no IT experience and possible ties to terrorist groups in pakistan. its pretty clear our liberal ran government is a complete and total failure when it comes to national security. 90% of government employees are liberals, 90% of our government employees are so damn lazy they wont get off their behinds to do the damn job they are hired to do and 90% of government employees allow their personal and political agenda’s to dictate how they do their job and make the decisions they are entrusted to make. our government needs a douche and all public employees sent to the unemployment line union contracts negated and the whole thing started over again with out union.\\n</th>\n",
       "      <td>[5, 5, 5, 5, 5, 5, 5, 5, 5, 5, 5, 5, 5, 5, 5, ...</td>\n",
       "      <td>[(69.75, 88.0], (33.25, 51.5], (69.75, 88.0], ...</td>\n",
       "      <td>[female, non-binary, female, male, male, male,...</td>\n",
       "      <td>[homosexual, straight, straight, straight, bis...</td>\n",
       "      <td>[black, white, asian, other, asian, other, asi...</td>\n",
       "      <td>[blue-collar, white-collar, unemployed, white-...</td>\n",
       "      <td>[university, none, university, none, universit...</td>\n",
       "      <td>[right-wing conservative, right-wing conservat...</td>\n",
       "      <td>1</td>\n",
       "    </tr>\n",
       "  </tbody>\n",
       "</table>\n",
       "</div>"
      ],
      "text/plain": [
       "                                                                                                                                                                                                          toxicity  \\\n",
       "conv_id                              message_id           comment_key                                        message                                                                                                 \n",
       "250cc245-86c4-4e97-a8ce-31d5d6796f71 -1428289379724132680 250cc245-86c4-4e97-a8ce-31d5d6796f71-1428289379... well thats a no brainer hillary clinton gave hu...  [5, 5, 5, 5, 5, 5, 5, 5, 5, 5, 5, 5, 5, 5, 5, ...   \n",
       "\n",
       "                                                                                                                                                                                                         annot_age  \\\n",
       "conv_id                              message_id           comment_key                                        message                                                                                                 \n",
       "250cc245-86c4-4e97-a8ce-31d5d6796f71 -1428289379724132680 250cc245-86c4-4e97-a8ce-31d5d6796f71-1428289379... well thats a no brainer hillary clinton gave hu...  [(69.75, 88.0], (33.25, 51.5], (69.75, 88.0], ...   \n",
       "\n",
       "                                                                                                                                                                                                         annot_sex  \\\n",
       "conv_id                              message_id           comment_key                                        message                                                                                                 \n",
       "250cc245-86c4-4e97-a8ce-31d5d6796f71 -1428289379724132680 250cc245-86c4-4e97-a8ce-31d5d6796f71-1428289379... well thats a no brainer hillary clinton gave hu...  [female, non-binary, female, male, male, male,...   \n",
       "\n",
       "                                                                                                                                                                                          annot_sexual_orientation  \\\n",
       "conv_id                              message_id           comment_key                                        message                                                                                                 \n",
       "250cc245-86c4-4e97-a8ce-31d5d6796f71 -1428289379724132680 250cc245-86c4-4e97-a8ce-31d5d6796f71-1428289379... well thats a no brainer hillary clinton gave hu...  [homosexual, straight, straight, straight, bis...   \n",
       "\n",
       "                                                                                                                                                                                           annot_demographic_group  \\\n",
       "conv_id                              message_id           comment_key                                        message                                                                                                 \n",
       "250cc245-86c4-4e97-a8ce-31d5d6796f71 -1428289379724132680 250cc245-86c4-4e97-a8ce-31d5d6796f71-1428289379... well thats a no brainer hillary clinton gave hu...  [black, white, asian, other, asian, other, asi...   \n",
       "\n",
       "                                                                                                                                                                                          annot_current_employment  \\\n",
       "conv_id                              message_id           comment_key                                        message                                                                                                 \n",
       "250cc245-86c4-4e97-a8ce-31d5d6796f71 -1428289379724132680 250cc245-86c4-4e97-a8ce-31d5d6796f71-1428289379... well thats a no brainer hillary clinton gave hu...  [blue-collar, white-collar, unemployed, white-...   \n",
       "\n",
       "                                                                                                                                                                                             annot_education_level  \\\n",
       "conv_id                              message_id           comment_key                                        message                                                                                                 \n",
       "250cc245-86c4-4e97-a8ce-31d5d6796f71 -1428289379724132680 250cc245-86c4-4e97-a8ce-31d5d6796f71-1428289379... well thats a no brainer hillary clinton gave hu...  [university, none, university, none, universit...   \n",
       "\n",
       "                                                                                                                                                                                                    annot_politics  \\\n",
       "conv_id                              message_id           comment_key                                        message                                                                                                 \n",
       "250cc245-86c4-4e97-a8ce-31d5d6796f71 -1428289379724132680 250cc245-86c4-4e97-a8ce-31d5d6796f71-1428289379... well thats a no brainer hillary clinton gave hu...  [right-wing conservative, right-wing conservat...   \n",
       "\n",
       "                                                                                                                                                                 fake_index  \n",
       "conv_id                              message_id           comment_key                                        message                                                         \n",
       "250cc245-86c4-4e97-a8ce-31d5d6796f71 -1428289379724132680 250cc245-86c4-4e97-a8ce-31d5d6796f71-1428289379... well thats a no brainer hillary clinton gave hu...           1  "
      ]
     },
     "execution_count": 3,
     "metadata": {},
     "output_type": "execute_result"
    }
   ],
   "source": [
    "df = pd.read_csv(\n",
    "    \"../data/100_annotators.csv\",\n",
    "    converters={\"annot_personality_characteristics\": ast.literal_eval},\n",
    ")\n",
    "df[\"toxicity\"] = df.annotation.apply(lambda x: x[-1]).astype(int)\n",
    "df[\"annot_politics\"] = df.annot_personality_characteristics.apply(\n",
    "    lambda x: x[0]\n",
    ")\n",
    "df.annot_age = pd.cut(df.annot_age, bins=4)\n",
    "df.message_id = df.message_id.astype(str)\n",
    "df[\"comment_key\"] = df.conv_id + df.message_id\n",
    "\n",
    "df = df.loc[\n",
    "    :,\n",
    "    [\n",
    "        \"conv_id\",\n",
    "        \"message_id\",\n",
    "        \"comment_key\",\n",
    "        \"message\",\n",
    "        \"toxicity\",\n",
    "        \"annot_age\",\n",
    "        \"annot_sex\",\n",
    "        \"annot_sexual_orientation\",\n",
    "        \"annot_demographic_group\",\n",
    "        \"annot_current_employment\",\n",
    "        \"annot_education_level\",\n",
    "        \"annot_politics\",\n",
    "    ],\n",
    "]\n",
    "df = df.groupby([\"conv_id\", \"message_id\", \"comment_key\", \"message\"]).apply(\n",
    "    lambda x: pd.Series(\n",
    "        {\n",
    "            col: x[col].tolist()\n",
    "            for col in df.columns\n",
    "            if col not in [\"conv_id\", \"message_id\", \"comment_key\", \"message\"]\n",
    "        }\n",
    "    ),\n",
    "    include_groups=False,\n",
    ")\n",
    "df[\"fake_index\"] = 1\n",
    "df.head(1)"
   ]
  },
  {
   "cell_type": "code",
   "execution_count": 4,
   "metadata": {},
   "outputs": [
    {
     "data": {
      "application/vnd.jupyter.widget-view+json": {
       "model_id": "f24839afa15241d3a708b5bfd0227c1f",
       "version_major": 2,
       "version_minor": 0
      },
      "text/plain": [
       "  0%|          | 0/4 [00:00<?, ?it/s]"
      ]
     },
     "metadata": {},
     "output_type": "display_data"
    },
    {
     "data": {
      "text/html": [
       "<div>\n",
       "<style scoped>\n",
       "    .dataframe tbody tr th:only-of-type {\n",
       "        vertical-align: middle;\n",
       "    }\n",
       "\n",
       "    .dataframe tbody tr th {\n",
       "        vertical-align: top;\n",
       "    }\n",
       "\n",
       "    .dataframe thead th {\n",
       "        text-align: right;\n",
       "    }\n",
       "</style>\n",
       "<table border=\"1\" class=\"dataframe\">\n",
       "  <thead>\n",
       "    <tr style=\"text-align: right;\">\n",
       "      <th></th>\n",
       "      <th>250cc245-86c4-4e97-a8ce-31d5d6796f71</th>\n",
       "      <th>2feee653-15e9-4c38-b7a2-96fe26f50c9f</th>\n",
       "      <th>434ddba0-393a-424d-9c14-4837d454a221</th>\n",
       "      <th>a004f55d-03b1-4058-919a-6e6531aaf32f</th>\n",
       "    </tr>\n",
       "  </thead>\n",
       "  <tbody>\n",
       "    <tr>\n",
       "      <th>(69.75, 88.0]</th>\n",
       "      <td>0.773485</td>\n",
       "      <td>0.742579</td>\n",
       "      <td>0.620217</td>\n",
       "      <td>0.640184</td>\n",
       "    </tr>\n",
       "    <tr>\n",
       "      <th>(33.25, 51.5]</th>\n",
       "      <td>0.907523</td>\n",
       "      <td>0.857706</td>\n",
       "      <td>0.620217</td>\n",
       "      <td>0.640184</td>\n",
       "    </tr>\n",
       "    <tr>\n",
       "      <th>(51.5, 69.75]</th>\n",
       "      <td>0.773485</td>\n",
       "      <td>0.742579</td>\n",
       "      <td>0.620217</td>\n",
       "      <td>0.640184</td>\n",
       "    </tr>\n",
       "    <tr>\n",
       "      <th>(14.927, 33.25]</th>\n",
       "      <td>0.972631</td>\n",
       "      <td>0.742579</td>\n",
       "      <td>0.620217</td>\n",
       "      <td>0.766571</td>\n",
       "    </tr>\n",
       "  </tbody>\n",
       "</table>\n",
       "</div>"
      ],
      "text/plain": [
       "                 250cc245-86c4-4e97-a8ce-31d5d6796f71  \\\n",
       "(69.75, 88.0]                                0.773485   \n",
       "(33.25, 51.5]                                0.907523   \n",
       "(51.5, 69.75]                                0.773485   \n",
       "(14.927, 33.25]                              0.972631   \n",
       "\n",
       "                 2feee653-15e9-4c38-b7a2-96fe26f50c9f  \\\n",
       "(69.75, 88.0]                                0.742579   \n",
       "(33.25, 51.5]                                0.857706   \n",
       "(51.5, 69.75]                                0.742579   \n",
       "(14.927, 33.25]                              0.742579   \n",
       "\n",
       "                 434ddba0-393a-424d-9c14-4837d454a221  \\\n",
       "(69.75, 88.0]                                0.620217   \n",
       "(33.25, 51.5]                                0.620217   \n",
       "(51.5, 69.75]                                0.620217   \n",
       "(14.927, 33.25]                              0.620217   \n",
       "\n",
       "                 a004f55d-03b1-4058-919a-6e6531aaf32f  \n",
       "(69.75, 88.0]                                0.640184  \n",
       "(33.25, 51.5]                                0.640184  \n",
       "(51.5, 69.75]                                0.640184  \n",
       "(14.927, 33.25]                              0.766571  "
      ]
     },
     "execution_count": 4,
     "metadata": {},
     "output_type": "execute_result"
    }
   ],
   "source": [
    "tasks.run_helper.results(\n",
    "    df,\n",
    "    discussion_id_col=\"conv_id\",\n",
    "    sdb_column=\"annot_age\",\n",
    "    value_col=\"toxicity\",\n",
    "    comment_key_col=\"comment_key\",\n",
    ")"
   ]
  },
  {
   "cell_type": "code",
   "execution_count": 5,
   "metadata": {},
   "outputs": [
    {
     "data": {
      "application/vnd.jupyter.widget-view+json": {
       "model_id": "4e0d8f5e9b514a5592c554aa50ef9a0b",
       "version_major": 2,
       "version_minor": 0
      },
      "text/plain": [
       "  0%|          | 0/4 [00:00<?, ?it/s]"
      ]
     },
     "metadata": {},
     "output_type": "display_data"
    },
    {
     "data": {
      "text/html": [
       "<div>\n",
       "<style scoped>\n",
       "    .dataframe tbody tr th:only-of-type {\n",
       "        vertical-align: middle;\n",
       "    }\n",
       "\n",
       "    .dataframe tbody tr th {\n",
       "        vertical-align: top;\n",
       "    }\n",
       "\n",
       "    .dataframe thead th {\n",
       "        text-align: right;\n",
       "    }\n",
       "</style>\n",
       "<table border=\"1\" class=\"dataframe\">\n",
       "  <thead>\n",
       "    <tr style=\"text-align: right;\">\n",
       "      <th></th>\n",
       "      <th>250cc245-86c4-4e97-a8ce-31d5d6796f71</th>\n",
       "      <th>2feee653-15e9-4c38-b7a2-96fe26f50c9f</th>\n",
       "      <th>434ddba0-393a-424d-9c14-4837d454a221</th>\n",
       "      <th>a004f55d-03b1-4058-919a-6e6531aaf32f</th>\n",
       "    </tr>\n",
       "  </thead>\n",
       "  <tbody>\n",
       "    <tr>\n",
       "      <th>male</th>\n",
       "      <td>0.709924</td>\n",
       "      <td>0.577323</td>\n",
       "      <td>0.699686</td>\n",
       "      <td>0.733848</td>\n",
       "    </tr>\n",
       "    <tr>\n",
       "      <th>non-binary</th>\n",
       "      <td>0.934458</td>\n",
       "      <td>0.577323</td>\n",
       "      <td>0.997037</td>\n",
       "      <td>0.949874</td>\n",
       "    </tr>\n",
       "    <tr>\n",
       "      <th>female</th>\n",
       "      <td>0.709924</td>\n",
       "      <td>0.577323</td>\n",
       "      <td>0.699686</td>\n",
       "      <td>0.733848</td>\n",
       "    </tr>\n",
       "  </tbody>\n",
       "</table>\n",
       "</div>"
      ],
      "text/plain": [
       "            250cc245-86c4-4e97-a8ce-31d5d6796f71  \\\n",
       "male                                    0.709924   \n",
       "non-binary                              0.934458   \n",
       "female                                  0.709924   \n",
       "\n",
       "            2feee653-15e9-4c38-b7a2-96fe26f50c9f  \\\n",
       "male                                    0.577323   \n",
       "non-binary                              0.577323   \n",
       "female                                  0.577323   \n",
       "\n",
       "            434ddba0-393a-424d-9c14-4837d454a221  \\\n",
       "male                                    0.699686   \n",
       "non-binary                              0.997037   \n",
       "female                                  0.699686   \n",
       "\n",
       "            a004f55d-03b1-4058-919a-6e6531aaf32f  \n",
       "male                                    0.733848  \n",
       "non-binary                              0.949874  \n",
       "female                                  0.733848  "
      ]
     },
     "execution_count": 5,
     "metadata": {},
     "output_type": "execute_result"
    }
   ],
   "source": [
    "tasks.run_helper.results(\n",
    "    df,\n",
    "    discussion_id_col=\"conv_id\",\n",
    "    sdb_column=\"annot_sex\",\n",
    "    value_col=\"toxicity\",\n",
    "    comment_key_col=\"comment_key\",\n",
    ")"
   ]
  },
  {
   "cell_type": "code",
   "execution_count": 6,
   "metadata": {},
   "outputs": [
    {
     "data": {
      "application/vnd.jupyter.widget-view+json": {
       "model_id": "3d027d2e2383489d8f3928e7b42866b0",
       "version_major": 2,
       "version_minor": 0
      },
      "text/plain": [
       "  0%|          | 0/4 [00:00<?, ?it/s]"
      ]
     },
     "metadata": {},
     "output_type": "display_data"
    },
    {
     "data": {
      "text/html": [
       "<div>\n",
       "<style scoped>\n",
       "    .dataframe tbody tr th:only-of-type {\n",
       "        vertical-align: middle;\n",
       "    }\n",
       "\n",
       "    .dataframe tbody tr th {\n",
       "        vertical-align: top;\n",
       "    }\n",
       "\n",
       "    .dataframe thead th {\n",
       "        text-align: right;\n",
       "    }\n",
       "</style>\n",
       "<table border=\"1\" class=\"dataframe\">\n",
       "  <thead>\n",
       "    <tr style=\"text-align: right;\">\n",
       "      <th></th>\n",
       "      <th>250cc245-86c4-4e97-a8ce-31d5d6796f71</th>\n",
       "      <th>2feee653-15e9-4c38-b7a2-96fe26f50c9f</th>\n",
       "      <th>434ddba0-393a-424d-9c14-4837d454a221</th>\n",
       "      <th>a004f55d-03b1-4058-919a-6e6531aaf32f</th>\n",
       "    </tr>\n",
       "  </thead>\n",
       "  <tbody>\n",
       "    <tr>\n",
       "      <th>other</th>\n",
       "      <td>0.671936</td>\n",
       "      <td>0.750076</td>\n",
       "      <td>0.848845</td>\n",
       "      <td>0.736088</td>\n",
       "    </tr>\n",
       "    <tr>\n",
       "      <th>black</th>\n",
       "      <td>0.671936</td>\n",
       "      <td>0.750076</td>\n",
       "      <td>0.848845</td>\n",
       "      <td>0.736088</td>\n",
       "    </tr>\n",
       "    <tr>\n",
       "      <th>asian</th>\n",
       "      <td>0.685815</td>\n",
       "      <td>0.750076</td>\n",
       "      <td>0.878515</td>\n",
       "      <td>0.736088</td>\n",
       "    </tr>\n",
       "    <tr>\n",
       "      <th>white</th>\n",
       "      <td>0.671936</td>\n",
       "      <td>0.750076</td>\n",
       "      <td>0.848845</td>\n",
       "      <td>0.749354</td>\n",
       "    </tr>\n",
       "  </tbody>\n",
       "</table>\n",
       "</div>"
      ],
      "text/plain": [
       "       250cc245-86c4-4e97-a8ce-31d5d6796f71  \\\n",
       "other                              0.671936   \n",
       "black                              0.671936   \n",
       "asian                              0.685815   \n",
       "white                              0.671936   \n",
       "\n",
       "       2feee653-15e9-4c38-b7a2-96fe26f50c9f  \\\n",
       "other                              0.750076   \n",
       "black                              0.750076   \n",
       "asian                              0.750076   \n",
       "white                              0.750076   \n",
       "\n",
       "       434ddba0-393a-424d-9c14-4837d454a221  \\\n",
       "other                              0.848845   \n",
       "black                              0.848845   \n",
       "asian                              0.878515   \n",
       "white                              0.848845   \n",
       "\n",
       "       a004f55d-03b1-4058-919a-6e6531aaf32f  \n",
       "other                              0.736088  \n",
       "black                              0.736088  \n",
       "asian                              0.736088  \n",
       "white                              0.749354  "
      ]
     },
     "execution_count": 6,
     "metadata": {},
     "output_type": "execute_result"
    }
   ],
   "source": [
    "tasks.run_helper.results(\n",
    "    df,\n",
    "    discussion_id_col=\"conv_id\",\n",
    "    sdb_column=\"annot_demographic_group\",\n",
    "    value_col=\"toxicity\",\n",
    "    comment_key_col=\"comment_key\",\n",
    ")"
   ]
  },
  {
   "cell_type": "code",
   "execution_count": 7,
   "metadata": {},
   "outputs": [
    {
     "data": {
      "application/vnd.jupyter.widget-view+json": {
       "model_id": "1bb075ac775a4447adb922c81cf2b477",
       "version_major": 2,
       "version_minor": 0
      },
      "text/plain": [
       "  0%|          | 0/4 [00:00<?, ?it/s]"
      ]
     },
     "metadata": {},
     "output_type": "display_data"
    },
    {
     "data": {
      "text/html": [
       "<div>\n",
       "<style scoped>\n",
       "    .dataframe tbody tr th:only-of-type {\n",
       "        vertical-align: middle;\n",
       "    }\n",
       "\n",
       "    .dataframe tbody tr th {\n",
       "        vertical-align: top;\n",
       "    }\n",
       "\n",
       "    .dataframe thead th {\n",
       "        text-align: right;\n",
       "    }\n",
       "</style>\n",
       "<table border=\"1\" class=\"dataframe\">\n",
       "  <thead>\n",
       "    <tr style=\"text-align: right;\">\n",
       "      <th></th>\n",
       "      <th>250cc245-86c4-4e97-a8ce-31d5d6796f71</th>\n",
       "      <th>2feee653-15e9-4c38-b7a2-96fe26f50c9f</th>\n",
       "      <th>434ddba0-393a-424d-9c14-4837d454a221</th>\n",
       "      <th>a004f55d-03b1-4058-919a-6e6531aaf32f</th>\n",
       "    </tr>\n",
       "  </thead>\n",
       "  <tbody>\n",
       "    <tr>\n",
       "      <th>other</th>\n",
       "      <td>0.656711</td>\n",
       "      <td>0.639613</td>\n",
       "      <td>0.769817</td>\n",
       "      <td>0.707447</td>\n",
       "    </tr>\n",
       "    <tr>\n",
       "      <th>bisexual</th>\n",
       "      <td>0.656711</td>\n",
       "      <td>0.639613</td>\n",
       "      <td>0.815220</td>\n",
       "      <td>0.707447</td>\n",
       "    </tr>\n",
       "    <tr>\n",
       "      <th>straight</th>\n",
       "      <td>0.656711</td>\n",
       "      <td>0.639613</td>\n",
       "      <td>0.769817</td>\n",
       "      <td>0.707447</td>\n",
       "    </tr>\n",
       "    <tr>\n",
       "      <th>homosexual</th>\n",
       "      <td>0.656711</td>\n",
       "      <td>0.639613</td>\n",
       "      <td>0.769817</td>\n",
       "      <td>0.707447</td>\n",
       "    </tr>\n",
       "  </tbody>\n",
       "</table>\n",
       "</div>"
      ],
      "text/plain": [
       "            250cc245-86c4-4e97-a8ce-31d5d6796f71  \\\n",
       "other                                   0.656711   \n",
       "bisexual                                0.656711   \n",
       "straight                                0.656711   \n",
       "homosexual                              0.656711   \n",
       "\n",
       "            2feee653-15e9-4c38-b7a2-96fe26f50c9f  \\\n",
       "other                                   0.639613   \n",
       "bisexual                                0.639613   \n",
       "straight                                0.639613   \n",
       "homosexual                              0.639613   \n",
       "\n",
       "            434ddba0-393a-424d-9c14-4837d454a221  \\\n",
       "other                                   0.769817   \n",
       "bisexual                                0.815220   \n",
       "straight                                0.769817   \n",
       "homosexual                              0.769817   \n",
       "\n",
       "            a004f55d-03b1-4058-919a-6e6531aaf32f  \n",
       "other                                   0.707447  \n",
       "bisexual                                0.707447  \n",
       "straight                                0.707447  \n",
       "homosexual                              0.707447  "
      ]
     },
     "execution_count": 7,
     "metadata": {},
     "output_type": "execute_result"
    }
   ],
   "source": [
    "tasks.run_helper.results(\n",
    "    df,\n",
    "    discussion_id_col=\"conv_id\",\n",
    "    sdb_column=\"annot_sexual_orientation\",\n",
    "    value_col=\"toxicity\",\n",
    "    comment_key_col=\"comment_key\",\n",
    ")"
   ]
  },
  {
   "cell_type": "code",
   "execution_count": 8,
   "metadata": {},
   "outputs": [
    {
     "data": {
      "application/vnd.jupyter.widget-view+json": {
       "model_id": "4a5942ac1f8f48f8847aaec84b1941ca",
       "version_major": 2,
       "version_minor": 0
      },
      "text/plain": [
       "  0%|          | 0/4 [00:00<?, ?it/s]"
      ]
     },
     "metadata": {},
     "output_type": "display_data"
    },
    {
     "data": {
      "text/html": [
       "<div>\n",
       "<style scoped>\n",
       "    .dataframe tbody tr th:only-of-type {\n",
       "        vertical-align: middle;\n",
       "    }\n",
       "\n",
       "    .dataframe tbody tr th {\n",
       "        vertical-align: top;\n",
       "    }\n",
       "\n",
       "    .dataframe thead th {\n",
       "        text-align: right;\n",
       "    }\n",
       "</style>\n",
       "<table border=\"1\" class=\"dataframe\">\n",
       "  <thead>\n",
       "    <tr style=\"text-align: right;\">\n",
       "      <th></th>\n",
       "      <th>250cc245-86c4-4e97-a8ce-31d5d6796f71</th>\n",
       "      <th>2feee653-15e9-4c38-b7a2-96fe26f50c9f</th>\n",
       "      <th>434ddba0-393a-424d-9c14-4837d454a221</th>\n",
       "      <th>a004f55d-03b1-4058-919a-6e6531aaf32f</th>\n",
       "    </tr>\n",
       "  </thead>\n",
       "  <tbody>\n",
       "    <tr>\n",
       "      <th>blue-collar</th>\n",
       "      <td>0.699793</td>\n",
       "      <td>0.790293</td>\n",
       "      <td>0.592288</td>\n",
       "      <td>0.659505</td>\n",
       "    </tr>\n",
       "    <tr>\n",
       "      <th>unemployed</th>\n",
       "      <td>0.699793</td>\n",
       "      <td>0.790293</td>\n",
       "      <td>0.592288</td>\n",
       "      <td>0.659893</td>\n",
       "    </tr>\n",
       "    <tr>\n",
       "      <th>white-collar</th>\n",
       "      <td>0.699793</td>\n",
       "      <td>0.790293</td>\n",
       "      <td>0.592288</td>\n",
       "      <td>0.659505</td>\n",
       "    </tr>\n",
       "  </tbody>\n",
       "</table>\n",
       "</div>"
      ],
      "text/plain": [
       "              250cc245-86c4-4e97-a8ce-31d5d6796f71  \\\n",
       "blue-collar                               0.699793   \n",
       "unemployed                                0.699793   \n",
       "white-collar                              0.699793   \n",
       "\n",
       "              2feee653-15e9-4c38-b7a2-96fe26f50c9f  \\\n",
       "blue-collar                               0.790293   \n",
       "unemployed                                0.790293   \n",
       "white-collar                              0.790293   \n",
       "\n",
       "              434ddba0-393a-424d-9c14-4837d454a221  \\\n",
       "blue-collar                               0.592288   \n",
       "unemployed                                0.592288   \n",
       "white-collar                              0.592288   \n",
       "\n",
       "              a004f55d-03b1-4058-919a-6e6531aaf32f  \n",
       "blue-collar                               0.659505  \n",
       "unemployed                                0.659893  \n",
       "white-collar                              0.659505  "
      ]
     },
     "execution_count": 8,
     "metadata": {},
     "output_type": "execute_result"
    }
   ],
   "source": [
    "tasks.run_helper.results(\n",
    "    df,\n",
    "    discussion_id_col=\"conv_id\",\n",
    "    sdb_column=\"annot_current_employment\",\n",
    "    value_col=\"toxicity\",\n",
    "    comment_key_col=\"comment_key\",\n",
    ")"
   ]
  },
  {
   "cell_type": "code",
   "execution_count": 9,
   "metadata": {},
   "outputs": [
    {
     "data": {
      "application/vnd.jupyter.widget-view+json": {
       "model_id": "5f0c4a8db42345f38598aec6358bcd73",
       "version_major": 2,
       "version_minor": 0
      },
      "text/plain": [
       "  0%|          | 0/4 [00:00<?, ?it/s]"
      ]
     },
     "metadata": {},
     "output_type": "display_data"
    },
    {
     "data": {
      "text/html": [
       "<div>\n",
       "<style scoped>\n",
       "    .dataframe tbody tr th:only-of-type {\n",
       "        vertical-align: middle;\n",
       "    }\n",
       "\n",
       "    .dataframe tbody tr th {\n",
       "        vertical-align: top;\n",
       "    }\n",
       "\n",
       "    .dataframe thead th {\n",
       "        text-align: right;\n",
       "    }\n",
       "</style>\n",
       "<table border=\"1\" class=\"dataframe\">\n",
       "  <thead>\n",
       "    <tr style=\"text-align: right;\">\n",
       "      <th></th>\n",
       "      <th>250cc245-86c4-4e97-a8ce-31d5d6796f71</th>\n",
       "      <th>2feee653-15e9-4c38-b7a2-96fe26f50c9f</th>\n",
       "      <th>434ddba0-393a-424d-9c14-4837d454a221</th>\n",
       "      <th>a004f55d-03b1-4058-919a-6e6531aaf32f</th>\n",
       "    </tr>\n",
       "  </thead>\n",
       "  <tbody>\n",
       "    <tr>\n",
       "      <th>university</th>\n",
       "      <td>0.671388</td>\n",
       "      <td>0.681806</td>\n",
       "      <td>0.555444</td>\n",
       "      <td>0.645428</td>\n",
       "    </tr>\n",
       "    <tr>\n",
       "      <th>none</th>\n",
       "      <td>0.671388</td>\n",
       "      <td>0.681806</td>\n",
       "      <td>0.555444</td>\n",
       "      <td>0.645428</td>\n",
       "    </tr>\n",
       "    <tr>\n",
       "      <th>high-school</th>\n",
       "      <td>0.671388</td>\n",
       "      <td>0.681806</td>\n",
       "      <td>0.555444</td>\n",
       "      <td>0.645428</td>\n",
       "    </tr>\n",
       "  </tbody>\n",
       "</table>\n",
       "</div>"
      ],
      "text/plain": [
       "             250cc245-86c4-4e97-a8ce-31d5d6796f71  \\\n",
       "university                               0.671388   \n",
       "none                                     0.671388   \n",
       "high-school                              0.671388   \n",
       "\n",
       "             2feee653-15e9-4c38-b7a2-96fe26f50c9f  \\\n",
       "university                               0.681806   \n",
       "none                                     0.681806   \n",
       "high-school                              0.681806   \n",
       "\n",
       "             434ddba0-393a-424d-9c14-4837d454a221  \\\n",
       "university                               0.555444   \n",
       "none                                     0.555444   \n",
       "high-school                              0.555444   \n",
       "\n",
       "             a004f55d-03b1-4058-919a-6e6531aaf32f  \n",
       "university                               0.645428  \n",
       "none                                     0.645428  \n",
       "high-school                              0.645428  "
      ]
     },
     "execution_count": 9,
     "metadata": {},
     "output_type": "execute_result"
    }
   ],
   "source": [
    "tasks.run_helper.results(\n",
    "    df,\n",
    "    discussion_id_col=\"conv_id\",\n",
    "    sdb_column=\"annot_education_level\",\n",
    "    value_col=\"toxicity\",\n",
    "    comment_key_col=\"comment_key\",\n",
    ")"
   ]
  },
  {
   "cell_type": "code",
   "execution_count": 10,
   "metadata": {},
   "outputs": [
    {
     "data": {
      "application/vnd.jupyter.widget-view+json": {
       "model_id": "4a9435f917d644c497af3712385bb234",
       "version_major": 2,
       "version_minor": 0
      },
      "text/plain": [
       "  0%|          | 0/4 [00:00<?, ?it/s]"
      ]
     },
     "metadata": {},
     "output_type": "display_data"
    },
    {
     "data": {
      "text/html": [
       "<div>\n",
       "<style scoped>\n",
       "    .dataframe tbody tr th:only-of-type {\n",
       "        vertical-align: middle;\n",
       "    }\n",
       "\n",
       "    .dataframe tbody tr th {\n",
       "        vertical-align: top;\n",
       "    }\n",
       "\n",
       "    .dataframe thead th {\n",
       "        text-align: right;\n",
       "    }\n",
       "</style>\n",
       "<table border=\"1\" class=\"dataframe\">\n",
       "  <thead>\n",
       "    <tr style=\"text-align: right;\">\n",
       "      <th></th>\n",
       "      <th>250cc245-86c4-4e97-a8ce-31d5d6796f71</th>\n",
       "      <th>2feee653-15e9-4c38-b7a2-96fe26f50c9f</th>\n",
       "      <th>434ddba0-393a-424d-9c14-4837d454a221</th>\n",
       "      <th>a004f55d-03b1-4058-919a-6e6531aaf32f</th>\n",
       "    </tr>\n",
       "  </thead>\n",
       "  <tbody>\n",
       "    <tr>\n",
       "      <th>apolitical</th>\n",
       "      <td>0.689051</td>\n",
       "      <td>0.704479</td>\n",
       "      <td>0.637364</td>\n",
       "      <td>0.75252</td>\n",
       "    </tr>\n",
       "    <tr>\n",
       "      <th>right-wing conservative</th>\n",
       "      <td>0.817189</td>\n",
       "      <td>0.704479</td>\n",
       "      <td>0.637364</td>\n",
       "      <td>0.75252</td>\n",
       "    </tr>\n",
       "    <tr>\n",
       "      <th>left-wing liberal</th>\n",
       "      <td>0.689051</td>\n",
       "      <td>0.704479</td>\n",
       "      <td>0.637364</td>\n",
       "      <td>0.75252</td>\n",
       "    </tr>\n",
       "  </tbody>\n",
       "</table>\n",
       "</div>"
      ],
      "text/plain": [
       "                         250cc245-86c4-4e97-a8ce-31d5d6796f71  \\\n",
       "apolitical                                           0.689051   \n",
       "right-wing conservative                              0.817189   \n",
       "left-wing liberal                                    0.689051   \n",
       "\n",
       "                         2feee653-15e9-4c38-b7a2-96fe26f50c9f  \\\n",
       "apolitical                                           0.704479   \n",
       "right-wing conservative                              0.704479   \n",
       "left-wing liberal                                    0.704479   \n",
       "\n",
       "                         434ddba0-393a-424d-9c14-4837d454a221  \\\n",
       "apolitical                                           0.637364   \n",
       "right-wing conservative                              0.637364   \n",
       "left-wing liberal                                    0.637364   \n",
       "\n",
       "                         a004f55d-03b1-4058-919a-6e6531aaf32f  \n",
       "apolitical                                            0.75252  \n",
       "right-wing conservative                               0.75252  \n",
       "left-wing liberal                                     0.75252  "
      ]
     },
     "execution_count": 10,
     "metadata": {},
     "output_type": "execute_result"
    }
   ],
   "source": [
    "tasks.run_helper.results(\n",
    "    df,\n",
    "    discussion_id_col=\"conv_id\",\n",
    "    sdb_column=\"annot_politics\",\n",
    "    value_col=\"toxicity\",\n",
    "    comment_key_col=\"comment_key\",\n",
    ")"
   ]
  },
  {
   "cell_type": "markdown",
   "metadata": {},
   "source": [
    "## Unified dataset"
   ]
  },
  {
   "cell_type": "code",
   "execution_count": 11,
   "metadata": {},
   "outputs": [
    {
     "data": {
      "application/vnd.jupyter.widget-view+json": {
       "model_id": "c3dbedfabc0f46ecb4a479731fce73ea",
       "version_major": 2,
       "version_minor": 0
      },
      "text/plain": [
       "  0%|          | 0/1 [00:00<?, ?it/s]"
      ]
     },
     "metadata": {},
     "output_type": "display_data"
    },
    {
     "data": {
      "text/html": [
       "<div>\n",
       "<style scoped>\n",
       "    .dataframe tbody tr th:only-of-type {\n",
       "        vertical-align: middle;\n",
       "    }\n",
       "\n",
       "    .dataframe tbody tr th {\n",
       "        vertical-align: top;\n",
       "    }\n",
       "\n",
       "    .dataframe thead th {\n",
       "        text-align: right;\n",
       "    }\n",
       "</style>\n",
       "<table border=\"1\" class=\"dataframe\">\n",
       "  <thead>\n",
       "    <tr style=\"text-align: right;\">\n",
       "      <th></th>\n",
       "      <th>1</th>\n",
       "    </tr>\n",
       "  </thead>\n",
       "  <tbody>\n",
       "    <tr>\n",
       "      <th>(69.75, 88.0]</th>\n",
       "      <td>0.569606</td>\n",
       "    </tr>\n",
       "    <tr>\n",
       "      <th>(33.25, 51.5]</th>\n",
       "      <td>0.569606</td>\n",
       "    </tr>\n",
       "    <tr>\n",
       "      <th>(51.5, 69.75]</th>\n",
       "      <td>0.569606</td>\n",
       "    </tr>\n",
       "    <tr>\n",
       "      <th>(14.927, 33.25]</th>\n",
       "      <td>0.569606</td>\n",
       "    </tr>\n",
       "  </tbody>\n",
       "</table>\n",
       "</div>"
      ],
      "text/plain": [
       "                        1\n",
       "(69.75, 88.0]    0.569606\n",
       "(33.25, 51.5]    0.569606\n",
       "(51.5, 69.75]    0.569606\n",
       "(14.927, 33.25]  0.569606"
      ]
     },
     "execution_count": 11,
     "metadata": {},
     "output_type": "execute_result"
    }
   ],
   "source": [
    "tasks.run_helper.results(\n",
    "    df,\n",
    "    discussion_id_col=\"fake_index\",\n",
    "    sdb_column=\"annot_age\",\n",
    "    value_col=\"toxicity\",\n",
    "    comment_key_col=\"comment_key\",\n",
    ")"
   ]
  },
  {
   "cell_type": "code",
   "execution_count": 12,
   "metadata": {},
   "outputs": [
    {
     "data": {
      "application/vnd.jupyter.widget-view+json": {
       "model_id": "9d7368dfe4a04a4fb0ffba4733f32a0e",
       "version_major": 2,
       "version_minor": 0
      },
      "text/plain": [
       "  0%|          | 0/1 [00:00<?, ?it/s]"
      ]
     },
     "metadata": {},
     "output_type": "display_data"
    },
    {
     "data": {
      "text/html": [
       "<div>\n",
       "<style scoped>\n",
       "    .dataframe tbody tr th:only-of-type {\n",
       "        vertical-align: middle;\n",
       "    }\n",
       "\n",
       "    .dataframe tbody tr th {\n",
       "        vertical-align: top;\n",
       "    }\n",
       "\n",
       "    .dataframe thead th {\n",
       "        text-align: right;\n",
       "    }\n",
       "</style>\n",
       "<table border=\"1\" class=\"dataframe\">\n",
       "  <thead>\n",
       "    <tr style=\"text-align: right;\">\n",
       "      <th></th>\n",
       "      <th>1</th>\n",
       "    </tr>\n",
       "  </thead>\n",
       "  <tbody>\n",
       "    <tr>\n",
       "      <th>male</th>\n",
       "      <td>0.749321</td>\n",
       "    </tr>\n",
       "    <tr>\n",
       "      <th>non-binary</th>\n",
       "      <td>0.963462</td>\n",
       "    </tr>\n",
       "    <tr>\n",
       "      <th>female</th>\n",
       "      <td>0.749321</td>\n",
       "    </tr>\n",
       "  </tbody>\n",
       "</table>\n",
       "</div>"
      ],
      "text/plain": [
       "                   1\n",
       "male        0.749321\n",
       "non-binary  0.963462\n",
       "female      0.749321"
      ]
     },
     "execution_count": 12,
     "metadata": {},
     "output_type": "execute_result"
    }
   ],
   "source": [
    "tasks.run_helper.results(\n",
    "    df,\n",
    "    discussion_id_col=\"fake_index\",\n",
    "    sdb_column=\"annot_sex\",\n",
    "    value_col=\"toxicity\",\n",
    "    comment_key_col=\"comment_key\",\n",
    ")"
   ]
  },
  {
   "cell_type": "code",
   "execution_count": 13,
   "metadata": {},
   "outputs": [
    {
     "data": {
      "application/vnd.jupyter.widget-view+json": {
       "model_id": "db2a6695fa5d4d4e96fe8c9717cc53a1",
       "version_major": 2,
       "version_minor": 0
      },
      "text/plain": [
       "  0%|          | 0/1 [00:00<?, ?it/s]"
      ]
     },
     "metadata": {},
     "output_type": "display_data"
    },
    {
     "data": {
      "text/html": [
       "<div>\n",
       "<style scoped>\n",
       "    .dataframe tbody tr th:only-of-type {\n",
       "        vertical-align: middle;\n",
       "    }\n",
       "\n",
       "    .dataframe tbody tr th {\n",
       "        vertical-align: top;\n",
       "    }\n",
       "\n",
       "    .dataframe thead th {\n",
       "        text-align: right;\n",
       "    }\n",
       "</style>\n",
       "<table border=\"1\" class=\"dataframe\">\n",
       "  <thead>\n",
       "    <tr style=\"text-align: right;\">\n",
       "      <th></th>\n",
       "      <th>1</th>\n",
       "    </tr>\n",
       "  </thead>\n",
       "  <tbody>\n",
       "    <tr>\n",
       "      <th>other</th>\n",
       "      <td>0.731496</td>\n",
       "    </tr>\n",
       "    <tr>\n",
       "      <th>black</th>\n",
       "      <td>0.731496</td>\n",
       "    </tr>\n",
       "    <tr>\n",
       "      <th>asian</th>\n",
       "      <td>0.731496</td>\n",
       "    </tr>\n",
       "    <tr>\n",
       "      <th>white</th>\n",
       "      <td>0.731496</td>\n",
       "    </tr>\n",
       "  </tbody>\n",
       "</table>\n",
       "</div>"
      ],
      "text/plain": [
       "              1\n",
       "other  0.731496\n",
       "black  0.731496\n",
       "asian  0.731496\n",
       "white  0.731496"
      ]
     },
     "execution_count": 13,
     "metadata": {},
     "output_type": "execute_result"
    }
   ],
   "source": [
    "tasks.run_helper.results(\n",
    "    df,\n",
    "    discussion_id_col=\"fake_index\",\n",
    "    sdb_column=\"annot_demographic_group\",\n",
    "    value_col=\"toxicity\",\n",
    "    comment_key_col=\"comment_key\",\n",
    ")"
   ]
  },
  {
   "cell_type": "code",
   "execution_count": 14,
   "metadata": {},
   "outputs": [
    {
     "data": {
      "application/vnd.jupyter.widget-view+json": {
       "model_id": "c88dc711e0ab4341b5be7681ab8cb0b5",
       "version_major": 2,
       "version_minor": 0
      },
      "text/plain": [
       "  0%|          | 0/1 [00:00<?, ?it/s]"
      ]
     },
     "metadata": {},
     "output_type": "display_data"
    },
    {
     "data": {
      "text/html": [
       "<div>\n",
       "<style scoped>\n",
       "    .dataframe tbody tr th:only-of-type {\n",
       "        vertical-align: middle;\n",
       "    }\n",
       "\n",
       "    .dataframe tbody tr th {\n",
       "        vertical-align: top;\n",
       "    }\n",
       "\n",
       "    .dataframe thead th {\n",
       "        text-align: right;\n",
       "    }\n",
       "</style>\n",
       "<table border=\"1\" class=\"dataframe\">\n",
       "  <thead>\n",
       "    <tr style=\"text-align: right;\">\n",
       "      <th></th>\n",
       "      <th>1</th>\n",
       "    </tr>\n",
       "  </thead>\n",
       "  <tbody>\n",
       "    <tr>\n",
       "      <th>other</th>\n",
       "      <td>0.740387</td>\n",
       "    </tr>\n",
       "    <tr>\n",
       "      <th>bisexual</th>\n",
       "      <td>0.807067</td>\n",
       "    </tr>\n",
       "    <tr>\n",
       "      <th>straight</th>\n",
       "      <td>0.740387</td>\n",
       "    </tr>\n",
       "    <tr>\n",
       "      <th>homosexual</th>\n",
       "      <td>0.740387</td>\n",
       "    </tr>\n",
       "  </tbody>\n",
       "</table>\n",
       "</div>"
      ],
      "text/plain": [
       "                   1\n",
       "other       0.740387\n",
       "bisexual    0.807067\n",
       "straight    0.740387\n",
       "homosexual  0.740387"
      ]
     },
     "execution_count": 14,
     "metadata": {},
     "output_type": "execute_result"
    }
   ],
   "source": [
    "tasks.run_helper.results(\n",
    "    df,\n",
    "    discussion_id_col=\"fake_index\",\n",
    "    sdb_column=\"annot_sexual_orientation\",\n",
    "    value_col=\"toxicity\",\n",
    "    comment_key_col=\"comment_key\",\n",
    ")"
   ]
  },
  {
   "cell_type": "code",
   "execution_count": 15,
   "metadata": {},
   "outputs": [
    {
     "data": {
      "application/vnd.jupyter.widget-view+json": {
       "model_id": "96ffe68d17184e72af6e18fbaba9e0f7",
       "version_major": 2,
       "version_minor": 0
      },
      "text/plain": [
       "  0%|          | 0/1 [00:00<?, ?it/s]"
      ]
     },
     "metadata": {},
     "output_type": "display_data"
    },
    {
     "data": {
      "text/html": [
       "<div>\n",
       "<style scoped>\n",
       "    .dataframe tbody tr th:only-of-type {\n",
       "        vertical-align: middle;\n",
       "    }\n",
       "\n",
       "    .dataframe tbody tr th {\n",
       "        vertical-align: top;\n",
       "    }\n",
       "\n",
       "    .dataframe thead th {\n",
       "        text-align: right;\n",
       "    }\n",
       "</style>\n",
       "<table border=\"1\" class=\"dataframe\">\n",
       "  <thead>\n",
       "    <tr style=\"text-align: right;\">\n",
       "      <th></th>\n",
       "      <th>1</th>\n",
       "    </tr>\n",
       "  </thead>\n",
       "  <tbody>\n",
       "    <tr>\n",
       "      <th>blue-collar</th>\n",
       "      <td>0.613159</td>\n",
       "    </tr>\n",
       "    <tr>\n",
       "      <th>unemployed</th>\n",
       "      <td>0.613159</td>\n",
       "    </tr>\n",
       "    <tr>\n",
       "      <th>white-collar</th>\n",
       "      <td>0.613159</td>\n",
       "    </tr>\n",
       "  </tbody>\n",
       "</table>\n",
       "</div>"
      ],
      "text/plain": [
       "                     1\n",
       "blue-collar   0.613159\n",
       "unemployed    0.613159\n",
       "white-collar  0.613159"
      ]
     },
     "execution_count": 15,
     "metadata": {},
     "output_type": "execute_result"
    }
   ],
   "source": [
    "tasks.run_helper.results(\n",
    "    df,\n",
    "    discussion_id_col=\"fake_index\",\n",
    "    sdb_column=\"annot_current_employment\",\n",
    "    value_col=\"toxicity\",\n",
    "    comment_key_col=\"comment_key\",\n",
    ")"
   ]
  },
  {
   "cell_type": "code",
   "execution_count": 16,
   "metadata": {},
   "outputs": [
    {
     "data": {
      "application/vnd.jupyter.widget-view+json": {
       "model_id": "d16599840a7a4326ab3b7366092a5911",
       "version_major": 2,
       "version_minor": 0
      },
      "text/plain": [
       "  0%|          | 0/1 [00:00<?, ?it/s]"
      ]
     },
     "metadata": {},
     "output_type": "display_data"
    },
    {
     "data": {
      "text/html": [
       "<div>\n",
       "<style scoped>\n",
       "    .dataframe tbody tr th:only-of-type {\n",
       "        vertical-align: middle;\n",
       "    }\n",
       "\n",
       "    .dataframe tbody tr th {\n",
       "        vertical-align: top;\n",
       "    }\n",
       "\n",
       "    .dataframe thead th {\n",
       "        text-align: right;\n",
       "    }\n",
       "</style>\n",
       "<table border=\"1\" class=\"dataframe\">\n",
       "  <thead>\n",
       "    <tr style=\"text-align: right;\">\n",
       "      <th></th>\n",
       "      <th>1</th>\n",
       "    </tr>\n",
       "  </thead>\n",
       "  <tbody>\n",
       "    <tr>\n",
       "      <th>university</th>\n",
       "      <td>0.643926</td>\n",
       "    </tr>\n",
       "    <tr>\n",
       "      <th>none</th>\n",
       "      <td>0.643926</td>\n",
       "    </tr>\n",
       "    <tr>\n",
       "      <th>high-school</th>\n",
       "      <td>0.643926</td>\n",
       "    </tr>\n",
       "  </tbody>\n",
       "</table>\n",
       "</div>"
      ],
      "text/plain": [
       "                    1\n",
       "university   0.643926\n",
       "none         0.643926\n",
       "high-school  0.643926"
      ]
     },
     "execution_count": 16,
     "metadata": {},
     "output_type": "execute_result"
    }
   ],
   "source": [
    "tasks.run_helper.results(\n",
    "    df,\n",
    "    discussion_id_col=\"fake_index\",\n",
    "    sdb_column=\"annot_education_level\",\n",
    "    value_col=\"toxicity\",\n",
    "    comment_key_col=\"comment_key\",\n",
    ")"
   ]
  },
  {
   "cell_type": "code",
   "execution_count": 17,
   "metadata": {},
   "outputs": [
    {
     "data": {
      "application/vnd.jupyter.widget-view+json": {
       "model_id": "40ec9da7038c4210a93673fc1681302c",
       "version_major": 2,
       "version_minor": 0
      },
      "text/plain": [
       "  0%|          | 0/1 [00:00<?, ?it/s]"
      ]
     },
     "metadata": {},
     "output_type": "display_data"
    },
    {
     "data": {
      "text/html": [
       "<div>\n",
       "<style scoped>\n",
       "    .dataframe tbody tr th:only-of-type {\n",
       "        vertical-align: middle;\n",
       "    }\n",
       "\n",
       "    .dataframe tbody tr th {\n",
       "        vertical-align: top;\n",
       "    }\n",
       "\n",
       "    .dataframe thead th {\n",
       "        text-align: right;\n",
       "    }\n",
       "</style>\n",
       "<table border=\"1\" class=\"dataframe\">\n",
       "  <thead>\n",
       "    <tr style=\"text-align: right;\">\n",
       "      <th></th>\n",
       "      <th>1</th>\n",
       "    </tr>\n",
       "  </thead>\n",
       "  <tbody>\n",
       "    <tr>\n",
       "      <th>apolitical</th>\n",
       "      <td>0.637681</td>\n",
       "    </tr>\n",
       "    <tr>\n",
       "      <th>right-wing conservative</th>\n",
       "      <td>0.637681</td>\n",
       "    </tr>\n",
       "    <tr>\n",
       "      <th>left-wing liberal</th>\n",
       "      <td>0.637681</td>\n",
       "    </tr>\n",
       "  </tbody>\n",
       "</table>\n",
       "</div>"
      ],
      "text/plain": [
       "                                1\n",
       "apolitical               0.637681\n",
       "right-wing conservative  0.637681\n",
       "left-wing liberal        0.637681"
      ]
     },
     "execution_count": 17,
     "metadata": {},
     "output_type": "execute_result"
    }
   ],
   "source": [
    "tasks.run_helper.results(\n",
    "    df,\n",
    "    discussion_id_col=\"fake_index\",\n",
    "    sdb_column=\"annot_politics\",\n",
    "    value_col=\"toxicity\",\n",
    "    comment_key_col=\"comment_key\",\n",
    ")"
   ]
  }
 ],
 "metadata": {
  "kernelspec": {
   "display_name": "std",
   "language": "python",
   "name": "python3"
  },
  "language_info": {
   "codemirror_mode": {
    "name": "ipython",
    "version": 3
   },
   "file_extension": ".py",
   "mimetype": "text/x-python",
   "name": "python",
   "nbconvert_exporter": "python",
   "pygments_lexer": "ipython3",
   "version": "3.11.7"
  }
 },
 "nbformat": 4,
 "nbformat_minor": 2
}
