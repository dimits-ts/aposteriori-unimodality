{
 "cells": [
  {
   "cell_type": "code",
   "execution_count": 1,
   "metadata": {},
   "outputs": [],
   "source": [
    "import sys\n",
    "\n",
    "# IT'S 2025 WHY HASN'T SOMEONE FIXED THIS\n",
    "if \"..\" not in sys.path:\n",
    "    sys.path.insert(0, \"..\")\n",
    "    \n",
    "import pandas as pd\n",
    "import numpy as np\n",
    "import ast\n",
    "\n",
    "import tasks.run_helper"
   ]
  },
  {
   "cell_type": "code",
   "execution_count": 2,
   "metadata": {},
   "outputs": [
    {
     "data": {
      "text/html": [
       "<div>\n",
       "<style scoped>\n",
       "    .dataframe tbody tr th:only-of-type {\n",
       "        vertical-align: middle;\n",
       "    }\n",
       "\n",
       "    .dataframe tbody tr th {\n",
       "        vertical-align: top;\n",
       "    }\n",
       "\n",
       "    .dataframe thead th {\n",
       "        text-align: right;\n",
       "    }\n",
       "</style>\n",
       "<table border=\"1\" class=\"dataframe\">\n",
       "  <thead>\n",
       "    <tr style=\"text-align: right;\">\n",
       "      <th></th>\n",
       "      <th></th>\n",
       "      <th></th>\n",
       "      <th></th>\n",
       "      <th>toxicity</th>\n",
       "      <th>annot_age</th>\n",
       "      <th>annot_sex</th>\n",
       "      <th>annot_sexual_orientation</th>\n",
       "      <th>annot_demographic_group</th>\n",
       "      <th>annot_current_employment</th>\n",
       "      <th>annot_education_level</th>\n",
       "      <th>annot_politics</th>\n",
       "      <th>fake_index</th>\n",
       "    </tr>\n",
       "    <tr>\n",
       "      <th>conv_id</th>\n",
       "      <th>message_id</th>\n",
       "      <th>comment_key</th>\n",
       "      <th>message</th>\n",
       "      <th></th>\n",
       "      <th></th>\n",
       "      <th></th>\n",
       "      <th></th>\n",
       "      <th></th>\n",
       "      <th></th>\n",
       "      <th></th>\n",
       "      <th></th>\n",
       "      <th></th>\n",
       "    </tr>\n",
       "  </thead>\n",
       "  <tbody>\n",
       "    <tr>\n",
       "      <th>250cc245-86c4-4e97-a8ce-31d5d6796f71</th>\n",
       "      <th>-1428289379724132680</th>\n",
       "      <th>250cc245-86c4-4e97-a8ce-31d5d6796f71-1428289379724132680</th>\n",
       "      <th>well thats a no brainer hillary clinton gave huma abdein a security clearance when she has ties to a known terrorist group the muslim brotherhood, and her mother runs an anti american news paper in the middle east, debbie washed up crook shultz got the awan famaily security clearances and they were recent immigrants, had absolutely no IT experience and possible ties to terrorist groups in pakistan. its pretty clear our liberal ran government is a complete and total failure when it comes to national security. 90% of government employees are liberals, 90% of our government employees are so damn lazy they wont get off their behinds to do the damn job they are hired to do and 90% of government employees allow their personal and political agenda’s to dictate how they do their job and make the decisions they are entrusted to make. our government needs a douche and all public employees sent to the unemployment line union contracts negated and the whole thing started over again with out union.\\n</th>\n",
       "      <td>[5, 5, 5, 5, 5, 5, 5, 5, 5, 5, 5, 5, 5, 5, 5, ...</td>\n",
       "      <td>[(69.75, 88.0], (33.25, 51.5], (69.75, 88.0], ...</td>\n",
       "      <td>[female, non-binary, female, male, male, male,...</td>\n",
       "      <td>[homosexual, straight, straight, straight, bis...</td>\n",
       "      <td>[black, white, asian, other, asian, other, asi...</td>\n",
       "      <td>[blue-collar, white-collar, unemployed, white-...</td>\n",
       "      <td>[university, none, university, none, universit...</td>\n",
       "      <td>[right-wing conservative, right-wing conservat...</td>\n",
       "      <td>1</td>\n",
       "    </tr>\n",
       "  </tbody>\n",
       "</table>\n",
       "</div>"
      ],
      "text/plain": [
       "                                                                                                                                                                                                          toxicity  \\\n",
       "conv_id                              message_id           comment_key                                        message                                                                                                 \n",
       "250cc245-86c4-4e97-a8ce-31d5d6796f71 -1428289379724132680 250cc245-86c4-4e97-a8ce-31d5d6796f71-1428289379... well thats a no brainer hillary clinton gave hu...  [5, 5, 5, 5, 5, 5, 5, 5, 5, 5, 5, 5, 5, 5, 5, ...   \n",
       "\n",
       "                                                                                                                                                                                                         annot_age  \\\n",
       "conv_id                              message_id           comment_key                                        message                                                                                                 \n",
       "250cc245-86c4-4e97-a8ce-31d5d6796f71 -1428289379724132680 250cc245-86c4-4e97-a8ce-31d5d6796f71-1428289379... well thats a no brainer hillary clinton gave hu...  [(69.75, 88.0], (33.25, 51.5], (69.75, 88.0], ...   \n",
       "\n",
       "                                                                                                                                                                                                         annot_sex  \\\n",
       "conv_id                              message_id           comment_key                                        message                                                                                                 \n",
       "250cc245-86c4-4e97-a8ce-31d5d6796f71 -1428289379724132680 250cc245-86c4-4e97-a8ce-31d5d6796f71-1428289379... well thats a no brainer hillary clinton gave hu...  [female, non-binary, female, male, male, male,...   \n",
       "\n",
       "                                                                                                                                                                                          annot_sexual_orientation  \\\n",
       "conv_id                              message_id           comment_key                                        message                                                                                                 \n",
       "250cc245-86c4-4e97-a8ce-31d5d6796f71 -1428289379724132680 250cc245-86c4-4e97-a8ce-31d5d6796f71-1428289379... well thats a no brainer hillary clinton gave hu...  [homosexual, straight, straight, straight, bis...   \n",
       "\n",
       "                                                                                                                                                                                           annot_demographic_group  \\\n",
       "conv_id                              message_id           comment_key                                        message                                                                                                 \n",
       "250cc245-86c4-4e97-a8ce-31d5d6796f71 -1428289379724132680 250cc245-86c4-4e97-a8ce-31d5d6796f71-1428289379... well thats a no brainer hillary clinton gave hu...  [black, white, asian, other, asian, other, asi...   \n",
       "\n",
       "                                                                                                                                                                                          annot_current_employment  \\\n",
       "conv_id                              message_id           comment_key                                        message                                                                                                 \n",
       "250cc245-86c4-4e97-a8ce-31d5d6796f71 -1428289379724132680 250cc245-86c4-4e97-a8ce-31d5d6796f71-1428289379... well thats a no brainer hillary clinton gave hu...  [blue-collar, white-collar, unemployed, white-...   \n",
       "\n",
       "                                                                                                                                                                                             annot_education_level  \\\n",
       "conv_id                              message_id           comment_key                                        message                                                                                                 \n",
       "250cc245-86c4-4e97-a8ce-31d5d6796f71 -1428289379724132680 250cc245-86c4-4e97-a8ce-31d5d6796f71-1428289379... well thats a no brainer hillary clinton gave hu...  [university, none, university, none, universit...   \n",
       "\n",
       "                                                                                                                                                                                                    annot_politics  \\\n",
       "conv_id                              message_id           comment_key                                        message                                                                                                 \n",
       "250cc245-86c4-4e97-a8ce-31d5d6796f71 -1428289379724132680 250cc245-86c4-4e97-a8ce-31d5d6796f71-1428289379... well thats a no brainer hillary clinton gave hu...  [right-wing conservative, right-wing conservat...   \n",
       "\n",
       "                                                                                                                                                                 fake_index  \n",
       "conv_id                              message_id           comment_key                                        message                                                         \n",
       "250cc245-86c4-4e97-a8ce-31d5d6796f71 -1428289379724132680 250cc245-86c4-4e97-a8ce-31d5d6796f71-1428289379... well thats a no brainer hillary clinton gave hu...           1  "
      ]
     },
     "execution_count": 2,
     "metadata": {},
     "output_type": "execute_result"
    }
   ],
   "source": [
    "df = pd.read_csv(\n",
    "    \"../data/100_annotators.csv\",\n",
    "    converters={\"annot_personality_characteristics\": ast.literal_eval},\n",
    ")\n",
    "df[\"toxicity\"] = df.annotation.apply(lambda x: x[-1]).astype(int)\n",
    "df[\"annot_politics\"] = df.annot_personality_characteristics.apply(\n",
    "    lambda x: x[0]\n",
    ")\n",
    "df.annot_age = pd.cut(df.annot_age, bins=4)\n",
    "df.message_id = df.message_id.astype(str)\n",
    "df[\"comment_key\"] = df.conv_id + df.message_id\n",
    "\n",
    "df = df.loc[\n",
    "    :,\n",
    "    [\n",
    "        \"conv_id\",\n",
    "        \"message_id\",\n",
    "        \"comment_key\",\n",
    "        \"message\",\n",
    "        \"toxicity\",\n",
    "        \"annot_age\",\n",
    "        \"annot_sex\",\n",
    "        \"annot_sexual_orientation\",\n",
    "        \"annot_demographic_group\",\n",
    "        \"annot_current_employment\",\n",
    "        \"annot_education_level\",\n",
    "        \"annot_politics\",\n",
    "    ],\n",
    "]\n",
    "df = df.groupby([\"conv_id\", \"message_id\", \"comment_key\", \"message\"]).apply(\n",
    "    lambda x: pd.Series(\n",
    "        {\n",
    "            col: x[col].tolist()\n",
    "            for col in df.columns\n",
    "            if col not in [\"conv_id\", \"message_id\", \"comment_key\", \"message\"]\n",
    "        }\n",
    "    ),\n",
    "    include_groups=False,\n",
    ")\n",
    "df[\"fake_index\"] = 1\n",
    "df.head(1)"
   ]
  },
  {
   "cell_type": "code",
   "execution_count": 3,
   "metadata": {},
   "outputs": [
    {
     "data": {
      "application/vnd.jupyter.widget-view+json": {
       "model_id": "7f28e85fa7ab43798a9dd884e4ee259e",
       "version_major": 2,
       "version_minor": 0
      },
      "text/plain": [
       "  0%|          | 0/4 [00:00<?, ?it/s]"
      ]
     },
     "metadata": {},
     "output_type": "display_data"
    },
    {
     "data": {
      "text/html": [
       "<div>\n",
       "<style scoped>\n",
       "    .dataframe tbody tr th:only-of-type {\n",
       "        vertical-align: middle;\n",
       "    }\n",
       "\n",
       "    .dataframe tbody tr th {\n",
       "        vertical-align: top;\n",
       "    }\n",
       "\n",
       "    .dataframe thead th {\n",
       "        text-align: right;\n",
       "    }\n",
       "</style>\n",
       "<table border=\"1\" class=\"dataframe\">\n",
       "  <thead>\n",
       "    <tr style=\"text-align: right;\">\n",
       "      <th></th>\n",
       "      <th>250cc245-86c4-4e97-a8ce-31d5d6796f71</th>\n",
       "      <th>2feee653-15e9-4c38-b7a2-96fe26f50c9f</th>\n",
       "      <th>434ddba0-393a-424d-9c14-4837d454a221</th>\n",
       "      <th>a004f55d-03b1-4058-919a-6e6531aaf32f</th>\n",
       "    </tr>\n",
       "  </thead>\n",
       "  <tbody>\n",
       "    <tr>\n",
       "      <th>(51.5, 69.75]</th>\n",
       "      <td>0.014477</td>\n",
       "      <td>-0.004609</td>\n",
       "      <td>-0.001542</td>\n",
       "      <td>0.015298</td>\n",
       "    </tr>\n",
       "    <tr>\n",
       "      <th>(14.927, 33.25]</th>\n",
       "      <td>-0.012664</td>\n",
       "      <td>0.015191</td>\n",
       "      <td>0.014854</td>\n",
       "      <td>-0.040938</td>\n",
       "    </tr>\n",
       "    <tr>\n",
       "      <th>(69.75, 88.0]</th>\n",
       "      <td>0.006100</td>\n",
       "      <td>0.009411</td>\n",
       "      <td>0.003992</td>\n",
       "      <td>0.001733</td>\n",
       "    </tr>\n",
       "    <tr>\n",
       "      <th>(33.25, 51.5]</th>\n",
       "      <td>-0.004004</td>\n",
       "      <td>-0.016691</td>\n",
       "      <td>-0.010497</td>\n",
       "      <td>0.028275</td>\n",
       "    </tr>\n",
       "  </tbody>\n",
       "</table>\n",
       "</div>"
      ],
      "text/plain": [
       "                 250cc245-86c4-4e97-a8ce-31d5d6796f71  \\\n",
       "(51.5, 69.75]                                0.014477   \n",
       "(14.927, 33.25]                             -0.012664   \n",
       "(69.75, 88.0]                                0.006100   \n",
       "(33.25, 51.5]                               -0.004004   \n",
       "\n",
       "                 2feee653-15e9-4c38-b7a2-96fe26f50c9f  \\\n",
       "(51.5, 69.75]                               -0.004609   \n",
       "(14.927, 33.25]                              0.015191   \n",
       "(69.75, 88.0]                                0.009411   \n",
       "(33.25, 51.5]                               -0.016691   \n",
       "\n",
       "                 434ddba0-393a-424d-9c14-4837d454a221  \\\n",
       "(51.5, 69.75]                               -0.001542   \n",
       "(14.927, 33.25]                              0.014854   \n",
       "(69.75, 88.0]                                0.003992   \n",
       "(33.25, 51.5]                               -0.010497   \n",
       "\n",
       "                 a004f55d-03b1-4058-919a-6e6531aaf32f  \n",
       "(51.5, 69.75]                                0.015298  \n",
       "(14.927, 33.25]                             -0.040938  \n",
       "(69.75, 88.0]                                0.001733  \n",
       "(33.25, 51.5]                                0.028275  "
      ]
     },
     "execution_count": 3,
     "metadata": {},
     "output_type": "execute_result"
    }
   ],
   "source": [
    "tasks.run_helper.results(\n",
    "    df,\n",
    "    discussion_id_col=\"conv_id\",\n",
    "    sdb_column=\"annot_age\",\n",
    "    value_col=\"toxicity\",\n",
    "    comment_key_col=\"comment_key\",\n",
    ")"
   ]
  },
  {
   "cell_type": "code",
   "execution_count": 4,
   "metadata": {},
   "outputs": [
    {
     "data": {
      "application/vnd.jupyter.widget-view+json": {
       "model_id": "c74ff3126cc34b0fb53a1c5881bb2d4b",
       "version_major": 2,
       "version_minor": 0
      },
      "text/plain": [
       "  0%|          | 0/4 [00:00<?, ?it/s]"
      ]
     },
     "metadata": {},
     "output_type": "display_data"
    },
    {
     "data": {
      "text/html": [
       "<div>\n",
       "<style scoped>\n",
       "    .dataframe tbody tr th:only-of-type {\n",
       "        vertical-align: middle;\n",
       "    }\n",
       "\n",
       "    .dataframe tbody tr th {\n",
       "        vertical-align: top;\n",
       "    }\n",
       "\n",
       "    .dataframe thead th {\n",
       "        text-align: right;\n",
       "    }\n",
       "</style>\n",
       "<table border=\"1\" class=\"dataframe\">\n",
       "  <thead>\n",
       "    <tr style=\"text-align: right;\">\n",
       "      <th></th>\n",
       "      <th>250cc245-86c4-4e97-a8ce-31d5d6796f71</th>\n",
       "      <th>2feee653-15e9-4c38-b7a2-96fe26f50c9f</th>\n",
       "      <th>434ddba0-393a-424d-9c14-4837d454a221</th>\n",
       "      <th>a004f55d-03b1-4058-919a-6e6531aaf32f</th>\n",
       "    </tr>\n",
       "  </thead>\n",
       "  <tbody>\n",
       "    <tr>\n",
       "      <th>non-binary</th>\n",
       "      <td>-0.011347</td>\n",
       "      <td>0.020129</td>\n",
       "      <td>-0.047526</td>\n",
       "      <td>-0.065838</td>\n",
       "    </tr>\n",
       "    <tr>\n",
       "      <th>male</th>\n",
       "      <td>0.001313</td>\n",
       "      <td>-0.001807</td>\n",
       "      <td>0.007015</td>\n",
       "      <td>0.026849</td>\n",
       "    </tr>\n",
       "    <tr>\n",
       "      <th>female</th>\n",
       "      <td>0.000671</td>\n",
       "      <td>-0.004702</td>\n",
       "      <td>0.002654</td>\n",
       "      <td>0.001559</td>\n",
       "    </tr>\n",
       "  </tbody>\n",
       "</table>\n",
       "</div>"
      ],
      "text/plain": [
       "            250cc245-86c4-4e97-a8ce-31d5d6796f71  \\\n",
       "non-binary                             -0.011347   \n",
       "male                                    0.001313   \n",
       "female                                  0.000671   \n",
       "\n",
       "            2feee653-15e9-4c38-b7a2-96fe26f50c9f  \\\n",
       "non-binary                              0.020129   \n",
       "male                                   -0.001807   \n",
       "female                                 -0.004702   \n",
       "\n",
       "            434ddba0-393a-424d-9c14-4837d454a221  \\\n",
       "non-binary                             -0.047526   \n",
       "male                                    0.007015   \n",
       "female                                  0.002654   \n",
       "\n",
       "            a004f55d-03b1-4058-919a-6e6531aaf32f  \n",
       "non-binary                             -0.065838  \n",
       "male                                    0.026849  \n",
       "female                                  0.001559  "
      ]
     },
     "execution_count": 4,
     "metadata": {},
     "output_type": "execute_result"
    }
   ],
   "source": [
    "tasks.run_helper.results(\n",
    "    df,\n",
    "    discussion_id_col=\"conv_id\",\n",
    "    sdb_column=\"annot_sex\",\n",
    "    value_col=\"toxicity\",\n",
    "    comment_key_col=\"comment_key\",\n",
    ")"
   ]
  },
  {
   "cell_type": "code",
   "execution_count": 5,
   "metadata": {},
   "outputs": [
    {
     "data": {
      "application/vnd.jupyter.widget-view+json": {
       "model_id": "d647e546e71c493abb84a4c8247e5f2f",
       "version_major": 2,
       "version_minor": 0
      },
      "text/plain": [
       "  0%|          | 0/4 [00:00<?, ?it/s]"
      ]
     },
     "metadata": {},
     "output_type": "display_data"
    },
    {
     "data": {
      "text/html": [
       "<div>\n",
       "<style scoped>\n",
       "    .dataframe tbody tr th:only-of-type {\n",
       "        vertical-align: middle;\n",
       "    }\n",
       "\n",
       "    .dataframe tbody tr th {\n",
       "        vertical-align: top;\n",
       "    }\n",
       "\n",
       "    .dataframe thead th {\n",
       "        text-align: right;\n",
       "    }\n",
       "</style>\n",
       "<table border=\"1\" class=\"dataframe\">\n",
       "  <thead>\n",
       "    <tr style=\"text-align: right;\">\n",
       "      <th></th>\n",
       "      <th>250cc245-86c4-4e97-a8ce-31d5d6796f71</th>\n",
       "      <th>2feee653-15e9-4c38-b7a2-96fe26f50c9f</th>\n",
       "      <th>434ddba0-393a-424d-9c14-4837d454a221</th>\n",
       "      <th>a004f55d-03b1-4058-919a-6e6531aaf32f</th>\n",
       "    </tr>\n",
       "  </thead>\n",
       "  <tbody>\n",
       "    <tr>\n",
       "      <th>other</th>\n",
       "      <td>-0.000170</td>\n",
       "      <td>0.021420</td>\n",
       "      <td>0.038209</td>\n",
       "      <td>0.013224</td>\n",
       "    </tr>\n",
       "    <tr>\n",
       "      <th>asian</th>\n",
       "      <td>-0.005055</td>\n",
       "      <td>0.003280</td>\n",
       "      <td>-0.033471</td>\n",
       "      <td>-0.001047</td>\n",
       "    </tr>\n",
       "    <tr>\n",
       "      <th>white</th>\n",
       "      <td>0.018281</td>\n",
       "      <td>-0.016823</td>\n",
       "      <td>-0.016615</td>\n",
       "      <td>-0.039265</td>\n",
       "    </tr>\n",
       "    <tr>\n",
       "      <th>black</th>\n",
       "      <td>-0.000291</td>\n",
       "      <td>-0.012082</td>\n",
       "      <td>-0.002108</td>\n",
       "      <td>-0.014922</td>\n",
       "    </tr>\n",
       "  </tbody>\n",
       "</table>\n",
       "</div>"
      ],
      "text/plain": [
       "       250cc245-86c4-4e97-a8ce-31d5d6796f71  \\\n",
       "other                             -0.000170   \n",
       "asian                             -0.005055   \n",
       "white                              0.018281   \n",
       "black                             -0.000291   \n",
       "\n",
       "       2feee653-15e9-4c38-b7a2-96fe26f50c9f  \\\n",
       "other                              0.021420   \n",
       "asian                              0.003280   \n",
       "white                             -0.016823   \n",
       "black                             -0.012082   \n",
       "\n",
       "       434ddba0-393a-424d-9c14-4837d454a221  \\\n",
       "other                              0.038209   \n",
       "asian                             -0.033471   \n",
       "white                             -0.016615   \n",
       "black                             -0.002108   \n",
       "\n",
       "       a004f55d-03b1-4058-919a-6e6531aaf32f  \n",
       "other                              0.013224  \n",
       "asian                             -0.001047  \n",
       "white                             -0.039265  \n",
       "black                             -0.014922  "
      ]
     },
     "execution_count": 5,
     "metadata": {},
     "output_type": "execute_result"
    }
   ],
   "source": [
    "tasks.run_helper.results(\n",
    "    df,\n",
    "    discussion_id_col=\"conv_id\",\n",
    "    sdb_column=\"annot_demographic_group\",\n",
    "    value_col=\"toxicity\",\n",
    "    comment_key_col=\"comment_key\",\n",
    ")"
   ]
  },
  {
   "cell_type": "code",
   "execution_count": 6,
   "metadata": {},
   "outputs": [
    {
     "data": {
      "application/vnd.jupyter.widget-view+json": {
       "model_id": "1d40d60879b34b03b3972083eb0583db",
       "version_major": 2,
       "version_minor": 0
      },
      "text/plain": [
       "  0%|          | 0/4 [00:00<?, ?it/s]"
      ]
     },
     "metadata": {},
     "output_type": "display_data"
    },
    {
     "data": {
      "text/html": [
       "<div>\n",
       "<style scoped>\n",
       "    .dataframe tbody tr th:only-of-type {\n",
       "        vertical-align: middle;\n",
       "    }\n",
       "\n",
       "    .dataframe tbody tr th {\n",
       "        vertical-align: top;\n",
       "    }\n",
       "\n",
       "    .dataframe thead th {\n",
       "        text-align: right;\n",
       "    }\n",
       "</style>\n",
       "<table border=\"1\" class=\"dataframe\">\n",
       "  <thead>\n",
       "    <tr style=\"text-align: right;\">\n",
       "      <th></th>\n",
       "      <th>250cc245-86c4-4e97-a8ce-31d5d6796f71</th>\n",
       "      <th>2feee653-15e9-4c38-b7a2-96fe26f50c9f</th>\n",
       "      <th>434ddba0-393a-424d-9c14-4837d454a221</th>\n",
       "      <th>a004f55d-03b1-4058-919a-6e6531aaf32f</th>\n",
       "    </tr>\n",
       "  </thead>\n",
       "  <tbody>\n",
       "    <tr>\n",
       "      <th>homosexual</th>\n",
       "      <td>0.030096</td>\n",
       "      <td>-0.009012</td>\n",
       "      <td>-0.000344</td>\n",
       "      <td>-0.020070</td>\n",
       "    </tr>\n",
       "    <tr>\n",
       "      <th>straight</th>\n",
       "      <td>-0.003887</td>\n",
       "      <td>-0.002250</td>\n",
       "      <td>-0.006265</td>\n",
       "      <td>0.001182</td>\n",
       "    </tr>\n",
       "    <tr>\n",
       "      <th>bisexual</th>\n",
       "      <td>-0.000337</td>\n",
       "      <td>-0.002880</td>\n",
       "      <td>-0.046005</td>\n",
       "      <td>-0.032262</td>\n",
       "    </tr>\n",
       "    <tr>\n",
       "      <th>other</th>\n",
       "      <td>0.003770</td>\n",
       "      <td>0.019248</td>\n",
       "      <td>0.045700</td>\n",
       "      <td>0.037594</td>\n",
       "    </tr>\n",
       "  </tbody>\n",
       "</table>\n",
       "</div>"
      ],
      "text/plain": [
       "            250cc245-86c4-4e97-a8ce-31d5d6796f71  \\\n",
       "homosexual                              0.030096   \n",
       "straight                               -0.003887   \n",
       "bisexual                               -0.000337   \n",
       "other                                   0.003770   \n",
       "\n",
       "            2feee653-15e9-4c38-b7a2-96fe26f50c9f  \\\n",
       "homosexual                             -0.009012   \n",
       "straight                               -0.002250   \n",
       "bisexual                               -0.002880   \n",
       "other                                   0.019248   \n",
       "\n",
       "            434ddba0-393a-424d-9c14-4837d454a221  \\\n",
       "homosexual                             -0.000344   \n",
       "straight                               -0.006265   \n",
       "bisexual                               -0.046005   \n",
       "other                                   0.045700   \n",
       "\n",
       "            a004f55d-03b1-4058-919a-6e6531aaf32f  \n",
       "homosexual                             -0.020070  \n",
       "straight                                0.001182  \n",
       "bisexual                               -0.032262  \n",
       "other                                   0.037594  "
      ]
     },
     "execution_count": 6,
     "metadata": {},
     "output_type": "execute_result"
    }
   ],
   "source": [
    "tasks.run_helper.results(\n",
    "    df,\n",
    "    discussion_id_col=\"conv_id\",\n",
    "    sdb_column=\"annot_sexual_orientation\",\n",
    "    value_col=\"toxicity\",\n",
    "    comment_key_col=\"comment_key\",\n",
    ")"
   ]
  },
  {
   "cell_type": "code",
   "execution_count": 7,
   "metadata": {},
   "outputs": [
    {
     "data": {
      "application/vnd.jupyter.widget-view+json": {
       "model_id": "897172842a2441d0acf7b602a8af9036",
       "version_major": 2,
       "version_minor": 0
      },
      "text/plain": [
       "  0%|          | 0/4 [00:00<?, ?it/s]"
      ]
     },
     "metadata": {},
     "output_type": "display_data"
    },
    {
     "data": {
      "text/html": [
       "<div>\n",
       "<style scoped>\n",
       "    .dataframe tbody tr th:only-of-type {\n",
       "        vertical-align: middle;\n",
       "    }\n",
       "\n",
       "    .dataframe tbody tr th {\n",
       "        vertical-align: top;\n",
       "    }\n",
       "\n",
       "    .dataframe thead th {\n",
       "        text-align: right;\n",
       "    }\n",
       "</style>\n",
       "<table border=\"1\" class=\"dataframe\">\n",
       "  <thead>\n",
       "    <tr style=\"text-align: right;\">\n",
       "      <th></th>\n",
       "      <th>250cc245-86c4-4e97-a8ce-31d5d6796f71</th>\n",
       "      <th>2feee653-15e9-4c38-b7a2-96fe26f50c9f</th>\n",
       "      <th>434ddba0-393a-424d-9c14-4837d454a221</th>\n",
       "      <th>a004f55d-03b1-4058-919a-6e6531aaf32f</th>\n",
       "    </tr>\n",
       "  </thead>\n",
       "  <tbody>\n",
       "    <tr>\n",
       "      <th>unemployed</th>\n",
       "      <td>0.004161</td>\n",
       "      <td>-0.002923</td>\n",
       "      <td>-0.000120</td>\n",
       "      <td>-0.026297</td>\n",
       "    </tr>\n",
       "    <tr>\n",
       "      <th>white-collar</th>\n",
       "      <td>-0.002012</td>\n",
       "      <td>0.011295</td>\n",
       "      <td>-0.009451</td>\n",
       "      <td>0.018305</td>\n",
       "    </tr>\n",
       "    <tr>\n",
       "      <th>blue-collar</th>\n",
       "      <td>-0.005075</td>\n",
       "      <td>-0.012246</td>\n",
       "      <td>0.009299</td>\n",
       "      <td>0.006263</td>\n",
       "    </tr>\n",
       "  </tbody>\n",
       "</table>\n",
       "</div>"
      ],
      "text/plain": [
       "              250cc245-86c4-4e97-a8ce-31d5d6796f71  \\\n",
       "unemployed                                0.004161   \n",
       "white-collar                             -0.002012   \n",
       "blue-collar                              -0.005075   \n",
       "\n",
       "              2feee653-15e9-4c38-b7a2-96fe26f50c9f  \\\n",
       "unemployed                               -0.002923   \n",
       "white-collar                              0.011295   \n",
       "blue-collar                              -0.012246   \n",
       "\n",
       "              434ddba0-393a-424d-9c14-4837d454a221  \\\n",
       "unemployed                               -0.000120   \n",
       "white-collar                             -0.009451   \n",
       "blue-collar                               0.009299   \n",
       "\n",
       "              a004f55d-03b1-4058-919a-6e6531aaf32f  \n",
       "unemployed                               -0.026297  \n",
       "white-collar                              0.018305  \n",
       "blue-collar                               0.006263  "
      ]
     },
     "execution_count": 7,
     "metadata": {},
     "output_type": "execute_result"
    }
   ],
   "source": [
    "tasks.run_helper.results(\n",
    "    df,\n",
    "    discussion_id_col=\"conv_id\",\n",
    "    sdb_column=\"annot_current_employment\",\n",
    "    value_col=\"toxicity\",\n",
    "    comment_key_col=\"comment_key\",\n",
    ")"
   ]
  },
  {
   "cell_type": "code",
   "execution_count": 8,
   "metadata": {},
   "outputs": [
    {
     "data": {
      "application/vnd.jupyter.widget-view+json": {
       "model_id": "d616de31e4d54894b369c1de9068a301",
       "version_major": 2,
       "version_minor": 0
      },
      "text/plain": [
       "  0%|          | 0/4 [00:00<?, ?it/s]"
      ]
     },
     "metadata": {},
     "output_type": "display_data"
    },
    {
     "data": {
      "text/html": [
       "<div>\n",
       "<style scoped>\n",
       "    .dataframe tbody tr th:only-of-type {\n",
       "        vertical-align: middle;\n",
       "    }\n",
       "\n",
       "    .dataframe tbody tr th {\n",
       "        vertical-align: top;\n",
       "    }\n",
       "\n",
       "    .dataframe thead th {\n",
       "        text-align: right;\n",
       "    }\n",
       "</style>\n",
       "<table border=\"1\" class=\"dataframe\">\n",
       "  <thead>\n",
       "    <tr style=\"text-align: right;\">\n",
       "      <th></th>\n",
       "      <th>250cc245-86c4-4e97-a8ce-31d5d6796f71</th>\n",
       "      <th>2feee653-15e9-4c38-b7a2-96fe26f50c9f</th>\n",
       "      <th>434ddba0-393a-424d-9c14-4837d454a221</th>\n",
       "      <th>a004f55d-03b1-4058-919a-6e6531aaf32f</th>\n",
       "    </tr>\n",
       "  </thead>\n",
       "  <tbody>\n",
       "    <tr>\n",
       "      <th>none</th>\n",
       "      <td>0.008815</td>\n",
       "      <td>0.025435</td>\n",
       "      <td>-0.005972</td>\n",
       "      <td>0.004447</td>\n",
       "    </tr>\n",
       "    <tr>\n",
       "      <th>university</th>\n",
       "      <td>-0.003958</td>\n",
       "      <td>-0.010567</td>\n",
       "      <td>-0.002554</td>\n",
       "      <td>0.000055</td>\n",
       "    </tr>\n",
       "    <tr>\n",
       "      <th>high-school</th>\n",
       "      <td>-0.002595</td>\n",
       "      <td>-0.008473</td>\n",
       "      <td>0.004877</td>\n",
       "      <td>-0.028332</td>\n",
       "    </tr>\n",
       "  </tbody>\n",
       "</table>\n",
       "</div>"
      ],
      "text/plain": [
       "             250cc245-86c4-4e97-a8ce-31d5d6796f71  \\\n",
       "none                                     0.008815   \n",
       "university                              -0.003958   \n",
       "high-school                             -0.002595   \n",
       "\n",
       "             2feee653-15e9-4c38-b7a2-96fe26f50c9f  \\\n",
       "none                                     0.025435   \n",
       "university                              -0.010567   \n",
       "high-school                             -0.008473   \n",
       "\n",
       "             434ddba0-393a-424d-9c14-4837d454a221  \\\n",
       "none                                    -0.005972   \n",
       "university                              -0.002554   \n",
       "high-school                              0.004877   \n",
       "\n",
       "             a004f55d-03b1-4058-919a-6e6531aaf32f  \n",
       "none                                     0.004447  \n",
       "university                               0.000055  \n",
       "high-school                             -0.028332  "
      ]
     },
     "execution_count": 8,
     "metadata": {},
     "output_type": "execute_result"
    }
   ],
   "source": [
    "tasks.run_helper.results(\n",
    "    df,\n",
    "    discussion_id_col=\"conv_id\",\n",
    "    sdb_column=\"annot_education_level\",\n",
    "    value_col=\"toxicity\",\n",
    "    comment_key_col=\"comment_key\",\n",
    ")"
   ]
  },
  {
   "cell_type": "code",
   "execution_count": 9,
   "metadata": {},
   "outputs": [
    {
     "data": {
      "application/vnd.jupyter.widget-view+json": {
       "model_id": "b66b041cccae417e87ac882332821312",
       "version_major": 2,
       "version_minor": 0
      },
      "text/plain": [
       "  0%|          | 0/4 [00:00<?, ?it/s]"
      ]
     },
     "metadata": {},
     "output_type": "display_data"
    },
    {
     "data": {
      "text/html": [
       "<div>\n",
       "<style scoped>\n",
       "    .dataframe tbody tr th:only-of-type {\n",
       "        vertical-align: middle;\n",
       "    }\n",
       "\n",
       "    .dataframe tbody tr th {\n",
       "        vertical-align: top;\n",
       "    }\n",
       "\n",
       "    .dataframe thead th {\n",
       "        text-align: right;\n",
       "    }\n",
       "</style>\n",
       "<table border=\"1\" class=\"dataframe\">\n",
       "  <thead>\n",
       "    <tr style=\"text-align: right;\">\n",
       "      <th></th>\n",
       "      <th>250cc245-86c4-4e97-a8ce-31d5d6796f71</th>\n",
       "      <th>2feee653-15e9-4c38-b7a2-96fe26f50c9f</th>\n",
       "      <th>434ddba0-393a-424d-9c14-4837d454a221</th>\n",
       "      <th>a004f55d-03b1-4058-919a-6e6531aaf32f</th>\n",
       "    </tr>\n",
       "  </thead>\n",
       "  <tbody>\n",
       "    <tr>\n",
       "      <th>left-wing liberal</th>\n",
       "      <td>0.001986</td>\n",
       "      <td>-0.009832</td>\n",
       "      <td>-0.013499</td>\n",
       "      <td>-0.009794</td>\n",
       "    </tr>\n",
       "    <tr>\n",
       "      <th>right-wing conservative</th>\n",
       "      <td>-0.006232</td>\n",
       "      <td>0.034614</td>\n",
       "      <td>-0.000024</td>\n",
       "      <td>-0.047970</td>\n",
       "    </tr>\n",
       "    <tr>\n",
       "      <th>apolitical</th>\n",
       "      <td>0.015690</td>\n",
       "      <td>0.002228</td>\n",
       "      <td>0.035095</td>\n",
       "      <td>0.019042</td>\n",
       "    </tr>\n",
       "  </tbody>\n",
       "</table>\n",
       "</div>"
      ],
      "text/plain": [
       "                         250cc245-86c4-4e97-a8ce-31d5d6796f71  \\\n",
       "left-wing liberal                                    0.001986   \n",
       "right-wing conservative                             -0.006232   \n",
       "apolitical                                           0.015690   \n",
       "\n",
       "                         2feee653-15e9-4c38-b7a2-96fe26f50c9f  \\\n",
       "left-wing liberal                                   -0.009832   \n",
       "right-wing conservative                              0.034614   \n",
       "apolitical                                           0.002228   \n",
       "\n",
       "                         434ddba0-393a-424d-9c14-4837d454a221  \\\n",
       "left-wing liberal                                   -0.013499   \n",
       "right-wing conservative                             -0.000024   \n",
       "apolitical                                           0.035095   \n",
       "\n",
       "                         a004f55d-03b1-4058-919a-6e6531aaf32f  \n",
       "left-wing liberal                                   -0.009794  \n",
       "right-wing conservative                             -0.047970  \n",
       "apolitical                                           0.019042  "
      ]
     },
     "execution_count": 9,
     "metadata": {},
     "output_type": "execute_result"
    }
   ],
   "source": [
    "tasks.run_helper.results(\n",
    "    df,\n",
    "    discussion_id_col=\"conv_id\",\n",
    "    sdb_column=\"annot_politics\",\n",
    "    value_col=\"toxicity\",\n",
    "    comment_key_col=\"comment_key\",\n",
    ")"
   ]
  },
  {
   "cell_type": "markdown",
   "metadata": {},
   "source": [
    "## Unified dataset"
   ]
  },
  {
   "cell_type": "code",
   "execution_count": 10,
   "metadata": {},
   "outputs": [
    {
     "data": {
      "application/vnd.jupyter.widget-view+json": {
       "model_id": "4825fe15043849f3971552e531c41b1d",
       "version_major": 2,
       "version_minor": 0
      },
      "text/plain": [
       "  0%|          | 0/1 [00:00<?, ?it/s]"
      ]
     },
     "metadata": {},
     "output_type": "display_data"
    },
    {
     "data": {
      "text/html": [
       "<div>\n",
       "<style scoped>\n",
       "    .dataframe tbody tr th:only-of-type {\n",
       "        vertical-align: middle;\n",
       "    }\n",
       "\n",
       "    .dataframe tbody tr th {\n",
       "        vertical-align: top;\n",
       "    }\n",
       "\n",
       "    .dataframe thead th {\n",
       "        text-align: right;\n",
       "    }\n",
       "</style>\n",
       "<table border=\"1\" class=\"dataframe\">\n",
       "  <thead>\n",
       "    <tr style=\"text-align: right;\">\n",
       "      <th></th>\n",
       "      <th>1</th>\n",
       "    </tr>\n",
       "  </thead>\n",
       "  <tbody>\n",
       "    <tr>\n",
       "      <th>(51.5, 69.75]</th>\n",
       "      <td>0.004443</td>\n",
       "    </tr>\n",
       "    <tr>\n",
       "      <th>(14.927, 33.25]</th>\n",
       "      <td>-0.004530</td>\n",
       "    </tr>\n",
       "    <tr>\n",
       "      <th>(69.75, 88.0]</th>\n",
       "      <td>0.006843</td>\n",
       "    </tr>\n",
       "    <tr>\n",
       "      <th>(33.25, 51.5]</th>\n",
       "      <td>-0.002460</td>\n",
       "    </tr>\n",
       "  </tbody>\n",
       "</table>\n",
       "</div>"
      ],
      "text/plain": [
       "                        1\n",
       "(51.5, 69.75]    0.004443\n",
       "(14.927, 33.25] -0.004530\n",
       "(69.75, 88.0]    0.006843\n",
       "(33.25, 51.5]   -0.002460"
      ]
     },
     "execution_count": 10,
     "metadata": {},
     "output_type": "execute_result"
    }
   ],
   "source": [
    "tasks.run_helper.results(\n",
    "    df,\n",
    "    discussion_id_col=\"fake_index\",\n",
    "    sdb_column=\"annot_age\",\n",
    "    value_col=\"toxicity\",\n",
    "    comment_key_col=\"comment_key\",\n",
    ")"
   ]
  },
  {
   "cell_type": "code",
   "execution_count": 11,
   "metadata": {},
   "outputs": [
    {
     "data": {
      "application/vnd.jupyter.widget-view+json": {
       "model_id": "6ccadf8d642742e4baa7728571fe5e64",
       "version_major": 2,
       "version_minor": 0
      },
      "text/plain": [
       "  0%|          | 0/1 [00:00<?, ?it/s]"
      ]
     },
     "metadata": {},
     "output_type": "display_data"
    },
    {
     "data": {
      "text/html": [
       "<div>\n",
       "<style scoped>\n",
       "    .dataframe tbody tr th:only-of-type {\n",
       "        vertical-align: middle;\n",
       "    }\n",
       "\n",
       "    .dataframe tbody tr th {\n",
       "        vertical-align: top;\n",
       "    }\n",
       "\n",
       "    .dataframe thead th {\n",
       "        text-align: right;\n",
       "    }\n",
       "</style>\n",
       "<table border=\"1\" class=\"dataframe\">\n",
       "  <thead>\n",
       "    <tr style=\"text-align: right;\">\n",
       "      <th></th>\n",
       "      <th>1</th>\n",
       "    </tr>\n",
       "  </thead>\n",
       "  <tbody>\n",
       "    <tr>\n",
       "      <th>non-binary</th>\n",
       "      <td>-0.026324</td>\n",
       "    </tr>\n",
       "    <tr>\n",
       "      <th>male</th>\n",
       "      <td>0.007125</td>\n",
       "    </tr>\n",
       "    <tr>\n",
       "      <th>female</th>\n",
       "      <td>0.000638</td>\n",
       "    </tr>\n",
       "  </tbody>\n",
       "</table>\n",
       "</div>"
      ],
      "text/plain": [
       "                   1\n",
       "non-binary -0.026324\n",
       "male        0.007125\n",
       "female      0.000638"
      ]
     },
     "execution_count": 11,
     "metadata": {},
     "output_type": "execute_result"
    }
   ],
   "source": [
    "tasks.run_helper.results(\n",
    "    df,\n",
    "    discussion_id_col=\"fake_index\",\n",
    "    sdb_column=\"annot_sex\",\n",
    "    value_col=\"toxicity\",\n",
    "    comment_key_col=\"comment_key\",\n",
    ")"
   ]
  },
  {
   "cell_type": "code",
   "execution_count": 12,
   "metadata": {},
   "outputs": [
    {
     "data": {
      "application/vnd.jupyter.widget-view+json": {
       "model_id": "b5d472a3e06e4216ac2a9ff62157cff0",
       "version_major": 2,
       "version_minor": 0
      },
      "text/plain": [
       "  0%|          | 0/1 [00:00<?, ?it/s]"
      ]
     },
     "metadata": {},
     "output_type": "display_data"
    },
    {
     "data": {
      "text/html": [
       "<div>\n",
       "<style scoped>\n",
       "    .dataframe tbody tr th:only-of-type {\n",
       "        vertical-align: middle;\n",
       "    }\n",
       "\n",
       "    .dataframe tbody tr th {\n",
       "        vertical-align: top;\n",
       "    }\n",
       "\n",
       "    .dataframe thead th {\n",
       "        text-align: right;\n",
       "    }\n",
       "</style>\n",
       "<table border=\"1\" class=\"dataframe\">\n",
       "  <thead>\n",
       "    <tr style=\"text-align: right;\">\n",
       "      <th></th>\n",
       "      <th>1</th>\n",
       "    </tr>\n",
       "  </thead>\n",
       "  <tbody>\n",
       "    <tr>\n",
       "      <th>other</th>\n",
       "      <td>0.018001</td>\n",
       "    </tr>\n",
       "    <tr>\n",
       "      <th>asian</th>\n",
       "      <td>-0.009256</td>\n",
       "    </tr>\n",
       "    <tr>\n",
       "      <th>white</th>\n",
       "      <td>-0.010836</td>\n",
       "    </tr>\n",
       "    <tr>\n",
       "      <th>black</th>\n",
       "      <td>-0.006948</td>\n",
       "    </tr>\n",
       "  </tbody>\n",
       "</table>\n",
       "</div>"
      ],
      "text/plain": [
       "              1\n",
       "other  0.018001\n",
       "asian -0.009256\n",
       "white -0.010836\n",
       "black -0.006948"
      ]
     },
     "execution_count": 12,
     "metadata": {},
     "output_type": "execute_result"
    }
   ],
   "source": [
    "tasks.run_helper.results(\n",
    "    df,\n",
    "    discussion_id_col=\"fake_index\",\n",
    "    sdb_column=\"annot_demographic_group\",\n",
    "    value_col=\"toxicity\",\n",
    "    comment_key_col=\"comment_key\",\n",
    ")"
   ]
  },
  {
   "cell_type": "code",
   "execution_count": 13,
   "metadata": {},
   "outputs": [
    {
     "data": {
      "application/vnd.jupyter.widget-view+json": {
       "model_id": "a6b698bab1924f9c9b96934cb81d5f4f",
       "version_major": 2,
       "version_minor": 0
      },
      "text/plain": [
       "  0%|          | 0/1 [00:00<?, ?it/s]"
      ]
     },
     "metadata": {},
     "output_type": "display_data"
    },
    {
     "data": {
      "text/html": [
       "<div>\n",
       "<style scoped>\n",
       "    .dataframe tbody tr th:only-of-type {\n",
       "        vertical-align: middle;\n",
       "    }\n",
       "\n",
       "    .dataframe tbody tr th {\n",
       "        vertical-align: top;\n",
       "    }\n",
       "\n",
       "    .dataframe thead th {\n",
       "        text-align: right;\n",
       "    }\n",
       "</style>\n",
       "<table border=\"1\" class=\"dataframe\">\n",
       "  <thead>\n",
       "    <tr style=\"text-align: right;\">\n",
       "      <th></th>\n",
       "      <th>1</th>\n",
       "    </tr>\n",
       "  </thead>\n",
       "  <tbody>\n",
       "    <tr>\n",
       "      <th>homosexual</th>\n",
       "      <td>0.000530</td>\n",
       "    </tr>\n",
       "    <tr>\n",
       "      <th>straight</th>\n",
       "      <td>-0.003252</td>\n",
       "    </tr>\n",
       "    <tr>\n",
       "      <th>bisexual</th>\n",
       "      <td>-0.016896</td>\n",
       "    </tr>\n",
       "    <tr>\n",
       "      <th>other</th>\n",
       "      <td>0.025422</td>\n",
       "    </tr>\n",
       "  </tbody>\n",
       "</table>\n",
       "</div>"
      ],
      "text/plain": [
       "                   1\n",
       "homosexual  0.000530\n",
       "straight   -0.003252\n",
       "bisexual   -0.016896\n",
       "other       0.025422"
      ]
     },
     "execution_count": 13,
     "metadata": {},
     "output_type": "execute_result"
    }
   ],
   "source": [
    "tasks.run_helper.results(\n",
    "    df,\n",
    "    discussion_id_col=\"fake_index\",\n",
    "    sdb_column=\"annot_sexual_orientation\",\n",
    "    value_col=\"toxicity\",\n",
    "    comment_key_col=\"comment_key\",\n",
    ")"
   ]
  },
  {
   "cell_type": "code",
   "execution_count": 14,
   "metadata": {},
   "outputs": [
    {
     "data": {
      "application/vnd.jupyter.widget-view+json": {
       "model_id": "ed40f4cd193c42308b80fb325a624fe2",
       "version_major": 2,
       "version_minor": 0
      },
      "text/plain": [
       "  0%|          | 0/1 [00:00<?, ?it/s]"
      ]
     },
     "metadata": {},
     "output_type": "display_data"
    },
    {
     "data": {
      "text/html": [
       "<div>\n",
       "<style scoped>\n",
       "    .dataframe tbody tr th:only-of-type {\n",
       "        vertical-align: middle;\n",
       "    }\n",
       "\n",
       "    .dataframe tbody tr th {\n",
       "        vertical-align: top;\n",
       "    }\n",
       "\n",
       "    .dataframe thead th {\n",
       "        text-align: right;\n",
       "    }\n",
       "</style>\n",
       "<table border=\"1\" class=\"dataframe\">\n",
       "  <thead>\n",
       "    <tr style=\"text-align: right;\">\n",
       "      <th></th>\n",
       "      <th>1</th>\n",
       "    </tr>\n",
       "  </thead>\n",
       "  <tbody>\n",
       "    <tr>\n",
       "      <th>unemployed</th>\n",
       "      <td>-0.006915</td>\n",
       "    </tr>\n",
       "    <tr>\n",
       "      <th>white-collar</th>\n",
       "      <td>0.005011</td>\n",
       "    </tr>\n",
       "    <tr>\n",
       "      <th>blue-collar</th>\n",
       "      <td>-0.000148</td>\n",
       "    </tr>\n",
       "  </tbody>\n",
       "</table>\n",
       "</div>"
      ],
      "text/plain": [
       "                     1\n",
       "unemployed   -0.006915\n",
       "white-collar  0.005011\n",
       "blue-collar  -0.000148"
      ]
     },
     "execution_count": 14,
     "metadata": {},
     "output_type": "execute_result"
    }
   ],
   "source": [
    "tasks.run_helper.results(\n",
    "    df,\n",
    "    discussion_id_col=\"fake_index\",\n",
    "    sdb_column=\"annot_current_employment\",\n",
    "    value_col=\"toxicity\",\n",
    "    comment_key_col=\"comment_key\",\n",
    ")"
   ]
  },
  {
   "cell_type": "code",
   "execution_count": 15,
   "metadata": {},
   "outputs": [
    {
     "data": {
      "application/vnd.jupyter.widget-view+json": {
       "model_id": "7581fd54f7864415a14e96b2ea659884",
       "version_major": 2,
       "version_minor": 0
      },
      "text/plain": [
       "  0%|          | 0/1 [00:00<?, ?it/s]"
      ]
     },
     "metadata": {},
     "output_type": "display_data"
    },
    {
     "data": {
      "text/html": [
       "<div>\n",
       "<style scoped>\n",
       "    .dataframe tbody tr th:only-of-type {\n",
       "        vertical-align: middle;\n",
       "    }\n",
       "\n",
       "    .dataframe tbody tr th {\n",
       "        vertical-align: top;\n",
       "    }\n",
       "\n",
       "    .dataframe thead th {\n",
       "        text-align: right;\n",
       "    }\n",
       "</style>\n",
       "<table border=\"1\" class=\"dataframe\">\n",
       "  <thead>\n",
       "    <tr style=\"text-align: right;\">\n",
       "      <th></th>\n",
       "      <th>1</th>\n",
       "    </tr>\n",
       "  </thead>\n",
       "  <tbody>\n",
       "    <tr>\n",
       "      <th>none</th>\n",
       "      <td>0.009314</td>\n",
       "    </tr>\n",
       "    <tr>\n",
       "      <th>university</th>\n",
       "      <td>-0.004564</td>\n",
       "    </tr>\n",
       "    <tr>\n",
       "      <th>high-school</th>\n",
       "      <td>-0.008280</td>\n",
       "    </tr>\n",
       "  </tbody>\n",
       "</table>\n",
       "</div>"
      ],
      "text/plain": [
       "                    1\n",
       "none         0.009314\n",
       "university  -0.004564\n",
       "high-school -0.008280"
      ]
     },
     "execution_count": 15,
     "metadata": {},
     "output_type": "execute_result"
    }
   ],
   "source": [
    "tasks.run_helper.results(\n",
    "    df,\n",
    "    discussion_id_col=\"fake_index\",\n",
    "    sdb_column=\"annot_education_level\",\n",
    "    value_col=\"toxicity\",\n",
    "    comment_key_col=\"comment_key\",\n",
    ")"
   ]
  },
  {
   "cell_type": "code",
   "execution_count": 16,
   "metadata": {},
   "outputs": [
    {
     "data": {
      "application/vnd.jupyter.widget-view+json": {
       "model_id": "fb1566756526483e93c0459e2aebb3a5",
       "version_major": 2,
       "version_minor": 0
      },
      "text/plain": [
       "  0%|          | 0/1 [00:00<?, ?it/s]"
      ]
     },
     "metadata": {},
     "output_type": "display_data"
    },
    {
     "data": {
      "text/html": [
       "<div>\n",
       "<style scoped>\n",
       "    .dataframe tbody tr th:only-of-type {\n",
       "        vertical-align: middle;\n",
       "    }\n",
       "\n",
       "    .dataframe tbody tr th {\n",
       "        vertical-align: top;\n",
       "    }\n",
       "\n",
       "    .dataframe thead th {\n",
       "        text-align: right;\n",
       "    }\n",
       "</style>\n",
       "<table border=\"1\" class=\"dataframe\">\n",
       "  <thead>\n",
       "    <tr style=\"text-align: right;\">\n",
       "      <th></th>\n",
       "      <th>1</th>\n",
       "    </tr>\n",
       "  </thead>\n",
       "  <tbody>\n",
       "    <tr>\n",
       "      <th>left-wing liberal</th>\n",
       "      <td>-0.007833</td>\n",
       "    </tr>\n",
       "    <tr>\n",
       "      <th>right-wing conservative</th>\n",
       "      <td>-0.003492</td>\n",
       "    </tr>\n",
       "    <tr>\n",
       "      <th>apolitical</th>\n",
       "      <td>0.017511</td>\n",
       "    </tr>\n",
       "  </tbody>\n",
       "</table>\n",
       "</div>"
      ],
      "text/plain": [
       "                                1\n",
       "left-wing liberal       -0.007833\n",
       "right-wing conservative -0.003492\n",
       "apolitical               0.017511"
      ]
     },
     "execution_count": 16,
     "metadata": {},
     "output_type": "execute_result"
    }
   ],
   "source": [
    "tasks.run_helper.results(\n",
    "    df,\n",
    "    discussion_id_col=\"fake_index\",\n",
    "    sdb_column=\"annot_politics\",\n",
    "    value_col=\"toxicity\",\n",
    "    comment_key_col=\"comment_key\",\n",
    ")"
   ]
  }
 ],
 "metadata": {
  "kernelspec": {
   "display_name": "Python 3",
   "language": "python",
   "name": "python3"
  },
  "language_info": {
   "codemirror_mode": {
    "name": "ipython",
    "version": 3
   },
   "file_extension": ".py",
   "mimetype": "text/x-python",
   "name": "python",
   "nbconvert_exporter": "python",
   "pygments_lexer": "ipython3",
   "version": "3.13.5"
  }
 },
 "nbformat": 4,
 "nbformat_minor": 2
}
