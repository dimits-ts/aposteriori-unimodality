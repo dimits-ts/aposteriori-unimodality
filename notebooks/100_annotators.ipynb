{
 "cells": [
  {
   "cell_type": "code",
   "execution_count": 1,
   "metadata": {},
   "outputs": [],
   "source": [
    "import sys\n",
    "\n",
    "# IT'S 2025 WHY HASN'T SOMEONE FIXED THIS\n",
    "if \"..\" not in sys.path:\n",
    "    sys.path.insert(0, \"..\")\n",
    "    \n",
    "import pandas as pd\n",
    "import numpy as np\n",
    "import ast\n",
    "\n",
    "import tasks.run_helper"
   ]
  },
  {
   "cell_type": "code",
   "execution_count": 2,
   "metadata": {},
   "outputs": [
    {
     "data": {
      "text/html": [
       "<div>\n",
       "<style scoped>\n",
       "    .dataframe tbody tr th:only-of-type {\n",
       "        vertical-align: middle;\n",
       "    }\n",
       "\n",
       "    .dataframe tbody tr th {\n",
       "        vertical-align: top;\n",
       "    }\n",
       "\n",
       "    .dataframe thead th {\n",
       "        text-align: right;\n",
       "    }\n",
       "</style>\n",
       "<table border=\"1\" class=\"dataframe\">\n",
       "  <thead>\n",
       "    <tr style=\"text-align: right;\">\n",
       "      <th></th>\n",
       "      <th></th>\n",
       "      <th></th>\n",
       "      <th></th>\n",
       "      <th>toxicity</th>\n",
       "      <th>annot_age</th>\n",
       "      <th>annot_sex</th>\n",
       "      <th>annot_sexual_orientation</th>\n",
       "      <th>annot_demographic_group</th>\n",
       "      <th>annot_current_employment</th>\n",
       "      <th>annot_education_level</th>\n",
       "      <th>annot_politics</th>\n",
       "      <th>fake_index</th>\n",
       "    </tr>\n",
       "    <tr>\n",
       "      <th>conv_id</th>\n",
       "      <th>message_id</th>\n",
       "      <th>comment_key</th>\n",
       "      <th>message</th>\n",
       "      <th></th>\n",
       "      <th></th>\n",
       "      <th></th>\n",
       "      <th></th>\n",
       "      <th></th>\n",
       "      <th></th>\n",
       "      <th></th>\n",
       "      <th></th>\n",
       "      <th></th>\n",
       "    </tr>\n",
       "  </thead>\n",
       "  <tbody>\n",
       "    <tr>\n",
       "      <th>250cc245-86c4-4e97-a8ce-31d5d6796f71</th>\n",
       "      <th>-1428289379724132680</th>\n",
       "      <th>250cc245-86c4-4e97-a8ce-31d5d6796f71-1428289379724132680</th>\n",
       "      <th>well thats a no brainer hillary clinton gave huma abdein a security clearance when she has ties to a known terrorist group the muslim brotherhood, and her mother runs an anti american news paper in the middle east, debbie washed up crook shultz got the awan famaily security clearances and they were recent immigrants, had absolutely no IT experience and possible ties to terrorist groups in pakistan. its pretty clear our liberal ran government is a complete and total failure when it comes to national security. 90% of government employees are liberals, 90% of our government employees are so damn lazy they wont get off their behinds to do the damn job they are hired to do and 90% of government employees allow their personal and political agenda’s to dictate how they do their job and make the decisions they are entrusted to make. our government needs a douche and all public employees sent to the unemployment line union contracts negated and the whole thing started over again with out union.\\n</th>\n",
       "      <td>[5, 5, 5, 5, 5, 5, 5, 5, 5, 5, 5, 5, 5, 5, 5, ...</td>\n",
       "      <td>[(69.75, 88.0], (33.25, 51.5], (69.75, 88.0], ...</td>\n",
       "      <td>[female, non-binary, female, male, male, male,...</td>\n",
       "      <td>[homosexual, straight, straight, straight, bis...</td>\n",
       "      <td>[black, white, asian, other, asian, other, asi...</td>\n",
       "      <td>[blue-collar, white-collar, unemployed, white-...</td>\n",
       "      <td>[university, none, university, none, universit...</td>\n",
       "      <td>[right-wing conservative, right-wing conservat...</td>\n",
       "      <td>1</td>\n",
       "    </tr>\n",
       "  </tbody>\n",
       "</table>\n",
       "</div>"
      ],
      "text/plain": [
       "                                                                                                                                                                                                          toxicity  \\\n",
       "conv_id                              message_id           comment_key                                        message                                                                                                 \n",
       "250cc245-86c4-4e97-a8ce-31d5d6796f71 -1428289379724132680 250cc245-86c4-4e97-a8ce-31d5d6796f71-1428289379... well thats a no brainer hillary clinton gave hu...  [5, 5, 5, 5, 5, 5, 5, 5, 5, 5, 5, 5, 5, 5, 5, ...   \n",
       "\n",
       "                                                                                                                                                                                                         annot_age  \\\n",
       "conv_id                              message_id           comment_key                                        message                                                                                                 \n",
       "250cc245-86c4-4e97-a8ce-31d5d6796f71 -1428289379724132680 250cc245-86c4-4e97-a8ce-31d5d6796f71-1428289379... well thats a no brainer hillary clinton gave hu...  [(69.75, 88.0], (33.25, 51.5], (69.75, 88.0], ...   \n",
       "\n",
       "                                                                                                                                                                                                         annot_sex  \\\n",
       "conv_id                              message_id           comment_key                                        message                                                                                                 \n",
       "250cc245-86c4-4e97-a8ce-31d5d6796f71 -1428289379724132680 250cc245-86c4-4e97-a8ce-31d5d6796f71-1428289379... well thats a no brainer hillary clinton gave hu...  [female, non-binary, female, male, male, male,...   \n",
       "\n",
       "                                                                                                                                                                                          annot_sexual_orientation  \\\n",
       "conv_id                              message_id           comment_key                                        message                                                                                                 \n",
       "250cc245-86c4-4e97-a8ce-31d5d6796f71 -1428289379724132680 250cc245-86c4-4e97-a8ce-31d5d6796f71-1428289379... well thats a no brainer hillary clinton gave hu...  [homosexual, straight, straight, straight, bis...   \n",
       "\n",
       "                                                                                                                                                                                           annot_demographic_group  \\\n",
       "conv_id                              message_id           comment_key                                        message                                                                                                 \n",
       "250cc245-86c4-4e97-a8ce-31d5d6796f71 -1428289379724132680 250cc245-86c4-4e97-a8ce-31d5d6796f71-1428289379... well thats a no brainer hillary clinton gave hu...  [black, white, asian, other, asian, other, asi...   \n",
       "\n",
       "                                                                                                                                                                                          annot_current_employment  \\\n",
       "conv_id                              message_id           comment_key                                        message                                                                                                 \n",
       "250cc245-86c4-4e97-a8ce-31d5d6796f71 -1428289379724132680 250cc245-86c4-4e97-a8ce-31d5d6796f71-1428289379... well thats a no brainer hillary clinton gave hu...  [blue-collar, white-collar, unemployed, white-...   \n",
       "\n",
       "                                                                                                                                                                                             annot_education_level  \\\n",
       "conv_id                              message_id           comment_key                                        message                                                                                                 \n",
       "250cc245-86c4-4e97-a8ce-31d5d6796f71 -1428289379724132680 250cc245-86c4-4e97-a8ce-31d5d6796f71-1428289379... well thats a no brainer hillary clinton gave hu...  [university, none, university, none, universit...   \n",
       "\n",
       "                                                                                                                                                                                                    annot_politics  \\\n",
       "conv_id                              message_id           comment_key                                        message                                                                                                 \n",
       "250cc245-86c4-4e97-a8ce-31d5d6796f71 -1428289379724132680 250cc245-86c4-4e97-a8ce-31d5d6796f71-1428289379... well thats a no brainer hillary clinton gave hu...  [right-wing conservative, right-wing conservat...   \n",
       "\n",
       "                                                                                                                                                                 fake_index  \n",
       "conv_id                              message_id           comment_key                                        message                                                         \n",
       "250cc245-86c4-4e97-a8ce-31d5d6796f71 -1428289379724132680 250cc245-86c4-4e97-a8ce-31d5d6796f71-1428289379... well thats a no brainer hillary clinton gave hu...           1  "
      ]
     },
     "execution_count": 2,
     "metadata": {},
     "output_type": "execute_result"
    }
   ],
   "source": [
    "df = pd.read_csv(\n",
    "    \"../data/100_annotators.csv\",\n",
    "    converters={\"annot_personality_characteristics\": ast.literal_eval},\n",
    ")\n",
    "df[\"toxicity\"] = df.annotation.apply(lambda x: x[-1]).astype(int)\n",
    "df[\"annot_politics\"] = df.annot_personality_characteristics.apply(\n",
    "    lambda x: x[0]\n",
    ")\n",
    "df.annot_age = pd.cut(df.annot_age, bins=4)\n",
    "df.message_id = df.message_id.astype(str)\n",
    "df[\"comment_key\"] = df.conv_id + df.message_id\n",
    "\n",
    "df = df.loc[\n",
    "    :,\n",
    "    [\n",
    "        \"conv_id\",\n",
    "        \"message_id\",\n",
    "        \"comment_key\",\n",
    "        \"message\",\n",
    "        \"toxicity\",\n",
    "        \"annot_age\",\n",
    "        \"annot_sex\",\n",
    "        \"annot_sexual_orientation\",\n",
    "        \"annot_demographic_group\",\n",
    "        \"annot_current_employment\",\n",
    "        \"annot_education_level\",\n",
    "        \"annot_politics\",\n",
    "    ],\n",
    "]\n",
    "df = df.groupby([\"conv_id\", \"message_id\", \"comment_key\", \"message\"]).apply(\n",
    "    lambda x: pd.Series(\n",
    "        {\n",
    "            col: x[col].tolist()\n",
    "            for col in df.columns\n",
    "            if col not in [\"conv_id\", \"message_id\", \"comment_key\", \"message\"]\n",
    "        }\n",
    "    ),\n",
    "    include_groups=False,\n",
    ")\n",
    "df[\"fake_index\"] = 1\n",
    "df.head(1)"
   ]
  },
  {
   "cell_type": "code",
   "execution_count": 10,
   "metadata": {},
   "outputs": [
    {
     "data": {
      "application/vnd.jupyter.widget-view+json": {
       "model_id": "4825fe15043849f3971552e531c41b1d",
       "version_major": 2,
       "version_minor": 0
      },
      "text/plain": [
       "  0%|          | 0/1 [00:00<?, ?it/s]"
      ]
     },
     "metadata": {},
     "output_type": "display_data"
    },
    {
     "data": {
      "text/html": [
       "<div>\n",
       "<style scoped>\n",
       "    .dataframe tbody tr th:only-of-type {\n",
       "        vertical-align: middle;\n",
       "    }\n",
       "\n",
       "    .dataframe tbody tr th {\n",
       "        vertical-align: top;\n",
       "    }\n",
       "\n",
       "    .dataframe thead th {\n",
       "        text-align: right;\n",
       "    }\n",
       "</style>\n",
       "<table border=\"1\" class=\"dataframe\">\n",
       "  <thead>\n",
       "    <tr style=\"text-align: right;\">\n",
       "      <th></th>\n",
       "      <th>1</th>\n",
       "    </tr>\n",
       "  </thead>\n",
       "  <tbody>\n",
       "    <tr>\n",
       "      <th>(51.5, 69.75]</th>\n",
       "      <td>0.004443</td>\n",
       "    </tr>\n",
       "    <tr>\n",
       "      <th>(14.927, 33.25]</th>\n",
       "      <td>-0.004530</td>\n",
       "    </tr>\n",
       "    <tr>\n",
       "      <th>(69.75, 88.0]</th>\n",
       "      <td>0.006843</td>\n",
       "    </tr>\n",
       "    <tr>\n",
       "      <th>(33.25, 51.5]</th>\n",
       "      <td>-0.002460</td>\n",
       "    </tr>\n",
       "  </tbody>\n",
       "</table>\n",
       "</div>"
      ],
      "text/plain": [
       "                        1\n",
       "(51.5, 69.75]    0.004443\n",
       "(14.927, 33.25] -0.004530\n",
       "(69.75, 88.0]    0.006843\n",
       "(33.25, 51.5]   -0.002460"
      ]
     },
     "execution_count": 10,
     "metadata": {},
     "output_type": "execute_result"
    }
   ],
   "source": [
    "tasks.run_helper.results(\n",
    "    df,\n",
    "    discussion_id_col=\"fake_index\",\n",
    "    sdb_column=\"annot_age\",\n",
    "    value_col=\"toxicity\",\n",
    "    comment_key_col=\"comment_key\",\n",
    ")"
   ]
  },
  {
   "cell_type": "code",
   "execution_count": 11,
   "metadata": {},
   "outputs": [
    {
     "data": {
      "application/vnd.jupyter.widget-view+json": {
       "model_id": "6ccadf8d642742e4baa7728571fe5e64",
       "version_major": 2,
       "version_minor": 0
      },
      "text/plain": [
       "  0%|          | 0/1 [00:00<?, ?it/s]"
      ]
     },
     "metadata": {},
     "output_type": "display_data"
    },
    {
     "data": {
      "text/html": [
       "<div>\n",
       "<style scoped>\n",
       "    .dataframe tbody tr th:only-of-type {\n",
       "        vertical-align: middle;\n",
       "    }\n",
       "\n",
       "    .dataframe tbody tr th {\n",
       "        vertical-align: top;\n",
       "    }\n",
       "\n",
       "    .dataframe thead th {\n",
       "        text-align: right;\n",
       "    }\n",
       "</style>\n",
       "<table border=\"1\" class=\"dataframe\">\n",
       "  <thead>\n",
       "    <tr style=\"text-align: right;\">\n",
       "      <th></th>\n",
       "      <th>1</th>\n",
       "    </tr>\n",
       "  </thead>\n",
       "  <tbody>\n",
       "    <tr>\n",
       "      <th>non-binary</th>\n",
       "      <td>-0.026324</td>\n",
       "    </tr>\n",
       "    <tr>\n",
       "      <th>male</th>\n",
       "      <td>0.007125</td>\n",
       "    </tr>\n",
       "    <tr>\n",
       "      <th>female</th>\n",
       "      <td>0.000638</td>\n",
       "    </tr>\n",
       "  </tbody>\n",
       "</table>\n",
       "</div>"
      ],
      "text/plain": [
       "                   1\n",
       "non-binary -0.026324\n",
       "male        0.007125\n",
       "female      0.000638"
      ]
     },
     "execution_count": 11,
     "metadata": {},
     "output_type": "execute_result"
    }
   ],
   "source": [
    "tasks.run_helper.results(\n",
    "    df,\n",
    "    discussion_id_col=\"fake_index\",\n",
    "    sdb_column=\"annot_sex\",\n",
    "    value_col=\"toxicity\",\n",
    "    comment_key_col=\"comment_key\",\n",
    ")"
   ]
  },
  {
   "cell_type": "code",
   "execution_count": 12,
   "metadata": {},
   "outputs": [
    {
     "data": {
      "application/vnd.jupyter.widget-view+json": {
       "model_id": "b5d472a3e06e4216ac2a9ff62157cff0",
       "version_major": 2,
       "version_minor": 0
      },
      "text/plain": [
       "  0%|          | 0/1 [00:00<?, ?it/s]"
      ]
     },
     "metadata": {},
     "output_type": "display_data"
    },
    {
     "data": {
      "text/html": [
       "<div>\n",
       "<style scoped>\n",
       "    .dataframe tbody tr th:only-of-type {\n",
       "        vertical-align: middle;\n",
       "    }\n",
       "\n",
       "    .dataframe tbody tr th {\n",
       "        vertical-align: top;\n",
       "    }\n",
       "\n",
       "    .dataframe thead th {\n",
       "        text-align: right;\n",
       "    }\n",
       "</style>\n",
       "<table border=\"1\" class=\"dataframe\">\n",
       "  <thead>\n",
       "    <tr style=\"text-align: right;\">\n",
       "      <th></th>\n",
       "      <th>1</th>\n",
       "    </tr>\n",
       "  </thead>\n",
       "  <tbody>\n",
       "    <tr>\n",
       "      <th>other</th>\n",
       "      <td>0.018001</td>\n",
       "    </tr>\n",
       "    <tr>\n",
       "      <th>asian</th>\n",
       "      <td>-0.009256</td>\n",
       "    </tr>\n",
       "    <tr>\n",
       "      <th>white</th>\n",
       "      <td>-0.010836</td>\n",
       "    </tr>\n",
       "    <tr>\n",
       "      <th>black</th>\n",
       "      <td>-0.006948</td>\n",
       "    </tr>\n",
       "  </tbody>\n",
       "</table>\n",
       "</div>"
      ],
      "text/plain": [
       "              1\n",
       "other  0.018001\n",
       "asian -0.009256\n",
       "white -0.010836\n",
       "black -0.006948"
      ]
     },
     "execution_count": 12,
     "metadata": {},
     "output_type": "execute_result"
    }
   ],
   "source": [
    "tasks.run_helper.results(\n",
    "    df,\n",
    "    discussion_id_col=\"fake_index\",\n",
    "    sdb_column=\"annot_demographic_group\",\n",
    "    value_col=\"toxicity\",\n",
    "    comment_key_col=\"comment_key\",\n",
    ")"
   ]
  },
  {
   "cell_type": "code",
   "execution_count": 13,
   "metadata": {},
   "outputs": [
    {
     "data": {
      "application/vnd.jupyter.widget-view+json": {
       "model_id": "a6b698bab1924f9c9b96934cb81d5f4f",
       "version_major": 2,
       "version_minor": 0
      },
      "text/plain": [
       "  0%|          | 0/1 [00:00<?, ?it/s]"
      ]
     },
     "metadata": {},
     "output_type": "display_data"
    },
    {
     "data": {
      "text/html": [
       "<div>\n",
       "<style scoped>\n",
       "    .dataframe tbody tr th:only-of-type {\n",
       "        vertical-align: middle;\n",
       "    }\n",
       "\n",
       "    .dataframe tbody tr th {\n",
       "        vertical-align: top;\n",
       "    }\n",
       "\n",
       "    .dataframe thead th {\n",
       "        text-align: right;\n",
       "    }\n",
       "</style>\n",
       "<table border=\"1\" class=\"dataframe\">\n",
       "  <thead>\n",
       "    <tr style=\"text-align: right;\">\n",
       "      <th></th>\n",
       "      <th>1</th>\n",
       "    </tr>\n",
       "  </thead>\n",
       "  <tbody>\n",
       "    <tr>\n",
       "      <th>homosexual</th>\n",
       "      <td>0.000530</td>\n",
       "    </tr>\n",
       "    <tr>\n",
       "      <th>straight</th>\n",
       "      <td>-0.003252</td>\n",
       "    </tr>\n",
       "    <tr>\n",
       "      <th>bisexual</th>\n",
       "      <td>-0.016896</td>\n",
       "    </tr>\n",
       "    <tr>\n",
       "      <th>other</th>\n",
       "      <td>0.025422</td>\n",
       "    </tr>\n",
       "  </tbody>\n",
       "</table>\n",
       "</div>"
      ],
      "text/plain": [
       "                   1\n",
       "homosexual  0.000530\n",
       "straight   -0.003252\n",
       "bisexual   -0.016896\n",
       "other       0.025422"
      ]
     },
     "execution_count": 13,
     "metadata": {},
     "output_type": "execute_result"
    }
   ],
   "source": [
    "tasks.run_helper.results(\n",
    "    df,\n",
    "    discussion_id_col=\"fake_index\",\n",
    "    sdb_column=\"annot_sexual_orientation\",\n",
    "    value_col=\"toxicity\",\n",
    "    comment_key_col=\"comment_key\",\n",
    ")"
   ]
  },
  {
   "cell_type": "code",
   "execution_count": 14,
   "metadata": {},
   "outputs": [
    {
     "data": {
      "application/vnd.jupyter.widget-view+json": {
       "model_id": "ed40f4cd193c42308b80fb325a624fe2",
       "version_major": 2,
       "version_minor": 0
      },
      "text/plain": [
       "  0%|          | 0/1 [00:00<?, ?it/s]"
      ]
     },
     "metadata": {},
     "output_type": "display_data"
    },
    {
     "data": {
      "text/html": [
       "<div>\n",
       "<style scoped>\n",
       "    .dataframe tbody tr th:only-of-type {\n",
       "        vertical-align: middle;\n",
       "    }\n",
       "\n",
       "    .dataframe tbody tr th {\n",
       "        vertical-align: top;\n",
       "    }\n",
       "\n",
       "    .dataframe thead th {\n",
       "        text-align: right;\n",
       "    }\n",
       "</style>\n",
       "<table border=\"1\" class=\"dataframe\">\n",
       "  <thead>\n",
       "    <tr style=\"text-align: right;\">\n",
       "      <th></th>\n",
       "      <th>1</th>\n",
       "    </tr>\n",
       "  </thead>\n",
       "  <tbody>\n",
       "    <tr>\n",
       "      <th>unemployed</th>\n",
       "      <td>-0.006915</td>\n",
       "    </tr>\n",
       "    <tr>\n",
       "      <th>white-collar</th>\n",
       "      <td>0.005011</td>\n",
       "    </tr>\n",
       "    <tr>\n",
       "      <th>blue-collar</th>\n",
       "      <td>-0.000148</td>\n",
       "    </tr>\n",
       "  </tbody>\n",
       "</table>\n",
       "</div>"
      ],
      "text/plain": [
       "                     1\n",
       "unemployed   -0.006915\n",
       "white-collar  0.005011\n",
       "blue-collar  -0.000148"
      ]
     },
     "execution_count": 14,
     "metadata": {},
     "output_type": "execute_result"
    }
   ],
   "source": [
    "tasks.run_helper.results(\n",
    "    df,\n",
    "    discussion_id_col=\"fake_index\",\n",
    "    sdb_column=\"annot_current_employment\",\n",
    "    value_col=\"toxicity\",\n",
    "    comment_key_col=\"comment_key\",\n",
    ")"
   ]
  },
  {
   "cell_type": "code",
   "execution_count": 15,
   "metadata": {},
   "outputs": [
    {
     "data": {
      "application/vnd.jupyter.widget-view+json": {
       "model_id": "7581fd54f7864415a14e96b2ea659884",
       "version_major": 2,
       "version_minor": 0
      },
      "text/plain": [
       "  0%|          | 0/1 [00:00<?, ?it/s]"
      ]
     },
     "metadata": {},
     "output_type": "display_data"
    },
    {
     "data": {
      "text/html": [
       "<div>\n",
       "<style scoped>\n",
       "    .dataframe tbody tr th:only-of-type {\n",
       "        vertical-align: middle;\n",
       "    }\n",
       "\n",
       "    .dataframe tbody tr th {\n",
       "        vertical-align: top;\n",
       "    }\n",
       "\n",
       "    .dataframe thead th {\n",
       "        text-align: right;\n",
       "    }\n",
       "</style>\n",
       "<table border=\"1\" class=\"dataframe\">\n",
       "  <thead>\n",
       "    <tr style=\"text-align: right;\">\n",
       "      <th></th>\n",
       "      <th>1</th>\n",
       "    </tr>\n",
       "  </thead>\n",
       "  <tbody>\n",
       "    <tr>\n",
       "      <th>none</th>\n",
       "      <td>0.009314</td>\n",
       "    </tr>\n",
       "    <tr>\n",
       "      <th>university</th>\n",
       "      <td>-0.004564</td>\n",
       "    </tr>\n",
       "    <tr>\n",
       "      <th>high-school</th>\n",
       "      <td>-0.008280</td>\n",
       "    </tr>\n",
       "  </tbody>\n",
       "</table>\n",
       "</div>"
      ],
      "text/plain": [
       "                    1\n",
       "none         0.009314\n",
       "university  -0.004564\n",
       "high-school -0.008280"
      ]
     },
     "execution_count": 15,
     "metadata": {},
     "output_type": "execute_result"
    }
   ],
   "source": [
    "tasks.run_helper.results(\n",
    "    df,\n",
    "    discussion_id_col=\"fake_index\",\n",
    "    sdb_column=\"annot_education_level\",\n",
    "    value_col=\"toxicity\",\n",
    "    comment_key_col=\"comment_key\",\n",
    ")"
   ]
  },
  {
   "cell_type": "code",
   "execution_count": 16,
   "metadata": {},
   "outputs": [
    {
     "data": {
      "application/vnd.jupyter.widget-view+json": {
       "model_id": "fb1566756526483e93c0459e2aebb3a5",
       "version_major": 2,
       "version_minor": 0
      },
      "text/plain": [
       "  0%|          | 0/1 [00:00<?, ?it/s]"
      ]
     },
     "metadata": {},
     "output_type": "display_data"
    },
    {
     "data": {
      "text/html": [
       "<div>\n",
       "<style scoped>\n",
       "    .dataframe tbody tr th:only-of-type {\n",
       "        vertical-align: middle;\n",
       "    }\n",
       "\n",
       "    .dataframe tbody tr th {\n",
       "        vertical-align: top;\n",
       "    }\n",
       "\n",
       "    .dataframe thead th {\n",
       "        text-align: right;\n",
       "    }\n",
       "</style>\n",
       "<table border=\"1\" class=\"dataframe\">\n",
       "  <thead>\n",
       "    <tr style=\"text-align: right;\">\n",
       "      <th></th>\n",
       "      <th>1</th>\n",
       "    </tr>\n",
       "  </thead>\n",
       "  <tbody>\n",
       "    <tr>\n",
       "      <th>left-wing liberal</th>\n",
       "      <td>-0.007833</td>\n",
       "    </tr>\n",
       "    <tr>\n",
       "      <th>right-wing conservative</th>\n",
       "      <td>-0.003492</td>\n",
       "    </tr>\n",
       "    <tr>\n",
       "      <th>apolitical</th>\n",
       "      <td>0.017511</td>\n",
       "    </tr>\n",
       "  </tbody>\n",
       "</table>\n",
       "</div>"
      ],
      "text/plain": [
       "                                1\n",
       "left-wing liberal       -0.007833\n",
       "right-wing conservative -0.003492\n",
       "apolitical               0.017511"
      ]
     },
     "execution_count": 16,
     "metadata": {},
     "output_type": "execute_result"
    }
   ],
   "source": [
    "tasks.run_helper.results(\n",
    "    df,\n",
    "    discussion_id_col=\"fake_index\",\n",
    "    sdb_column=\"annot_politics\",\n",
    "    value_col=\"toxicity\",\n",
    "    comment_key_col=\"comment_key\",\n",
    ")"
   ]
  }
 ],
 "metadata": {
  "kernelspec": {
   "display_name": "apunim-experiments",
   "language": "python",
   "name": "python3"
  },
  "language_info": {
   "codemirror_mode": {
    "name": "ipython",
    "version": 3
   },
   "file_extension": ".py",
   "mimetype": "text/x-python",
   "name": "python",
   "nbconvert_exporter": "python",
   "pygments_lexer": "ipython3",
   "version": "3.13.5"
  }
 },
 "nbformat": 4,
 "nbformat_minor": 2
}
