{
 "cells": [
  {
   "cell_type": "code",
   "execution_count": 2,
   "metadata": {},
   "outputs": [],
   "source": [
    "import sys\n",
    "\n",
    "# IT'S 2025 WHY HASN'T SOMEONE FIXED THIS\n",
    "if \"..\" not in sys.path:\n",
    "    sys.path.insert(0, \"..\")\n",
    "    \n",
    "import pandas as pd\n",
    "import numpy as np\n",
    "import ast\n",
    "\n",
    "import tasks.run_helper"
   ]
  },
  {
   "cell_type": "code",
   "execution_count": 3,
   "metadata": {},
   "outputs": [
    {
     "data": {
      "text/html": [
       "<div>\n",
       "<style scoped>\n",
       "    .dataframe tbody tr th:only-of-type {\n",
       "        vertical-align: middle;\n",
       "    }\n",
       "\n",
       "    .dataframe tbody tr th {\n",
       "        vertical-align: top;\n",
       "    }\n",
       "\n",
       "    .dataframe thead th {\n",
       "        text-align: right;\n",
       "    }\n",
       "</style>\n",
       "<table border=\"1\" class=\"dataframe\">\n",
       "  <thead>\n",
       "    <tr style=\"text-align: right;\">\n",
       "      <th></th>\n",
       "      <th></th>\n",
       "      <th></th>\n",
       "      <th></th>\n",
       "      <th>toxicity</th>\n",
       "      <th>annot_age</th>\n",
       "      <th>annot_sex</th>\n",
       "      <th>annot_sexual_orientation</th>\n",
       "      <th>annot_demographic_group</th>\n",
       "      <th>annot_current_employment</th>\n",
       "      <th>annot_education_level</th>\n",
       "      <th>annot_politics</th>\n",
       "      <th>fake_index</th>\n",
       "    </tr>\n",
       "    <tr>\n",
       "      <th>conv_id</th>\n",
       "      <th>message_id</th>\n",
       "      <th>comment_key</th>\n",
       "      <th>message</th>\n",
       "      <th></th>\n",
       "      <th></th>\n",
       "      <th></th>\n",
       "      <th></th>\n",
       "      <th></th>\n",
       "      <th></th>\n",
       "      <th></th>\n",
       "      <th></th>\n",
       "      <th></th>\n",
       "    </tr>\n",
       "  </thead>\n",
       "  <tbody>\n",
       "    <tr>\n",
       "      <th>250cc245-86c4-4e97-a8ce-31d5d6796f71</th>\n",
       "      <th>-1428289379724132680</th>\n",
       "      <th>250cc245-86c4-4e97-a8ce-31d5d6796f71-1428289379724132680</th>\n",
       "      <th>well thats a no brainer hillary clinton gave huma abdein a security clearance when she has ties to a known terrorist group the muslim brotherhood, and her mother runs an anti american news paper in the middle east, debbie washed up crook shultz got the awan famaily security clearances and they were recent immigrants, had absolutely no IT experience and possible ties to terrorist groups in pakistan. its pretty clear our liberal ran government is a complete and total failure when it comes to national security. 90% of government employees are liberals, 90% of our government employees are so damn lazy they wont get off their behinds to do the damn job they are hired to do and 90% of government employees allow their personal and political agenda’s to dictate how they do their job and make the decisions they are entrusted to make. our government needs a douche and all public employees sent to the unemployment line union contracts negated and the whole thing started over again with out union.\\n</th>\n",
       "      <td>[5, 5, 5, 5, 5, 5, 5, 5, 5, 5, 5, 5, 5, 5, 5, ...</td>\n",
       "      <td>[(69.75, 88.0], (33.25, 51.5], (69.75, 88.0], ...</td>\n",
       "      <td>[female, non-binary, female, male, male, male,...</td>\n",
       "      <td>[homosexual, straight, straight, straight, bis...</td>\n",
       "      <td>[black, white, asian, other, asian, other, asi...</td>\n",
       "      <td>[blue-collar, white-collar, unemployed, white-...</td>\n",
       "      <td>[university, none, university, none, universit...</td>\n",
       "      <td>[right-wing conservative, right-wing conservat...</td>\n",
       "      <td>1</td>\n",
       "    </tr>\n",
       "  </tbody>\n",
       "</table>\n",
       "</div>"
      ],
      "text/plain": [
       "                                                                                                                                                                                                          toxicity  \\\n",
       "conv_id                              message_id           comment_key                                        message                                                                                                 \n",
       "250cc245-86c4-4e97-a8ce-31d5d6796f71 -1428289379724132680 250cc245-86c4-4e97-a8ce-31d5d6796f71-1428289379... well thats a no brainer hillary clinton gave hu...  [5, 5, 5, 5, 5, 5, 5, 5, 5, 5, 5, 5, 5, 5, 5, ...   \n",
       "\n",
       "                                                                                                                                                                                                         annot_age  \\\n",
       "conv_id                              message_id           comment_key                                        message                                                                                                 \n",
       "250cc245-86c4-4e97-a8ce-31d5d6796f71 -1428289379724132680 250cc245-86c4-4e97-a8ce-31d5d6796f71-1428289379... well thats a no brainer hillary clinton gave hu...  [(69.75, 88.0], (33.25, 51.5], (69.75, 88.0], ...   \n",
       "\n",
       "                                                                                                                                                                                                         annot_sex  \\\n",
       "conv_id                              message_id           comment_key                                        message                                                                                                 \n",
       "250cc245-86c4-4e97-a8ce-31d5d6796f71 -1428289379724132680 250cc245-86c4-4e97-a8ce-31d5d6796f71-1428289379... well thats a no brainer hillary clinton gave hu...  [female, non-binary, female, male, male, male,...   \n",
       "\n",
       "                                                                                                                                                                                          annot_sexual_orientation  \\\n",
       "conv_id                              message_id           comment_key                                        message                                                                                                 \n",
       "250cc245-86c4-4e97-a8ce-31d5d6796f71 -1428289379724132680 250cc245-86c4-4e97-a8ce-31d5d6796f71-1428289379... well thats a no brainer hillary clinton gave hu...  [homosexual, straight, straight, straight, bis...   \n",
       "\n",
       "                                                                                                                                                                                           annot_demographic_group  \\\n",
       "conv_id                              message_id           comment_key                                        message                                                                                                 \n",
       "250cc245-86c4-4e97-a8ce-31d5d6796f71 -1428289379724132680 250cc245-86c4-4e97-a8ce-31d5d6796f71-1428289379... well thats a no brainer hillary clinton gave hu...  [black, white, asian, other, asian, other, asi...   \n",
       "\n",
       "                                                                                                                                                                                          annot_current_employment  \\\n",
       "conv_id                              message_id           comment_key                                        message                                                                                                 \n",
       "250cc245-86c4-4e97-a8ce-31d5d6796f71 -1428289379724132680 250cc245-86c4-4e97-a8ce-31d5d6796f71-1428289379... well thats a no brainer hillary clinton gave hu...  [blue-collar, white-collar, unemployed, white-...   \n",
       "\n",
       "                                                                                                                                                                                             annot_education_level  \\\n",
       "conv_id                              message_id           comment_key                                        message                                                                                                 \n",
       "250cc245-86c4-4e97-a8ce-31d5d6796f71 -1428289379724132680 250cc245-86c4-4e97-a8ce-31d5d6796f71-1428289379... well thats a no brainer hillary clinton gave hu...  [university, none, university, none, universit...   \n",
       "\n",
       "                                                                                                                                                                                                    annot_politics  \\\n",
       "conv_id                              message_id           comment_key                                        message                                                                                                 \n",
       "250cc245-86c4-4e97-a8ce-31d5d6796f71 -1428289379724132680 250cc245-86c4-4e97-a8ce-31d5d6796f71-1428289379... well thats a no brainer hillary clinton gave hu...  [right-wing conservative, right-wing conservat...   \n",
       "\n",
       "                                                                                                                                                                 fake_index  \n",
       "conv_id                              message_id           comment_key                                        message                                                         \n",
       "250cc245-86c4-4e97-a8ce-31d5d6796f71 -1428289379724132680 250cc245-86c4-4e97-a8ce-31d5d6796f71-1428289379... well thats a no brainer hillary clinton gave hu...           1  "
      ]
     },
     "execution_count": 3,
     "metadata": {},
     "output_type": "execute_result"
    }
   ],
   "source": [
    "df = pd.read_csv(\n",
    "    \"../data/100_annotators.csv\",\n",
    "    converters={\"annot_personality_characteristics\": ast.literal_eval},\n",
    ")\n",
    "df[\"toxicity\"] = df.annotation.apply(lambda x: x[-1]).astype(int)\n",
    "df[\"annot_politics\"] = df.annot_personality_characteristics.apply(\n",
    "    lambda x: x[0]\n",
    ")\n",
    "df.annot_age = pd.cut(df.annot_age, bins=4)\n",
    "df.message_id = df.message_id.astype(str)\n",
    "df[\"comment_key\"] = df.conv_id + df.message_id\n",
    "\n",
    "df = df.loc[\n",
    "    :,\n",
    "    [\n",
    "        \"conv_id\",\n",
    "        \"message_id\",\n",
    "        \"comment_key\",\n",
    "        \"message\",\n",
    "        \"toxicity\",\n",
    "        \"annot_age\",\n",
    "        \"annot_sex\",\n",
    "        \"annot_sexual_orientation\",\n",
    "        \"annot_demographic_group\",\n",
    "        \"annot_current_employment\",\n",
    "        \"annot_education_level\",\n",
    "        \"annot_politics\",\n",
    "    ],\n",
    "]\n",
    "df = df.groupby([\"conv_id\", \"message_id\", \"comment_key\", \"message\"]).apply(\n",
    "    lambda x: pd.Series(\n",
    "        {\n",
    "            col: x[col].tolist()\n",
    "            for col in df.columns\n",
    "            if col not in [\"conv_id\", \"message_id\", \"comment_key\", \"message\"]\n",
    "        }\n",
    "    ),\n",
    "    include_groups=False,\n",
    ")\n",
    "df[\"fake_index\"] = 1\n",
    "df.head(1)"
   ]
  },
  {
   "cell_type": "code",
   "execution_count": 4,
   "metadata": {},
   "outputs": [
    {
     "data": {
      "application/vnd.jupyter.widget-view+json": {
       "model_id": "f7b515dfeb8d4caa88d0073b1f0a8d5f",
       "version_major": 2,
       "version_minor": 0
      },
      "text/plain": [
       "  0%|          | 0/1 [00:00<?, ?it/s]"
      ]
     },
     "metadata": {},
     "output_type": "display_data"
    },
    {
     "data": {
      "text/html": [
       "<div>\n",
       "<style scoped>\n",
       "    .dataframe tbody tr th:only-of-type {\n",
       "        vertical-align: middle;\n",
       "    }\n",
       "\n",
       "    .dataframe tbody tr th {\n",
       "        vertical-align: top;\n",
       "    }\n",
       "\n",
       "    .dataframe thead th {\n",
       "        text-align: right;\n",
       "    }\n",
       "</style>\n",
       "<table border=\"1\" class=\"dataframe\">\n",
       "  <thead>\n",
       "    <tr style=\"text-align: right;\">\n",
       "      <th></th>\n",
       "      <th>1</th>\n",
       "    </tr>\n",
       "  </thead>\n",
       "  <tbody>\n",
       "    <tr>\n",
       "      <th>(14.927, 33.25]</th>\n",
       "      <td>-0.004283</td>\n",
       "    </tr>\n",
       "    <tr>\n",
       "      <th>(69.75, 88.0]</th>\n",
       "      <td>0.005865</td>\n",
       "    </tr>\n",
       "    <tr>\n",
       "      <th>(33.25, 51.5]</th>\n",
       "      <td>-0.002171</td>\n",
       "    </tr>\n",
       "    <tr>\n",
       "      <th>(51.5, 69.75]</th>\n",
       "      <td>0.004977</td>\n",
       "    </tr>\n",
       "  </tbody>\n",
       "</table>\n",
       "</div>"
      ],
      "text/plain": [
       "                        1\n",
       "(14.927, 33.25] -0.004283\n",
       "(69.75, 88.0]    0.005865\n",
       "(33.25, 51.5]   -0.002171\n",
       "(51.5, 69.75]    0.004977"
      ]
     },
     "execution_count": 4,
     "metadata": {},
     "output_type": "execute_result"
    }
   ],
   "source": [
    "tasks.run_helper.results(\n",
    "    df,\n",
    "    discussion_id_col=\"fake_index\",\n",
    "    sdb_column=\"annot_age\",\n",
    "    value_col=\"toxicity\",\n",
    "    comment_key_col=\"comment_key\",\n",
    ")"
   ]
  },
  {
   "cell_type": "code",
   "execution_count": 5,
   "metadata": {},
   "outputs": [
    {
     "data": {
      "application/vnd.jupyter.widget-view+json": {
       "model_id": "2a58e11d80a44026876d267ef947a4ff",
       "version_major": 2,
       "version_minor": 0
      },
      "text/plain": [
       "  0%|          | 0/1 [00:00<?, ?it/s]"
      ]
     },
     "metadata": {},
     "output_type": "display_data"
    },
    {
     "data": {
      "text/html": [
       "<div>\n",
       "<style scoped>\n",
       "    .dataframe tbody tr th:only-of-type {\n",
       "        vertical-align: middle;\n",
       "    }\n",
       "\n",
       "    .dataframe tbody tr th {\n",
       "        vertical-align: top;\n",
       "    }\n",
       "\n",
       "    .dataframe thead th {\n",
       "        text-align: right;\n",
       "    }\n",
       "</style>\n",
       "<table border=\"1\" class=\"dataframe\">\n",
       "  <thead>\n",
       "    <tr style=\"text-align: right;\">\n",
       "      <th></th>\n",
       "      <th>1</th>\n",
       "    </tr>\n",
       "  </thead>\n",
       "  <tbody>\n",
       "    <tr>\n",
       "      <th>female</th>\n",
       "      <td>-0.000121</td>\n",
       "    </tr>\n",
       "    <tr>\n",
       "      <th>male</th>\n",
       "      <td>0.007893</td>\n",
       "    </tr>\n",
       "    <tr>\n",
       "      <th>non-binary</th>\n",
       "      <td>-0.024462</td>\n",
       "    </tr>\n",
       "  </tbody>\n",
       "</table>\n",
       "</div>"
      ],
      "text/plain": [
       "                   1\n",
       "female     -0.000121\n",
       "male        0.007893\n",
       "non-binary -0.024462"
      ]
     },
     "execution_count": 5,
     "metadata": {},
     "output_type": "execute_result"
    }
   ],
   "source": [
    "tasks.run_helper.results(\n",
    "    df,\n",
    "    discussion_id_col=\"fake_index\",\n",
    "    sdb_column=\"annot_sex\",\n",
    "    value_col=\"toxicity\",\n",
    "    comment_key_col=\"comment_key\",\n",
    ")"
   ]
  },
  {
   "cell_type": "code",
   "execution_count": 6,
   "metadata": {},
   "outputs": [
    {
     "data": {
      "application/vnd.jupyter.widget-view+json": {
       "model_id": "ac465f4e4a1c45b39d2007e3a3133d82",
       "version_major": 2,
       "version_minor": 0
      },
      "text/plain": [
       "  0%|          | 0/1 [00:00<?, ?it/s]"
      ]
     },
     "metadata": {},
     "output_type": "display_data"
    },
    {
     "data": {
      "text/html": [
       "<div>\n",
       "<style scoped>\n",
       "    .dataframe tbody tr th:only-of-type {\n",
       "        vertical-align: middle;\n",
       "    }\n",
       "\n",
       "    .dataframe tbody tr th {\n",
       "        vertical-align: top;\n",
       "    }\n",
       "\n",
       "    .dataframe thead th {\n",
       "        text-align: right;\n",
       "    }\n",
       "</style>\n",
       "<table border=\"1\" class=\"dataframe\">\n",
       "  <thead>\n",
       "    <tr style=\"text-align: right;\">\n",
       "      <th></th>\n",
       "      <th>1</th>\n",
       "    </tr>\n",
       "  </thead>\n",
       "  <tbody>\n",
       "    <tr>\n",
       "      <th>other</th>\n",
       "      <td>0.018480</td>\n",
       "    </tr>\n",
       "    <tr>\n",
       "      <th>white</th>\n",
       "      <td>-0.012406</td>\n",
       "    </tr>\n",
       "    <tr>\n",
       "      <th>black</th>\n",
       "      <td>-0.006670</td>\n",
       "    </tr>\n",
       "    <tr>\n",
       "      <th>asian</th>\n",
       "      <td>-0.008821</td>\n",
       "    </tr>\n",
       "  </tbody>\n",
       "</table>\n",
       "</div>"
      ],
      "text/plain": [
       "              1\n",
       "other  0.018480\n",
       "white -0.012406\n",
       "black -0.006670\n",
       "asian -0.008821"
      ]
     },
     "execution_count": 6,
     "metadata": {},
     "output_type": "execute_result"
    }
   ],
   "source": [
    "tasks.run_helper.results(\n",
    "    df,\n",
    "    discussion_id_col=\"fake_index\",\n",
    "    sdb_column=\"annot_demographic_group\",\n",
    "    value_col=\"toxicity\",\n",
    "    comment_key_col=\"comment_key\",\n",
    ")"
   ]
  },
  {
   "cell_type": "code",
   "execution_count": 7,
   "metadata": {},
   "outputs": [
    {
     "data": {
      "application/vnd.jupyter.widget-view+json": {
       "model_id": "48d08a04d0844431903ae9590ed82140",
       "version_major": 2,
       "version_minor": 0
      },
      "text/plain": [
       "  0%|          | 0/1 [00:00<?, ?it/s]"
      ]
     },
     "metadata": {},
     "output_type": "display_data"
    },
    {
     "data": {
      "text/html": [
       "<div>\n",
       "<style scoped>\n",
       "    .dataframe tbody tr th:only-of-type {\n",
       "        vertical-align: middle;\n",
       "    }\n",
       "\n",
       "    .dataframe tbody tr th {\n",
       "        vertical-align: top;\n",
       "    }\n",
       "\n",
       "    .dataframe thead th {\n",
       "        text-align: right;\n",
       "    }\n",
       "</style>\n",
       "<table border=\"1\" class=\"dataframe\">\n",
       "  <thead>\n",
       "    <tr style=\"text-align: right;\">\n",
       "      <th></th>\n",
       "      <th>1</th>\n",
       "    </tr>\n",
       "  </thead>\n",
       "  <tbody>\n",
       "    <tr>\n",
       "      <th>other</th>\n",
       "      <td>0.027271</td>\n",
       "    </tr>\n",
       "    <tr>\n",
       "      <th>straight</th>\n",
       "      <td>-0.002913</td>\n",
       "    </tr>\n",
       "    <tr>\n",
       "      <th>bisexual</th>\n",
       "      <td>-0.018450</td>\n",
       "    </tr>\n",
       "    <tr>\n",
       "      <th>homosexual</th>\n",
       "      <td>0.000827</td>\n",
       "    </tr>\n",
       "  </tbody>\n",
       "</table>\n",
       "</div>"
      ],
      "text/plain": [
       "                   1\n",
       "other       0.027271\n",
       "straight   -0.002913\n",
       "bisexual   -0.018450\n",
       "homosexual  0.000827"
      ]
     },
     "execution_count": 7,
     "metadata": {},
     "output_type": "execute_result"
    }
   ],
   "source": [
    "tasks.run_helper.results(\n",
    "    df,\n",
    "    discussion_id_col=\"fake_index\",\n",
    "    sdb_column=\"annot_sexual_orientation\",\n",
    "    value_col=\"toxicity\",\n",
    "    comment_key_col=\"comment_key\",\n",
    ")"
   ]
  },
  {
   "cell_type": "code",
   "execution_count": 8,
   "metadata": {},
   "outputs": [
    {
     "data": {
      "application/vnd.jupyter.widget-view+json": {
       "model_id": "48e1f4f488f1480c98609f32875dbf14",
       "version_major": 2,
       "version_minor": 0
      },
      "text/plain": [
       "  0%|          | 0/1 [00:00<?, ?it/s]"
      ]
     },
     "metadata": {},
     "output_type": "display_data"
    },
    {
     "data": {
      "text/html": [
       "<div>\n",
       "<style scoped>\n",
       "    .dataframe tbody tr th:only-of-type {\n",
       "        vertical-align: middle;\n",
       "    }\n",
       "\n",
       "    .dataframe tbody tr th {\n",
       "        vertical-align: top;\n",
       "    }\n",
       "\n",
       "    .dataframe thead th {\n",
       "        text-align: right;\n",
       "    }\n",
       "</style>\n",
       "<table border=\"1\" class=\"dataframe\">\n",
       "  <thead>\n",
       "    <tr style=\"text-align: right;\">\n",
       "      <th></th>\n",
       "      <th>1</th>\n",
       "    </tr>\n",
       "  </thead>\n",
       "  <tbody>\n",
       "    <tr>\n",
       "      <th>unemployed</th>\n",
       "      <td>-0.005997</td>\n",
       "    </tr>\n",
       "    <tr>\n",
       "      <th>white-collar</th>\n",
       "      <td>0.004593</td>\n",
       "    </tr>\n",
       "    <tr>\n",
       "      <th>blue-collar</th>\n",
       "      <td>-0.000884</td>\n",
       "    </tr>\n",
       "  </tbody>\n",
       "</table>\n",
       "</div>"
      ],
      "text/plain": [
       "                     1\n",
       "unemployed   -0.005997\n",
       "white-collar  0.004593\n",
       "blue-collar  -0.000884"
      ]
     },
     "execution_count": 8,
     "metadata": {},
     "output_type": "execute_result"
    }
   ],
   "source": [
    "tasks.run_helper.results(\n",
    "    df,\n",
    "    discussion_id_col=\"fake_index\",\n",
    "    sdb_column=\"annot_current_employment\",\n",
    "    value_col=\"toxicity\",\n",
    "    comment_key_col=\"comment_key\",\n",
    ")"
   ]
  },
  {
   "cell_type": "code",
   "execution_count": 9,
   "metadata": {},
   "outputs": [
    {
     "data": {
      "application/vnd.jupyter.widget-view+json": {
       "model_id": "29fa7a0253cc4b769b30956338db2b63",
       "version_major": 2,
       "version_minor": 0
      },
      "text/plain": [
       "  0%|          | 0/1 [00:00<?, ?it/s]"
      ]
     },
     "metadata": {},
     "output_type": "display_data"
    },
    {
     "data": {
      "text/html": [
       "<div>\n",
       "<style scoped>\n",
       "    .dataframe tbody tr th:only-of-type {\n",
       "        vertical-align: middle;\n",
       "    }\n",
       "\n",
       "    .dataframe tbody tr th {\n",
       "        vertical-align: top;\n",
       "    }\n",
       "\n",
       "    .dataframe thead th {\n",
       "        text-align: right;\n",
       "    }\n",
       "</style>\n",
       "<table border=\"1\" class=\"dataframe\">\n",
       "  <thead>\n",
       "    <tr style=\"text-align: right;\">\n",
       "      <th></th>\n",
       "      <th>1</th>\n",
       "    </tr>\n",
       "  </thead>\n",
       "  <tbody>\n",
       "    <tr>\n",
       "      <th>high-school</th>\n",
       "      <td>-0.008642</td>\n",
       "    </tr>\n",
       "    <tr>\n",
       "      <th>university</th>\n",
       "      <td>-0.004622</td>\n",
       "    </tr>\n",
       "    <tr>\n",
       "      <th>none</th>\n",
       "      <td>0.009293</td>\n",
       "    </tr>\n",
       "  </tbody>\n",
       "</table>\n",
       "</div>"
      ],
      "text/plain": [
       "                    1\n",
       "high-school -0.008642\n",
       "university  -0.004622\n",
       "none         0.009293"
      ]
     },
     "execution_count": 9,
     "metadata": {},
     "output_type": "execute_result"
    }
   ],
   "source": [
    "tasks.run_helper.results(\n",
    "    df,\n",
    "    discussion_id_col=\"fake_index\",\n",
    "    sdb_column=\"annot_education_level\",\n",
    "    value_col=\"toxicity\",\n",
    "    comment_key_col=\"comment_key\",\n",
    ")"
   ]
  },
  {
   "cell_type": "code",
   "execution_count": 10,
   "metadata": {},
   "outputs": [
    {
     "data": {
      "application/vnd.jupyter.widget-view+json": {
       "model_id": "2e9ec41f1b794b18a8371891f3f9a4aa",
       "version_major": 2,
       "version_minor": 0
      },
      "text/plain": [
       "  0%|          | 0/1 [00:00<?, ?it/s]"
      ]
     },
     "metadata": {},
     "output_type": "display_data"
    },
    {
     "data": {
      "text/html": [
       "<div>\n",
       "<style scoped>\n",
       "    .dataframe tbody tr th:only-of-type {\n",
       "        vertical-align: middle;\n",
       "    }\n",
       "\n",
       "    .dataframe tbody tr th {\n",
       "        vertical-align: top;\n",
       "    }\n",
       "\n",
       "    .dataframe thead th {\n",
       "        text-align: right;\n",
       "    }\n",
       "</style>\n",
       "<table border=\"1\" class=\"dataframe\">\n",
       "  <thead>\n",
       "    <tr style=\"text-align: right;\">\n",
       "      <th></th>\n",
       "      <th>1</th>\n",
       "    </tr>\n",
       "  </thead>\n",
       "  <tbody>\n",
       "    <tr>\n",
       "      <th>right-wing conservative</th>\n",
       "      <td>-0.003034</td>\n",
       "    </tr>\n",
       "    <tr>\n",
       "      <th>apolitical</th>\n",
       "      <td>0.016424</td>\n",
       "    </tr>\n",
       "    <tr>\n",
       "      <th>left-wing liberal</th>\n",
       "      <td>-0.007343</td>\n",
       "    </tr>\n",
       "  </tbody>\n",
       "</table>\n",
       "</div>"
      ],
      "text/plain": [
       "                                1\n",
       "right-wing conservative -0.003034\n",
       "apolitical               0.016424\n",
       "left-wing liberal       -0.007343"
      ]
     },
     "execution_count": 10,
     "metadata": {},
     "output_type": "execute_result"
    }
   ],
   "source": [
    "tasks.run_helper.results(\n",
    "    df,\n",
    "    discussion_id_col=\"fake_index\",\n",
    "    sdb_column=\"annot_politics\",\n",
    "    value_col=\"toxicity\",\n",
    "    comment_key_col=\"comment_key\",\n",
    ")"
   ]
  },
  {
   "cell_type": "code",
   "execution_count": 11,
   "metadata": {},
   "outputs": [
    {
     "data": {
      "application/vnd.jupyter.widget-view+json": {
       "model_id": "72f9f83bfa00469695c08f9fd2214bcf",
       "version_major": 2,
       "version_minor": 0
      },
      "text/plain": [
       "  0%|          | 0/1 [00:00<?, ?it/s]"
      ]
     },
     "metadata": {},
     "output_type": "display_data"
    },
    {
     "data": {
      "text/html": [
       "<div>\n",
       "<style scoped>\n",
       "    .dataframe tbody tr th:only-of-type {\n",
       "        vertical-align: middle;\n",
       "    }\n",
       "\n",
       "    .dataframe tbody tr th {\n",
       "        vertical-align: top;\n",
       "    }\n",
       "\n",
       "    .dataframe thead th {\n",
       "        text-align: right;\n",
       "    }\n",
       "</style>\n",
       "<table border=\"1\" class=\"dataframe\">\n",
       "  <thead>\n",
       "    <tr style=\"text-align: right;\">\n",
       "      <th></th>\n",
       "      <th>1</th>\n",
       "    </tr>\n",
       "  </thead>\n",
       "  <tbody>\n",
       "    <tr>\n",
       "      <th>1</th>\n",
       "      <td>0.022948</td>\n",
       "    </tr>\n",
       "    <tr>\n",
       "      <th>2</th>\n",
       "      <td>0.015420</td>\n",
       "    </tr>\n",
       "    <tr>\n",
       "      <th>3</th>\n",
       "      <td>-0.010759</td>\n",
       "    </tr>\n",
       "    <tr>\n",
       "      <th>4</th>\n",
       "      <td>-0.007645</td>\n",
       "    </tr>\n",
       "    <tr>\n",
       "      <th>5</th>\n",
       "      <td>0.019393</td>\n",
       "    </tr>\n",
       "    <tr>\n",
       "      <th>6</th>\n",
       "      <td>-0.015986</td>\n",
       "    </tr>\n",
       "    <tr>\n",
       "      <th>7</th>\n",
       "      <td>0.011511</td>\n",
       "    </tr>\n",
       "    <tr>\n",
       "      <th>8</th>\n",
       "      <td>-0.011327</td>\n",
       "    </tr>\n",
       "    <tr>\n",
       "      <th>9</th>\n",
       "      <td>-0.019717</td>\n",
       "    </tr>\n",
       "  </tbody>\n",
       "</table>\n",
       "</div>"
      ],
      "text/plain": [
       "          1\n",
       "1  0.022948\n",
       "2  0.015420\n",
       "3 -0.010759\n",
       "4 -0.007645\n",
       "5  0.019393\n",
       "6 -0.015986\n",
       "7  0.011511\n",
       "8 -0.011327\n",
       "9 -0.019717"
      ]
     },
     "execution_count": 11,
     "metadata": {},
     "output_type": "execute_result"
    }
   ],
   "source": [
    "df[\"random\"] = df.annot_politics.apply(\n",
    "    lambda x: [np.random.randint(1, 10) for _ in range(len(x))]\n",
    ")\n",
    "tasks.run_helper.results(\n",
    "    df,\n",
    "    discussion_id_col=\"fake_index\",\n",
    "    sdb_column=\"random\",\n",
    "    value_col=\"toxicity\",\n",
    "    comment_key_col=\"comment_key\",\n",
    ")"
   ]
  }
 ],
 "metadata": {
  "kernelspec": {
   "display_name": "apunim-experiments",
   "language": "python",
   "name": "python3"
  },
  "language_info": {
   "codemirror_mode": {
    "name": "ipython",
    "version": 3
   },
   "file_extension": ".py",
   "mimetype": "text/x-python",
   "name": "python",
   "nbconvert_exporter": "python",
   "pygments_lexer": "ipython3",
   "version": "3.13.5"
  }
 },
 "nbformat": 4,
 "nbformat_minor": 2
}
