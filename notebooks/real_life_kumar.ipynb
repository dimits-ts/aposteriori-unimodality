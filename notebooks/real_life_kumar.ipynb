{
 "cells": [
  {
   "cell_type": "code",
   "execution_count": 1,
   "metadata": {},
   "outputs": [],
   "source": [
    "import sys\n",
    "\n",
    "# IT'S 2025 WHY HASN'T SOMEONE FIXED THIS\n",
    "if \"..\" not in sys.path:\n",
    "    sys.path.insert(0, \"..\")\n",
    "\n",
    "import pandas as pd\n",
    "from tqdm.auto import tqdm\n",
    "\n",
    "import tasks.run_helper"
   ]
  },
  {
   "cell_type": "code",
   "execution_count": 2,
   "metadata": {},
   "outputs": [
    {
     "data": {
      "text/html": [
       "<div>\n",
       "<style scoped>\n",
       "    .dataframe tbody tr th:only-of-type {\n",
       "        vertical-align: middle;\n",
       "    }\n",
       "\n",
       "    .dataframe tbody tr th {\n",
       "        vertical-align: top;\n",
       "    }\n",
       "\n",
       "    .dataframe thead th {\n",
       "        text-align: right;\n",
       "    }\n",
       "</style>\n",
       "<table border=\"1\" class=\"dataframe\">\n",
       "  <thead>\n",
       "    <tr style=\"text-align: right;\">\n",
       "      <th></th>\n",
       "      <th>toxic_score</th>\n",
       "      <th>personally_seen_toxic_content</th>\n",
       "      <th>personally_been_target</th>\n",
       "      <th>identify_as_transgender</th>\n",
       "      <th>toxic_comments_problem</th>\n",
       "      <th>education</th>\n",
       "      <th>age_range</th>\n",
       "      <th>lgbtq_status</th>\n",
       "      <th>political_affilation</th>\n",
       "      <th>is_parent</th>\n",
       "      <th>religion_important</th>\n",
       "      <th>fake_index</th>\n",
       "    </tr>\n",
       "    <tr>\n",
       "      <th>comment</th>\n",
       "      <th></th>\n",
       "      <th></th>\n",
       "      <th></th>\n",
       "      <th></th>\n",
       "      <th></th>\n",
       "      <th></th>\n",
       "      <th></th>\n",
       "      <th></th>\n",
       "      <th></th>\n",
       "      <th></th>\n",
       "      <th></th>\n",
       "      <th></th>\n",
       "    </tr>\n",
       "  </thead>\n",
       "  <tbody>\n",
       "    <tr>\n",
       "      <th>\"Bro, can you spot me?\" &amp;amp;#x200B; I just shit my pants a little. Did anyone get hurt?</th>\n",
       "      <td>[3, 0, 1, 4, 0]</td>\n",
       "      <td>[True, True, True, False, True]</td>\n",
       "      <td>[True, True, True, False, True]</td>\n",
       "      <td>[No, No, No, No, No]</td>\n",
       "      <td>[Rarely a problem, Very frequently a problem, ...</td>\n",
       "      <td>[Master's degree, Master's degree, Bachelor's ...</td>\n",
       "      <td>[25 - 34, 45 - 54, 45 - 54, 25 - 34, 18 - 24]</td>\n",
       "      <td>[Heterosexual, Heterosexual, Heterosexual, Het...</td>\n",
       "      <td>[Liberal, Independent, Liberal, Conservative, ...</td>\n",
       "      <td>[Yes, No, Yes, No, No]</td>\n",
       "      <td>[Somewhat important, Somewhat important, Somew...</td>\n",
       "      <td>0</td>\n",
       "    </tr>\n",
       "    <tr>\n",
       "      <th>\"Never\" as in \"not often, and certainly not in the recent past.\" What kind of dictionary are you reading? This is what I get for never.  Never  adverb  1. at no time in the past or future; not ever. Slightly different from your definition.  And what's wrong with targeted assassinations and overthrowing foreign governments from time to time, exactly? A lot. Its destabilising. Just look at the Middle East and see for yourself. You've only spent about 7 trillions trying to clean up your own messes. Now you are making the same mistakes in Venezuela. First you deny the US has even done these things. Now when provided ample proof of all these things, you try and brush it off as if its not a big deal. And on top of that accuse me of Gish Gallop. Are you trolling? Or just real stupid?</th>\n",
       "      <td>[0, 1, 1, 4, 3]</td>\n",
       "      <td>[False, False, True, False, True]</td>\n",
       "      <td>[False, False, True, False, True]</td>\n",
       "      <td>[No, No, No, No, No]</td>\n",
       "      <td>[Occasionally a problem, Occasionally a proble...</td>\n",
       "      <td>[Bachelor's degree in college (4-year), Master...</td>\n",
       "      <td>[25 - 34, 25 - 34, 35 - 44, 65 or older, 25 - 34]</td>\n",
       "      <td>[Heterosexual, Heterosexual, Heterosexual, Het...</td>\n",
       "      <td>[Liberal, Conservative, Independent, Liberal, ...</td>\n",
       "      <td>[Yes, Yes, No, No, Yes]</td>\n",
       "      <td>[Very important, Very important, Somewhat impo...</td>\n",
       "      <td>0</td>\n",
       "    </tr>\n",
       "    <tr>\n",
       "      <th>\"We are not talking about all white people</th>\n",
       "      <td>[2, 3, 0, 2, 0]</td>\n",
       "      <td>[True, True, False, True, True]</td>\n",
       "      <td>[True, True, False, True, False]</td>\n",
       "      <td>[No, No, No, Yes, No]</td>\n",
       "      <td>[Occasionally a problem, Occasionally a proble...</td>\n",
       "      <td>[Bachelor's degree in college (4-year), Bachel...</td>\n",
       "      <td>[35 - 44, 55 - 64, 55 - 64, 45 - 54, 25 - 34]</td>\n",
       "      <td>[Heterosexual, Heterosexual, Heterosexual, Het...</td>\n",
       "      <td>[Independent, Conservative, Independent, Indep...</td>\n",
       "      <td>[Yes, Yes, Yes, Yes, No]</td>\n",
       "      <td>[Somewhat important, Not important, Not import...</td>\n",
       "      <td>0</td>\n",
       "    </tr>\n",
       "    <tr>\n",
       "      <th>\"Yeah well if we were made in his perfect image then why would the Penis and the testicles so exposed *Points down to genitals*\"</th>\n",
       "      <td>[0, 2, 1, 4, 0]</td>\n",
       "      <td>[True, True, True, False, False]</td>\n",
       "      <td>[True, False, False, False, False]</td>\n",
       "      <td>[No, No, No, No, No]</td>\n",
       "      <td>[Frequently a problem, Occasionally a problem,...</td>\n",
       "      <td>[Master's degree, Bachelor's degree in college...</td>\n",
       "      <td>[35 - 44, 18 - 24, 45 - 54, 45 - 54, 25 - 34]</td>\n",
       "      <td>[Homosexual, Heterosexual, Heterosexual, Heter...</td>\n",
       "      <td>[Liberal, Independent, Liberal, Conservative, ...</td>\n",
       "      <td>[No, No, Yes, Yes, Yes]</td>\n",
       "      <td>[Not important, Somewhat important, Not import...</td>\n",
       "      <td>0</td>\n",
       "    </tr>\n",
       "    <tr>\n",
       "      <th>\"i'm offended\" - tell them that you're offended by their obnoxious behavior</th>\n",
       "      <td>[0, 1, 0, 0, 0]</td>\n",
       "      <td>[True, False, True, False, True]</td>\n",
       "      <td>[False, False, True, False, False]</td>\n",
       "      <td>[No, No, No, No, No]</td>\n",
       "      <td>[Occasionally a problem, Occasionally a proble...</td>\n",
       "      <td>[High school graduate (high school diploma or ...</td>\n",
       "      <td>[25 - 34, 25 - 34, 25 - 34, 35 - 44, 45 - 54]</td>\n",
       "      <td>[Heterosexual, Heterosexual, Heterosexual, Het...</td>\n",
       "      <td>[Independent, Liberal, Independent, Liberal, C...</td>\n",
       "      <td>[No, Yes, Yes, No, Yes]</td>\n",
       "      <td>[Very important, Somewhat important, Very impo...</td>\n",
       "      <td>0</td>\n",
       "    </tr>\n",
       "    <tr>\n",
       "      <th>...</th>\n",
       "      <td>...</td>\n",
       "      <td>...</td>\n",
       "      <td>...</td>\n",
       "      <td>...</td>\n",
       "      <td>...</td>\n",
       "      <td>...</td>\n",
       "      <td>...</td>\n",
       "      <td>...</td>\n",
       "      <td>...</td>\n",
       "      <td>...</td>\n",
       "      <td>...</td>\n",
       "      <td>...</td>\n",
       "    </tr>\n",
       "    <tr>\n",
       "      <th>AND SHE WILL WIN. NO OTHER WAY TO LOOK AT IT. IT'S TIME FOR 24/7 COVERAGE OF WHAT MITCH HAS COST THIS NATION WITH HIS ONE TRACK AGENDA. HOLDING UP EVERYTHING, IN EFFECT THROWING ALL OUR TAX MONEY AWAY. HE IS DECIDING FOR 300 MILLION PEOPLE HOW TO RUN THIER COUNTRY. BAD BAD BAD...</th>\n",
       "      <td>[1, 1, 0, 1, 0]</td>\n",
       "      <td>[False, True, True, True, True]</td>\n",
       "      <td>[False, False, False, False, False]</td>\n",
       "      <td>[No, No, No, No, No]</td>\n",
       "      <td>[Frequently a problem, Very frequently a probl...</td>\n",
       "      <td>[Master's degree, Bachelor's degree in college...</td>\n",
       "      <td>[45 - 54, 35 - 44, 55 - 64, 35 - 44, 18 - 24]</td>\n",
       "      <td>[Heterosexual, Heterosexual, Heterosexual, Het...</td>\n",
       "      <td>[Independent, Liberal, Conservative, Liberal, ...</td>\n",
       "      <td>[Yes, Yes, Yes, Yes, No]</td>\n",
       "      <td>[Very important, Not important, Very important...</td>\n",
       "      <td>0</td>\n",
       "    </tr>\n",
       "    <tr>\n",
       "      <th>AND THAT BLUSH. I THINK YOURE TRYING TO KILL ME</th>\n",
       "      <td>[2, 0, 2, 0, 0]</td>\n",
       "      <td>[False, False, False, True, True]</td>\n",
       "      <td>[False, False, False, False, False]</td>\n",
       "      <td>[No, No, No, No, No]</td>\n",
       "      <td>[Not a problem, Rarely a problem, Rarely a pro...</td>\n",
       "      <td>[High school graduate (high school diploma or ...</td>\n",
       "      <td>[65 or older, 25 - 34, 25 - 34, 18 - 24, 18 - 24]</td>\n",
       "      <td>[Heterosexual, Heterosexual, Heterosexual, Het...</td>\n",
       "      <td>[Liberal, Independent, Liberal, Prefer not to ...</td>\n",
       "      <td>[Prefer not to say, No, No, Yes, No]</td>\n",
       "      <td>[Not important, Not important, Somewhat import...</td>\n",
       "      <td>0</td>\n",
       "    </tr>\n",
       "    <tr>\n",
       "      <th>AND THERE IS OUR POINT. STAY WOKE. STAY EDUCATED NOW. AND TEACH YOUR BABY RESPECT. I personally was not trying to disrespect but shit some people need to be told things in different ways. We all learn differently.</th>\n",
       "      <td>[0, 0, 0, 0, 1]</td>\n",
       "      <td>[False, True, True, True, True]</td>\n",
       "      <td>[False, False, False, False, True]</td>\n",
       "      <td>[No, No, No, No, No]</td>\n",
       "      <td>[Very frequently a problem, Frequently a probl...</td>\n",
       "      <td>[Bachelor's degree in college (4-year), Master...</td>\n",
       "      <td>[35 - 44, 55 - 64, 35 - 44, 25 - 34, 25 - 34]</td>\n",
       "      <td>[Heterosexual, Homosexual, Heterosexual, Heter...</td>\n",
       "      <td>[Independent, Liberal, Liberal, Independent, L...</td>\n",
       "      <td>[Yes, Yes, No, Yes, No]</td>\n",
       "      <td>[Very important, Not too important, Very impor...</td>\n",
       "      <td>0</td>\n",
       "    </tr>\n",
       "    <tr>\n",
       "      <th>AND THEY SAID WE ARNT GOING TO WAR!</th>\n",
       "      <td>[0, 0, 3, 0, 0]</td>\n",
       "      <td>[False, True, True, True, True]</td>\n",
       "      <td>[False, False, True, False, True]</td>\n",
       "      <td>[No, No, No, No, No]</td>\n",
       "      <td>[Frequently a problem, Rarely a problem, Rarel...</td>\n",
       "      <td>[Bachelor's degree in college (4-year), Doctor...</td>\n",
       "      <td>[35 - 44, 35 - 44, 55 - 64, 35 - 44, 35 - 44]</td>\n",
       "      <td>[Heterosexual, Bisexual, Heterosexual, Heteros...</td>\n",
       "      <td>[Liberal, Conservative, Conservative, Liberal,...</td>\n",
       "      <td>[Yes, Yes, Yes, Yes, Yes]</td>\n",
       "      <td>[Very important, Very important, Somewhat impo...</td>\n",
       "      <td>0</td>\n",
       "    </tr>\n",
       "    <tr>\n",
       "      <th>AND THEY WERE LIKE. SUCKING FACE I DONT WANNA SEE ANYONR BEING THAT AGGRESSIVELY STRAIGHT ESP NOT BABIES</th>\n",
       "      <td>[1, 1, 2, 2, 3]</td>\n",
       "      <td>[True, False, False, True, True]</td>\n",
       "      <td>[True, False, False, False, False]</td>\n",
       "      <td>[No, Prefer not to say, No, No, No]</td>\n",
       "      <td>[Very frequently a problem, Rarely a problem, ...</td>\n",
       "      <td>[Some college but no degree, Prefer not to say...</td>\n",
       "      <td>[45 - 54, Prefer not to say, 45 - 54, 65 or ol...</td>\n",
       "      <td>[Heterosexual, Prefer not to say, Heterosexual...</td>\n",
       "      <td>[Conservative, Prefer not to say, Liberal, Ind...</td>\n",
       "      <td>[Yes, Prefer not to say, No, Yes, Yes]</td>\n",
       "      <td>[Very important, Prefer not to say, Not too im...</td>\n",
       "      <td>0</td>\n",
       "    </tr>\n",
       "  </tbody>\n",
       "</table>\n",
       "<p>5000 rows × 12 columns</p>\n",
       "</div>"
      ],
      "text/plain": [
       "                                                        toxic_score  \\\n",
       "comment                                                               \n",
       " \"Bro, can you spot me?\" &amp;#x200B; I just sh...  [3, 0, 1, 4, 0]   \n",
       " \"Never\" as in \"not often, and certainly not in...  [0, 1, 1, 4, 3]   \n",
       " \"We are not talking about all white people         [2, 3, 0, 2, 0]   \n",
       " \"Yeah well if we were made in his perfect imag...  [0, 2, 1, 4, 0]   \n",
       " \"i'm offended\" - tell them that you're offende...  [0, 1, 0, 0, 0]   \n",
       "...                                                             ...   \n",
       "AND SHE WILL WIN. NO OTHER WAY TO LOOK AT IT. I...  [1, 1, 0, 1, 0]   \n",
       "AND THAT BLUSH. I THINK YOURE TRYING TO KILL ME     [2, 0, 2, 0, 0]   \n",
       "AND THERE IS OUR POINT. STAY WOKE. STAY EDUCATE...  [0, 0, 0, 0, 1]   \n",
       "AND THEY SAID WE ARNT GOING TO WAR!                 [0, 0, 3, 0, 0]   \n",
       "AND THEY WERE LIKE. SUCKING FACE I DONT WANNA S...  [1, 1, 2, 2, 3]   \n",
       "\n",
       "                                                        personally_seen_toxic_content  \\\n",
       "comment                                                                                 \n",
       " \"Bro, can you spot me?\" &amp;#x200B; I just sh...    [True, True, True, False, True]   \n",
       " \"Never\" as in \"not often, and certainly not in...  [False, False, True, False, True]   \n",
       " \"We are not talking about all white people           [True, True, False, True, True]   \n",
       " \"Yeah well if we were made in his perfect imag...   [True, True, True, False, False]   \n",
       " \"i'm offended\" - tell them that you're offende...   [True, False, True, False, True]   \n",
       "...                                                                               ...   \n",
       "AND SHE WILL WIN. NO OTHER WAY TO LOOK AT IT. I...    [False, True, True, True, True]   \n",
       "AND THAT BLUSH. I THINK YOURE TRYING TO KILL ME     [False, False, False, True, True]   \n",
       "AND THERE IS OUR POINT. STAY WOKE. STAY EDUCATE...    [False, True, True, True, True]   \n",
       "AND THEY SAID WE ARNT GOING TO WAR!                   [False, True, True, True, True]   \n",
       "AND THEY WERE LIKE. SUCKING FACE I DONT WANNA S...   [True, False, False, True, True]   \n",
       "\n",
       "                                                                 personally_been_target  \\\n",
       "comment                                                                                   \n",
       " \"Bro, can you spot me?\" &amp;#x200B; I just sh...      [True, True, True, False, True]   \n",
       " \"Never\" as in \"not often, and certainly not in...    [False, False, True, False, True]   \n",
       " \"We are not talking about all white people            [True, True, False, True, False]   \n",
       " \"Yeah well if we were made in his perfect imag...   [True, False, False, False, False]   \n",
       " \"i'm offended\" - tell them that you're offende...   [False, False, True, False, False]   \n",
       "...                                                                                 ...   \n",
       "AND SHE WILL WIN. NO OTHER WAY TO LOOK AT IT. I...  [False, False, False, False, False]   \n",
       "AND THAT BLUSH. I THINK YOURE TRYING TO KILL ME     [False, False, False, False, False]   \n",
       "AND THERE IS OUR POINT. STAY WOKE. STAY EDUCATE...   [False, False, False, False, True]   \n",
       "AND THEY SAID WE ARNT GOING TO WAR!                   [False, False, True, False, True]   \n",
       "AND THEY WERE LIKE. SUCKING FACE I DONT WANNA S...   [True, False, False, False, False]   \n",
       "\n",
       "                                                                identify_as_transgender  \\\n",
       "comment                                                                                   \n",
       " \"Bro, can you spot me?\" &amp;#x200B; I just sh...                 [No, No, No, No, No]   \n",
       " \"Never\" as in \"not often, and certainly not in...                 [No, No, No, No, No]   \n",
       " \"We are not talking about all white people                       [No, No, No, Yes, No]   \n",
       " \"Yeah well if we were made in his perfect imag...                 [No, No, No, No, No]   \n",
       " \"i'm offended\" - tell them that you're offende...                 [No, No, No, No, No]   \n",
       "...                                                                                 ...   \n",
       "AND SHE WILL WIN. NO OTHER WAY TO LOOK AT IT. I...                 [No, No, No, No, No]   \n",
       "AND THAT BLUSH. I THINK YOURE TRYING TO KILL ME                    [No, No, No, No, No]   \n",
       "AND THERE IS OUR POINT. STAY WOKE. STAY EDUCATE...                 [No, No, No, No, No]   \n",
       "AND THEY SAID WE ARNT GOING TO WAR!                                [No, No, No, No, No]   \n",
       "AND THEY WERE LIKE. SUCKING FACE I DONT WANNA S...  [No, Prefer not to say, No, No, No]   \n",
       "\n",
       "                                                                               toxic_comments_problem  \\\n",
       "comment                                                                                                 \n",
       " \"Bro, can you spot me?\" &amp;#x200B; I just sh...  [Rarely a problem, Very frequently a problem, ...   \n",
       " \"Never\" as in \"not often, and certainly not in...  [Occasionally a problem, Occasionally a proble...   \n",
       " \"We are not talking about all white people         [Occasionally a problem, Occasionally a proble...   \n",
       " \"Yeah well if we were made in his perfect imag...  [Frequently a problem, Occasionally a problem,...   \n",
       " \"i'm offended\" - tell them that you're offende...  [Occasionally a problem, Occasionally a proble...   \n",
       "...                                                                                               ...   \n",
       "AND SHE WILL WIN. NO OTHER WAY TO LOOK AT IT. I...  [Frequently a problem, Very frequently a probl...   \n",
       "AND THAT BLUSH. I THINK YOURE TRYING TO KILL ME     [Not a problem, Rarely a problem, Rarely a pro...   \n",
       "AND THERE IS OUR POINT. STAY WOKE. STAY EDUCATE...  [Very frequently a problem, Frequently a probl...   \n",
       "AND THEY SAID WE ARNT GOING TO WAR!                 [Frequently a problem, Rarely a problem, Rarel...   \n",
       "AND THEY WERE LIKE. SUCKING FACE I DONT WANNA S...  [Very frequently a problem, Rarely a problem, ...   \n",
       "\n",
       "                                                                                            education  \\\n",
       "comment                                                                                                 \n",
       " \"Bro, can you spot me?\" &amp;#x200B; I just sh...  [Master's degree, Master's degree, Bachelor's ...   \n",
       " \"Never\" as in \"not often, and certainly not in...  [Bachelor's degree in college (4-year), Master...   \n",
       " \"We are not talking about all white people         [Bachelor's degree in college (4-year), Bachel...   \n",
       " \"Yeah well if we were made in his perfect imag...  [Master's degree, Bachelor's degree in college...   \n",
       " \"i'm offended\" - tell them that you're offende...  [High school graduate (high school diploma or ...   \n",
       "...                                                                                               ...   \n",
       "AND SHE WILL WIN. NO OTHER WAY TO LOOK AT IT. I...  [Master's degree, Bachelor's degree in college...   \n",
       "AND THAT BLUSH. I THINK YOURE TRYING TO KILL ME     [High school graduate (high school diploma or ...   \n",
       "AND THERE IS OUR POINT. STAY WOKE. STAY EDUCATE...  [Bachelor's degree in college (4-year), Master...   \n",
       "AND THEY SAID WE ARNT GOING TO WAR!                 [Bachelor's degree in college (4-year), Doctor...   \n",
       "AND THEY WERE LIKE. SUCKING FACE I DONT WANNA S...  [Some college but no degree, Prefer not to say...   \n",
       "\n",
       "                                                                                            age_range  \\\n",
       "comment                                                                                                 \n",
       " \"Bro, can you spot me?\" &amp;#x200B; I just sh...      [25 - 34, 45 - 54, 45 - 54, 25 - 34, 18 - 24]   \n",
       " \"Never\" as in \"not often, and certainly not in...  [25 - 34, 25 - 34, 35 - 44, 65 or older, 25 - 34]   \n",
       " \"We are not talking about all white people             [35 - 44, 55 - 64, 55 - 64, 45 - 54, 25 - 34]   \n",
       " \"Yeah well if we were made in his perfect imag...      [35 - 44, 18 - 24, 45 - 54, 45 - 54, 25 - 34]   \n",
       " \"i'm offended\" - tell them that you're offende...      [25 - 34, 25 - 34, 25 - 34, 35 - 44, 45 - 54]   \n",
       "...                                                                                               ...   \n",
       "AND SHE WILL WIN. NO OTHER WAY TO LOOK AT IT. I...      [45 - 54, 35 - 44, 55 - 64, 35 - 44, 18 - 24]   \n",
       "AND THAT BLUSH. I THINK YOURE TRYING TO KILL ME     [65 or older, 25 - 34, 25 - 34, 18 - 24, 18 - 24]   \n",
       "AND THERE IS OUR POINT. STAY WOKE. STAY EDUCATE...      [35 - 44, 55 - 64, 35 - 44, 25 - 34, 25 - 34]   \n",
       "AND THEY SAID WE ARNT GOING TO WAR!                     [35 - 44, 35 - 44, 55 - 64, 35 - 44, 35 - 44]   \n",
       "AND THEY WERE LIKE. SUCKING FACE I DONT WANNA S...  [45 - 54, Prefer not to say, 45 - 54, 65 or ol...   \n",
       "\n",
       "                                                                                         lgbtq_status  \\\n",
       "comment                                                                                                 \n",
       " \"Bro, can you spot me?\" &amp;#x200B; I just sh...  [Heterosexual, Heterosexual, Heterosexual, Het...   \n",
       " \"Never\" as in \"not often, and certainly not in...  [Heterosexual, Heterosexual, Heterosexual, Het...   \n",
       " \"We are not talking about all white people         [Heterosexual, Heterosexual, Heterosexual, Het...   \n",
       " \"Yeah well if we were made in his perfect imag...  [Homosexual, Heterosexual, Heterosexual, Heter...   \n",
       " \"i'm offended\" - tell them that you're offende...  [Heterosexual, Heterosexual, Heterosexual, Het...   \n",
       "...                                                                                               ...   \n",
       "AND SHE WILL WIN. NO OTHER WAY TO LOOK AT IT. I...  [Heterosexual, Heterosexual, Heterosexual, Het...   \n",
       "AND THAT BLUSH. I THINK YOURE TRYING TO KILL ME     [Heterosexual, Heterosexual, Heterosexual, Het...   \n",
       "AND THERE IS OUR POINT. STAY WOKE. STAY EDUCATE...  [Heterosexual, Homosexual, Heterosexual, Heter...   \n",
       "AND THEY SAID WE ARNT GOING TO WAR!                 [Heterosexual, Bisexual, Heterosexual, Heteros...   \n",
       "AND THEY WERE LIKE. SUCKING FACE I DONT WANNA S...  [Heterosexual, Prefer not to say, Heterosexual...   \n",
       "\n",
       "                                                                                 political_affilation  \\\n",
       "comment                                                                                                 \n",
       " \"Bro, can you spot me?\" &amp;#x200B; I just sh...  [Liberal, Independent, Liberal, Conservative, ...   \n",
       " \"Never\" as in \"not often, and certainly not in...  [Liberal, Conservative, Independent, Liberal, ...   \n",
       " \"We are not talking about all white people         [Independent, Conservative, Independent, Indep...   \n",
       " \"Yeah well if we were made in his perfect imag...  [Liberal, Independent, Liberal, Conservative, ...   \n",
       " \"i'm offended\" - tell them that you're offende...  [Independent, Liberal, Independent, Liberal, C...   \n",
       "...                                                                                               ...   \n",
       "AND SHE WILL WIN. NO OTHER WAY TO LOOK AT IT. I...  [Independent, Liberal, Conservative, Liberal, ...   \n",
       "AND THAT BLUSH. I THINK YOURE TRYING TO KILL ME     [Liberal, Independent, Liberal, Prefer not to ...   \n",
       "AND THERE IS OUR POINT. STAY WOKE. STAY EDUCATE...  [Independent, Liberal, Liberal, Independent, L...   \n",
       "AND THEY SAID WE ARNT GOING TO WAR!                 [Liberal, Conservative, Conservative, Liberal,...   \n",
       "AND THEY WERE LIKE. SUCKING FACE I DONT WANNA S...  [Conservative, Prefer not to say, Liberal, Ind...   \n",
       "\n",
       "                                                                                 is_parent  \\\n",
       "comment                                                                                      \n",
       " \"Bro, can you spot me?\" &amp;#x200B; I just sh...                  [Yes, No, Yes, No, No]   \n",
       " \"Never\" as in \"not often, and certainly not in...                 [Yes, Yes, No, No, Yes]   \n",
       " \"We are not talking about all white people                       [Yes, Yes, Yes, Yes, No]   \n",
       " \"Yeah well if we were made in his perfect imag...                 [No, No, Yes, Yes, Yes]   \n",
       " \"i'm offended\" - tell them that you're offende...                 [No, Yes, Yes, No, Yes]   \n",
       "...                                                                                    ...   \n",
       "AND SHE WILL WIN. NO OTHER WAY TO LOOK AT IT. I...                [Yes, Yes, Yes, Yes, No]   \n",
       "AND THAT BLUSH. I THINK YOURE TRYING TO KILL ME       [Prefer not to say, No, No, Yes, No]   \n",
       "AND THERE IS OUR POINT. STAY WOKE. STAY EDUCATE...                 [Yes, Yes, No, Yes, No]   \n",
       "AND THEY SAID WE ARNT GOING TO WAR!                              [Yes, Yes, Yes, Yes, Yes]   \n",
       "AND THEY WERE LIKE. SUCKING FACE I DONT WANNA S...  [Yes, Prefer not to say, No, Yes, Yes]   \n",
       "\n",
       "                                                                                   religion_important  \\\n",
       "comment                                                                                                 \n",
       " \"Bro, can you spot me?\" &amp;#x200B; I just sh...  [Somewhat important, Somewhat important, Somew...   \n",
       " \"Never\" as in \"not often, and certainly not in...  [Very important, Very important, Somewhat impo...   \n",
       " \"We are not talking about all white people         [Somewhat important, Not important, Not import...   \n",
       " \"Yeah well if we were made in his perfect imag...  [Not important, Somewhat important, Not import...   \n",
       " \"i'm offended\" - tell them that you're offende...  [Very important, Somewhat important, Very impo...   \n",
       "...                                                                                               ...   \n",
       "AND SHE WILL WIN. NO OTHER WAY TO LOOK AT IT. I...  [Very important, Not important, Very important...   \n",
       "AND THAT BLUSH. I THINK YOURE TRYING TO KILL ME     [Not important, Not important, Somewhat import...   \n",
       "AND THERE IS OUR POINT. STAY WOKE. STAY EDUCATE...  [Very important, Not too important, Very impor...   \n",
       "AND THEY SAID WE ARNT GOING TO WAR!                 [Very important, Very important, Somewhat impo...   \n",
       "AND THEY WERE LIKE. SUCKING FACE I DONT WANNA S...  [Very important, Prefer not to say, Not too im...   \n",
       "\n",
       "                                                    fake_index  \n",
       "comment                                                         \n",
       " \"Bro, can you spot me?\" &amp;#x200B; I just sh...           0  \n",
       " \"Never\" as in \"not often, and certainly not in...           0  \n",
       " \"We are not talking about all white people                  0  \n",
       " \"Yeah well if we were made in his perfect imag...           0  \n",
       " \"i'm offended\" - tell them that you're offende...           0  \n",
       "...                                                        ...  \n",
       "AND SHE WILL WIN. NO OTHER WAY TO LOOK AT IT. I...           0  \n",
       "AND THAT BLUSH. I THINK YOURE TRYING TO KILL ME              0  \n",
       "AND THERE IS OUR POINT. STAY WOKE. STAY EDUCATE...           0  \n",
       "AND THEY SAID WE ARNT GOING TO WAR!                          0  \n",
       "AND THEY WERE LIKE. SUCKING FACE I DONT WANNA S...           0  \n",
       "\n",
       "[5000 rows x 12 columns]"
      ]
     },
     "execution_count": 2,
     "metadata": {},
     "output_type": "execute_result"
    }
   ],
   "source": [
    "df = pd.read_json(\"../data/toxicity_ratings.json\", lines=True)\n",
    "df = df.explode(column=\"ratings\")\n",
    "\n",
    "ratings_df = pd.json_normalize(df.ratings)\n",
    "df = pd.concat([df.reset_index(), ratings_df.reset_index()], axis=1)\n",
    "df = df.drop(columns=[\"ratings\", \"index\"])\n",
    "\n",
    "df = df.loc[\n",
    "    :,\n",
    "    [\n",
    "        \"comment\",\n",
    "        \"toxic_score\",\n",
    "        \"personally_seen_toxic_content\",\n",
    "        \"personally_been_target\",\n",
    "        \"identify_as_transgender\",\n",
    "        \"toxic_comments_problem\",\n",
    "        \"education\",\n",
    "        \"age_range\",\n",
    "        \"lgbtq_status\",\n",
    "        \"political_affilation\",\n",
    "        \"is_parent\",\n",
    "        \"religion_important\",\n",
    "    ],\n",
    "]\n",
    "df = df.groupby(\"comment\").agg(list)\n",
    "df[\"fake_index\"] = 0\n",
    "df = df.head(5000)\n",
    "df"
   ]
  },
  {
   "cell_type": "code",
   "execution_count": 3,
   "metadata": {},
   "outputs": [
    {
     "data": {
      "application/vnd.jupyter.widget-view+json": {
       "model_id": "3425af2ec9814f75abbba9c1522e22a9",
       "version_major": 2,
       "version_minor": 0
      },
      "text/plain": [
       "  0%|          | 0/10 [00:00<?, ?it/s]"
      ]
     },
     "metadata": {},
     "output_type": "display_data"
    },
    {
     "name": "stdout",
     "output_type": "stream",
     "text": [
      "**********\n",
      "personally_seen_toxic_content\n"
     ]
    },
    {
     "data": {
      "application/vnd.jupyter.widget-view+json": {
       "model_id": "8b3ad3542d52495e9aeba41d1c1070f4",
       "version_major": 2,
       "version_minor": 0
      },
      "text/plain": [
       "  0%|          | 0/1 [00:00<?, ?it/s]"
      ]
     },
     "metadata": {},
     "output_type": "display_data"
    },
    {
     "name": "stdout",
     "output_type": "stream",
     "text": [
      "              0\n",
      "False  0.026298\n",
      "True  -0.038673\n",
      "**********\n",
      "personally_been_target\n"
     ]
    },
    {
     "data": {
      "application/vnd.jupyter.widget-view+json": {
       "model_id": "b4de0c95a54446abaaf84cbe1db7867c",
       "version_major": 2,
       "version_minor": 0
      },
      "text/plain": [
       "  0%|          | 0/1 [00:00<?, ?it/s]"
      ]
     },
     "metadata": {},
     "output_type": "display_data"
    },
    {
     "name": "stdout",
     "output_type": "stream",
     "text": [
      "              0\n",
      "False -0.047647\n",
      "True   0.029694\n",
      "**********\n",
      "identify_as_transgender\n"
     ]
    },
    {
     "data": {
      "application/vnd.jupyter.widget-view+json": {
       "model_id": "ba62cf81a0e54ffb8ca29c8078f8f221",
       "version_major": 2,
       "version_minor": 0
      },
      "text/plain": [
       "  0%|          | 0/1 [00:00<?, ?it/s]"
      ]
     },
     "metadata": {},
     "output_type": "display_data"
    },
    {
     "name": "stdout",
     "output_type": "stream",
     "text": [
      "                          0\n",
      "Prefer not to say  0.002039\n",
      "No                -0.008808\n",
      "Yes               -0.000409\n",
      "**********\n",
      "toxic_comments_problem\n"
     ]
    },
    {
     "data": {
      "application/vnd.jupyter.widget-view+json": {
       "model_id": "e311aebf8d5345d89ae02fc75218b812",
       "version_major": 2,
       "version_minor": 0
      },
      "text/plain": [
       "  0%|          | 0/1 [00:00<?, ?it/s]"
      ]
     },
     "metadata": {},
     "output_type": "display_data"
    },
    {
     "name": "stdout",
     "output_type": "stream",
     "text": [
      "                                  0\n",
      "Very frequently a problem -0.005886\n",
      "Frequently a problem      -0.016964\n",
      "Occasionally a problem    -0.004234\n",
      "Rarely a problem           0.007716\n",
      "Not a problem              0.011844\n",
      "**********\n",
      "education\n"
     ]
    },
    {
     "data": {
      "application/vnd.jupyter.widget-view+json": {
       "model_id": "c76e5c37dc414b63bdb13f5e33d90218",
       "version_major": 2,
       "version_minor": 0
      },
      "text/plain": [
       "  0%|          | 0/1 [00:00<?, ?it/s]"
      ]
     },
     "metadata": {},
     "output_type": "display_data"
    },
    {
     "name": "stdout",
     "output_type": "stream",
     "text": [
      "                                                           0\n",
      "Bachelor's degree in college (4-year)               0.021140\n",
      "None                                                0.000000\n",
      "High school graduate (high school diploma or eq... -0.006688\n",
      "Associate degree in college (2-year)               -0.013340\n",
      "Master's degree                                     0.014352\n",
      "Other                                               0.000000\n",
      "Professional degree (JD, MD)                       -0.000269\n",
      "Prefer not to say                                   0.000000\n",
      "Doctoral degree                                     0.002494\n",
      "Some college but no degree                         -0.014569\n",
      "Less than high school degree                        0.003259\n",
      "**********\n",
      "age_range\n"
     ]
    },
    {
     "data": {
      "application/vnd.jupyter.widget-view+json": {
       "model_id": "d5f28e10b3a547ad9eff8dac3be50a4c",
       "version_major": 2,
       "version_minor": 0
      },
      "text/plain": [
       "  0%|          | 0/1 [00:00<?, ?it/s]"
      ]
     },
     "metadata": {},
     "output_type": "display_data"
    },
    {
     "name": "stdout",
     "output_type": "stream",
     "text": [
      "                          0\n",
      "65 or older        0.001716\n",
      "55 - 64            0.000719\n",
      "18 - 24           -0.009841\n",
      "25 - 34            0.036119\n",
      "35 - 44            0.006415\n",
      "45 - 54           -0.003537\n",
      "Prefer not to say  0.000000\n",
      "Under 18           0.000000\n",
      "**********\n",
      "lgbtq_status\n"
     ]
    },
    {
     "data": {
      "application/vnd.jupyter.widget-view+json": {
       "model_id": "0ce93d67e2924e4691927950d8c8c905",
       "version_major": 2,
       "version_minor": 0
      },
      "text/plain": [
       "  0%|          | 0/1 [00:00<?, ?it/s]"
      ]
     },
     "metadata": {},
     "output_type": "display_data"
    },
    {
     "name": "stdout",
     "output_type": "stream",
     "text": [
      "                          0\n",
      "None              -0.006047\n",
      "Heterosexual      -0.031151\n",
      "Homosexual        -0.000669\n",
      "Other             -0.000025\n",
      "Prefer not to say -0.003223\n",
      "Bisexual           0.015035\n",
      "**********\n",
      "political_affilation\n"
     ]
    },
    {
     "data": {
      "application/vnd.jupyter.widget-view+json": {
       "model_id": "f9f7d0b6076041fd916da8d7ca86eb0f",
       "version_major": 2,
       "version_minor": 0
      },
      "text/plain": [
       "  0%|          | 0/1 [00:00<?, ?it/s]"
      ]
     },
     "metadata": {},
     "output_type": "display_data"
    },
    {
     "name": "stdout",
     "output_type": "stream",
     "text": [
      "                          0\n",
      "Conservative       0.022552\n",
      "Other              0.000958\n",
      "Prefer not to say  0.004208\n",
      "Liberal           -0.037133\n",
      "Independent       -0.003633\n",
      "**********\n",
      "is_parent\n"
     ]
    },
    {
     "data": {
      "application/vnd.jupyter.widget-view+json": {
       "model_id": "f2bbc4d8199840cf8826c79681191b59",
       "version_major": 2,
       "version_minor": 0
      },
      "text/plain": [
       "  0%|          | 0/1 [00:00<?, ?it/s]"
      ]
     },
     "metadata": {},
     "output_type": "display_data"
    },
    {
     "name": "stdout",
     "output_type": "stream",
     "text": [
      "                          0\n",
      "Prefer not to say -0.013874\n",
      "No                -0.056427\n",
      "Yes                0.043808\n",
      "**********\n",
      "religion_important\n"
     ]
    },
    {
     "data": {
      "application/vnd.jupyter.widget-view+json": {
       "model_id": "d7e4b2805836498a8d5c21c138c0b27b",
       "version_major": 2,
       "version_minor": 0
      },
      "text/plain": [
       "  0%|          | 0/1 [00:00<?, ?it/s]"
      ]
     },
     "metadata": {},
     "output_type": "display_data"
    },
    {
     "name": "stdout",
     "output_type": "stream",
     "text": [
      "                           0\n",
      "Not important      -0.062238\n",
      "Not too important  -0.010455\n",
      "Somewhat important  0.014547\n",
      "Prefer not to say  -0.001564\n",
      "Very important      0.037987\n"
     ]
    }
   ],
   "source": [
    "sdb_columns = [\n",
    "    \"personally_seen_toxic_content\",\n",
    "    \"personally_been_target\",\n",
    "    \"identify_as_transgender\",\n",
    "    \"toxic_comments_problem\",\n",
    "    \"education\",\n",
    "    \"age_range\",\n",
    "    \"lgbtq_status\",\n",
    "    \"political_affilation\",\n",
    "    \"is_parent\",\n",
    "    \"religion_important\",\n",
    "]\n",
    "\n",
    "\n",
    "for sdb_column in tqdm(sdb_columns):\n",
    "    print(\"*\" * 10)\n",
    "    print(sdb_column)\n",
    "    print(\n",
    "        tasks.run_helper.results(\n",
    "            df,\n",
    "            discussion_id_col=\"fake_index\",\n",
    "            sdb_column=sdb_column,\n",
    "            value_col=\"toxic_score\",\n",
    "            comment_key_col=\"comment\",\n",
    "        )\n",
    "    )"
   ]
  }
 ],
 "metadata": {
  "kernelspec": {
   "display_name": "Python 3",
   "language": "python",
   "name": "python3"
  },
  "language_info": {
   "codemirror_mode": {
    "name": "ipython",
    "version": 3
   },
   "file_extension": ".py",
   "mimetype": "text/x-python",
   "name": "python",
   "nbconvert_exporter": "python",
   "pygments_lexer": "ipython3",
   "version": "3.13.5"
  }
 },
 "nbformat": 4,
 "nbformat_minor": 2
}
