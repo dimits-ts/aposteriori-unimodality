{
 "cells": [
  {
   "cell_type": "code",
   "execution_count": 1,
   "metadata": {},
   "outputs": [],
   "source": [
    "import sys\n",
    "\n",
    "# IT'S 2025 WHY HASN'T SOMEONE FIXED THIS\n",
    "if \"..\" not in sys.path:\n",
    "    sys.path.insert(0, \"..\")\n",
    "\n",
    "import pandas as pd\n",
    "import numpy as np\n",
    "from tqdm.auto import tqdm\n",
    "\n",
    "import tasks.run_helper\n",
    "import tasks.preprocessing"
   ]
  },
  {
   "cell_type": "code",
   "execution_count": 4,
   "metadata": {},
   "outputs": [],
   "source": [
    "def base_df():\n",
    "    df = pd.read_json(\"../data/toxicity_ratings.json\", lines=True)\n",
    "    df = df.explode(column=\"ratings\")\n",
    "\n",
    "    ratings_df = pd.json_normalize(df.ratings)\n",
    "    df = pd.concat([df.reset_index(), ratings_df.reset_index()], axis=1)\n",
    "    df = df.drop(columns=[\"ratings\", \"index\"])\n",
    "\n",
    "    df = df.loc[\n",
    "        :,\n",
    "        [\n",
    "            \"comment\",\n",
    "            \"toxic_score\",\n",
    "            \"personally_seen_toxic_content\",\n",
    "            \"personally_been_target\",\n",
    "            \"identify_as_transgender\",\n",
    "            \"toxic_comments_problem\",\n",
    "            \"education\",\n",
    "            \"age_range\",\n",
    "            \"lgbtq_status\",\n",
    "            \"political_affilation\",\n",
    "            \"is_parent\",\n",
    "            \"religion_important\",\n",
    "        ],\n",
    "    ]\n",
    "    df = df.groupby(\"comment\").agg(list)\n",
    "    df = df.head(5000)\n",
    "    df = df.reset_index()\n",
    "    return df\n",
    "\n",
    "df = base_df()\n",
    "df[\"random\"] = tasks.preprocessing.get_rand_col(df, \"education\")"
   ]
  },
  {
   "cell_type": "code",
   "execution_count": 3,
   "metadata": {},
   "outputs": [
    {
     "data": {
      "application/vnd.jupyter.widget-view+json": {
       "model_id": "75ed4f2c3b9147919cb475d4c053a170",
       "version_major": 2,
       "version_minor": 0
      },
      "text/plain": [
       "Evaluating SDB dimensions:   0%|          | 0/10 [00:00<?, ?it/s]"
      ]
     },
     "metadata": {},
     "output_type": "display_data"
    }
   ],
   "source": [
    "sdb_columns = [\n",
    "    \"personally_seen_toxic_content\",\n",
    "    \"personally_been_target\",\n",
    "    \"identify_as_transgender\",\n",
    "    \"toxic_comments_problem\",\n",
    "    \"education\",\n",
    "    \"age_range\",\n",
    "    \"lgbtq_status\",\n",
    "    \"political_affilation\",\n",
    "    \"is_parent\",\n",
    "    \"religion_important\",\n",
    "]\n",
    "\n",
    "res = tasks.run_helper.run_all_results(\n",
    "    df=df,\n",
    "    sdb_columns=sdb_columns,\n",
    "    value_col=\"toxic_score\",\n",
    "    comment_key_col=\"comment\",\n",
    ")\n",
    "res"
   ]
  },
  {
   "cell_type": "code",
   "execution_count": 1,
   "metadata": {},
   "outputs": [
    {
     "ename": "NameError",
     "evalue": "name 'tasks' is not defined",
     "output_type": "error",
     "traceback": [
      "\u001b[31m---------------------------------------------------------------------------\u001b[39m",
      "\u001b[31mNameError\u001b[39m                                 Traceback (most recent call last)",
      "\u001b[36mCell\u001b[39m\u001b[36m \u001b[39m\u001b[32mIn[1]\u001b[39m\u001b[32m, line 1\u001b[39m\n\u001b[32m----> \u001b[39m\u001b[32m1\u001b[39m tasks.run_helper.run_result(\n\u001b[32m      2\u001b[39m     df,\n\u001b[32m      3\u001b[39m     sdb_column=\u001b[33m\"\u001b[39m\u001b[33mrandom\u001b[39m\u001b[33m\"\u001b[39m,\n\u001b[32m      4\u001b[39m     value_col=\u001b[33m\"\u001b[39m\u001b[33mtoxic_score\u001b[39m\u001b[33m\"\u001b[39m,\n\u001b[32m      5\u001b[39m     comment_key_col=\u001b[33m\"\u001b[39m\u001b[33mcomment\u001b[39m\u001b[33m\"\u001b[39m,\n\u001b[32m      6\u001b[39m )\n",
      "\u001b[31mNameError\u001b[39m: name 'tasks' is not defined"
     ]
    }
   ],
   "source": [
    "tasks.run_helper.run_result(\n",
    "    df,\n",
    "    sdb_column=\"random\",\n",
    "    value_col=\"toxic_score\",\n",
    "    comment_key_col=\"comment\",\n",
    ")"
   ]
  }
 ],
 "metadata": {
  "kernelspec": {
   "display_name": "apunim-experiments",
   "language": "python",
   "name": "python3"
  },
  "language_info": {
   "codemirror_mode": {
    "name": "ipython",
    "version": 3
   },
   "file_extension": ".py",
   "mimetype": "text/x-python",
   "name": "python",
   "nbconvert_exporter": "python",
   "pygments_lexer": "ipython3",
   "version": "3.13.5"
  }
 },
 "nbformat": 4,
 "nbformat_minor": 2
}
