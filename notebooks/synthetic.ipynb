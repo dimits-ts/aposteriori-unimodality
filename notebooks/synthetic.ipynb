{
 "cells": [
  {
   "cell_type": "markdown",
   "id": "b006ef9c",
   "metadata": {},
   "source": [
    "## Synthetic data"
   ]
  },
  {
   "cell_type": "code",
   "execution_count": 1,
   "id": "99260435",
   "metadata": {},
   "outputs": [],
   "source": [
    "%load_ext autoreload \n",
    "%autoreload 2\n",
    "\n",
    "import sys\n",
    "import ast\n",
    "\n",
    "import pandas as pd\n",
    "import numpy as np\n",
    "\n",
    "# IT'S 2025 WHY HASN'T SOMEONE FIXED THIS\n",
    "if \"..\" not in sys.path:\n",
    "    sys.path.insert(0, \"..\")\n",
    "from src import aposteriori\n",
    "\n",
    "import tasks.run_helper"
   ]
  },
  {
   "cell_type": "code",
   "execution_count": 2,
   "id": "93ceeda9",
   "metadata": {},
   "outputs": [],
   "source": [
    "syn_df = pd.read_csv(\n",
    "    \"../data/synthetic.csv\",\n",
    "    converters={\n",
    "        \"annot_personality_characteristics\": ast.literal_eval,\n",
    "        \"Toxicity\": ast.literal_eval,\n",
    "        \"Argument Quality\": ast.literal_eval,\n",
    "        \"age_annot\": ast.literal_eval,\n",
    "        \"sex_annot\": ast.literal_eval,\n",
    "        \"sexual_orientation_annot\": ast.literal_eval,\n",
    "        \"current_employment_annot\": ast.literal_eval,\n",
    "        \"education_level_annot\": ast.literal_eval,\n",
    "    },\n",
    ")\n",
    "syn_df[\"comment_key\"] = syn_df.message + syn_df.conv_id\n",
    "syn_df[\"fake_index\"] = 1\n",
    "\n",
    "syn_df.Toxicity = syn_df.Toxicity.apply(lambda x: [int(tox) for tox in x])\n",
    "\n",
    "syn_df.age_annot = syn_df.age_annot.apply(\n",
    "    lambda ls: [int(x) for x in ls]\n",
    ").apply(lambda x: pd.cut(x, bins=4))"
   ]
  },
  {
   "cell_type": "code",
   "execution_count": null,
   "id": "9f2fea3a",
   "metadata": {},
   "outputs": [],
   "source": [
    "tasks.run_helper.results(\n",
    "    syn_df,\n",
    "    discussion_id_col=\"fake_index\",\n",
    "    sdb_column=\"age_annot\",\n",
    "    value_col=\"Toxicity\",\n",
    "    comment_key_col=\"comment_key\",\n",
    ")"
   ]
  },
  {
   "cell_type": "code",
   "execution_count": null,
   "id": "51ea0674",
   "metadata": {},
   "outputs": [],
   "source": [
    "tasks.run_helper.results(\n",
    "    syn_df,\n",
    "    discussion_id_col=\"fake_index\",\n",
    "    sdb_column=\"sexual_orientation_annot\",\n",
    "    value_col=\"Toxicity\",\n",
    "    comment_key_col=\"comment_key\",\n",
    ")"
   ]
  },
  {
   "cell_type": "code",
   "execution_count": null,
   "id": "1043acbe",
   "metadata": {},
   "outputs": [],
   "source": [
    "tasks.run_helper.results(\n",
    "    syn_df,\n",
    "    discussion_id_col=\"fake_index\",\n",
    "    sdb_column=\"education_level_annot\",\n",
    "    value_col=\"Toxicity\",\n",
    "    comment_key_col=\"comment_key\",\n",
    ")"
   ]
  },
  {
   "cell_type": "code",
   "execution_count": null,
   "id": "77f93bd8",
   "metadata": {},
   "outputs": [],
   "source": [
    "tasks.run_helper.results(\n",
    "    syn_df,\n",
    "    discussion_id_col=\"fake_index\",\n",
    "    sdb_column=\"current_employment_annot\",\n",
    "    value_col=\"Toxicity\",\n",
    "    comment_key_col=\"comment_key\",\n",
    ")"
   ]
  },
  {
   "cell_type": "code",
   "execution_count": null,
   "id": "950f005f",
   "metadata": {},
   "outputs": [],
   "source": [
    "tasks.run_helper.results(\n",
    "    syn_df,\n",
    "    discussion_id_col=\"fake_index\",\n",
    "    sdb_column=\"sex_annot\",\n",
    "    value_col=\"Toxicity\",\n",
    "    comment_key_col=\"comment_key\",\n",
    ")"
   ]
  },
  {
   "cell_type": "code",
   "execution_count": null,
   "id": "d4f2e05e",
   "metadata": {},
   "outputs": [],
   "source": [
    "syn_df[\"random\"] = syn_df.sex_annot.apply(\n",
    "    lambda x: [np.random.randint(1, 10) for _ in range(len(x))]\n",
    ")\n",
    "tasks.run_helper.results(\n",
    "    syn_df,\n",
    "    discussion_id_col=\"fake_index\",\n",
    "    sdb_column=\"random\",\n",
    "    value_col=\"Toxicity\",\n",
    "    comment_key_col=\"comment_key\",\n",
    ")"
   ]
  }
 ],
 "metadata": {
  "kernelspec": {
   "display_name": "apunim-experiments",
   "language": "python",
   "name": "python3"
  },
  "language_info": {
   "codemirror_mode": {
    "name": "ipython",
    "version": 3
   },
   "file_extension": ".py",
   "mimetype": "text/x-python",
   "name": "python",
   "nbconvert_exporter": "python",
   "pygments_lexer": "ipython3",
   "version": "3.13.5"
  }
 },
 "nbformat": 4,
 "nbformat_minor": 5
}
