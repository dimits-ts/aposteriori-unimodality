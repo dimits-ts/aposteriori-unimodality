{
 "cells": [
  {
   "cell_type": "markdown",
   "metadata": {},
   "source": [
    "# Real life data"
   ]
  },
  {
   "cell_type": "markdown",
   "metadata": {},
   "source": [
    "## Preprocessing"
   ]
  },
  {
   "cell_type": "code",
   "execution_count": 1,
   "metadata": {},
   "outputs": [],
   "source": [
    "%load_ext autoreload \n",
    "%autoreload 2\n",
    "\n",
    "import re\n",
    "import sys\n",
    "import hashlib\n",
    "\n",
    "import pandas as pd\n",
    "import numpy as np\n",
    "from pathlib import Path\n",
    "\n",
    "# IT'S 2025 WHY HASN'T SOMEONE FIXED THIS\n",
    "if \"..\" not in sys.path:\n",
    "    sys.path.insert(0, \"..\")\n",
    "from src import aposteriori\n",
    "\n",
    "import tasks.run_helper\n",
    "import tasks.preprocessing"
   ]
  },
  {
   "cell_type": "code",
   "execution_count": 2,
   "metadata": {},
   "outputs": [],
   "source": [
    "df = pd.read_pickle(\"../data/attitudes_embedded.csv\")\n",
    "df = df.loc[\n",
    "    :,\n",
    "    [\n",
    "        \"tweet\",\n",
    "        \"racism\",\n",
    "        \"annotatorAge\",\n",
    "        \"annotatorRace\",\n",
    "        \"annotatorGender\",\n",
    "    ],\n",
    "]"
   ]
  },
  {
   "cell_type": "markdown",
   "metadata": {},
   "source": [
    "Clear out NaNs from dataset"
   ]
  },
  {
   "cell_type": "code",
   "execution_count": 3,
   "metadata": {},
   "outputs": [
    {
     "data": {
      "text/plain": [
       "(np.int64(41), np.int64(41), np.int64(39))"
      ]
     },
     "execution_count": 3,
     "metadata": {},
     "output_type": "execute_result"
    }
   ],
   "source": [
    "nan_age = df.annotatorAge.apply(lambda x: np.any(np.isnan(x)))\n",
    "nan_race = df.annotatorRace.apply(lambda x: \"na\" in x)\n",
    "nan_gender = df.annotatorGender.apply(lambda x: \"na\" in x)\n",
    "\n",
    "nan_age.sum(), nan_race.sum(), nan_gender.sum()"
   ]
  },
  {
   "cell_type": "code",
   "execution_count": 4,
   "metadata": {},
   "outputs": [],
   "source": [
    "def process_age_list(x, bins):\n",
    "    if not isinstance(x, (list, tuple)):\n",
    "        return None\n",
    "    if any(pd.isna(age) for age in x):\n",
    "        return None\n",
    "    try:\n",
    "        int_ages = [int(age) for age in x]\n",
    "        return pd.cut(int_ages, bins=bins, include_lowest=True)\n",
    "    except Exception:\n",
    "        return None\n",
    "\n",
    "\n",
    "all_ages = [\n",
    "    age\n",
    "    for sublist in df[\"annotatorAge\"]\n",
    "    if isinstance(sublist, (list, tuple))\n",
    "    for age in sublist\n",
    "    if pd.notna(age)\n",
    "]\n",
    "all_ages = list(map(int, all_ages))\n",
    "num_bins = 4\n",
    "bin_edges = [0, 20, 40, 60, 80]\n",
    "\n",
    "df[\"annotatorAge\"] = df[\"annotatorAge\"].apply(\n",
    "    lambda x: process_age_list(x, bin_edges)\n",
    ")\n",
    "df.annotatorRace = df.annotatorRace.apply(lambda x: None if (\"na\" in x) else x)\n",
    "\n",
    "df.annotatorGender = df.annotatorGender.apply(\n",
    "    lambda x: None if (\"na\" in x) else x\n",
    ")\n",
    "\n",
    "df[\"random\"] = df.racism.apply(\n",
    "    lambda x: [np.random.randint(1, 10) for _ in range(len(x))]\n",
    ")\n",
    "df[\"fake_index\"] = 1\n",
    "df = df.dropna()"
   ]
  },
  {
   "cell_type": "markdown",
   "metadata": {},
   "source": [
    "## Results\n",
    "\n",
    "We hypothesize that all of the comments belong in the same discussion."
   ]
  },
  {
   "cell_type": "code",
   "execution_count": 5,
   "metadata": {},
   "outputs": [
    {
     "data": {
      "application/vnd.jupyter.widget-view+json": {
       "model_id": "72eb622cd80f431686aeae8d16695f4c",
       "version_major": 2,
       "version_minor": 0
      },
      "text/plain": [
       "Evaluating SDB dimensions:   0%|          | 0/3 [00:00<?, ?it/s]"
      ]
     },
     "metadata": {},
     "output_type": "display_data"
    },
    {
     "name": "stderr",
     "output_type": "stream",
     "text": [
      "/home/dimits/conda/envs/apunim-experiments/lib/python3.13/site-packages/numpy/_core/fromnumeric.py:3860: RuntimeWarning: Mean of empty slice.\n",
      "  return _methods._mean(a, axis=axis, dtype=dtype,\n",
      "/home/dimits/conda/envs/apunim-experiments/lib/python3.13/site-packages/numpy/_core/_methods.py:144: RuntimeWarning: invalid value encountered in scalar divide\n",
      "  ret = ret.dtype.type(ret / rcount)\n"
     ]
    },
    {
     "data": {
      "text/html": [
       "<div>\n",
       "<style scoped>\n",
       "    .dataframe tbody tr th:only-of-type {\n",
       "        vertical-align: middle;\n",
       "    }\n",
       "\n",
       "    .dataframe tbody tr th {\n",
       "        vertical-align: top;\n",
       "    }\n",
       "\n",
       "    .dataframe thead tr th {\n",
       "        text-align: left;\n",
       "    }\n",
       "\n",
       "    .dataframe thead tr:last-of-type th {\n",
       "        text-align: right;\n",
       "    }\n",
       "</style>\n",
       "<table border=\"1\" class=\"dataframe\">\n",
       "  <thead>\n",
       "    <tr>\n",
       "      <th></th>\n",
       "      <th></th>\n",
       "      <th colspan=\"2\" halign=\"left\">1</th>\n",
       "    </tr>\n",
       "    <tr>\n",
       "      <th></th>\n",
       "      <th></th>\n",
       "      <th>kappa</th>\n",
       "      <th>pvalue</th>\n",
       "    </tr>\n",
       "    <tr>\n",
       "      <th>sdb_column</th>\n",
       "      <th></th>\n",
       "      <th></th>\n",
       "      <th></th>\n",
       "    </tr>\n",
       "  </thead>\n",
       "  <tbody>\n",
       "    <tr>\n",
       "      <th rowspan=\"4\" valign=\"top\">annotatorAge</th>\n",
       "      <th>(-0.001, 20.0]</th>\n",
       "      <td>0.000000</td>\n",
       "      <td>1.000000</td>\n",
       "    </tr>\n",
       "    <tr>\n",
       "      <th>(20.0, 40.0]</th>\n",
       "      <td>0.034851</td>\n",
       "      <td>1.000000</td>\n",
       "    </tr>\n",
       "    <tr>\n",
       "      <th>(40.0, 60.0]</th>\n",
       "      <td>-0.072392</td>\n",
       "      <td>1.000000</td>\n",
       "    </tr>\n",
       "    <tr>\n",
       "      <th>(60.0, 80.0]</th>\n",
       "      <td>-0.123876</td>\n",
       "      <td>1.000000</td>\n",
       "    </tr>\n",
       "    <tr>\n",
       "      <th rowspan=\"3\" valign=\"top\">annotatorGender</th>\n",
       "      <th>man</th>\n",
       "      <td>0.140682</td>\n",
       "      <td>0.817204</td>\n",
       "    </tr>\n",
       "    <tr>\n",
       "      <th>nonBinary</th>\n",
       "      <td>0.000000</td>\n",
       "      <td>1.000000</td>\n",
       "    </tr>\n",
       "    <tr>\n",
       "      <th>woman</th>\n",
       "      <td>0.042289</td>\n",
       "      <td>0.817204</td>\n",
       "    </tr>\n",
       "    <tr>\n",
       "      <th rowspan=\"5\" valign=\"top\">annotatorRace</th>\n",
       "      <th>black</th>\n",
       "      <td>0.517580</td>\n",
       "      <td>1.000000</td>\n",
       "    </tr>\n",
       "    <tr>\n",
       "      <th>hisp</th>\n",
       "      <td>0.000000</td>\n",
       "      <td>1.000000</td>\n",
       "    </tr>\n",
       "    <tr>\n",
       "      <th>middleEastern</th>\n",
       "      <td>0.000000</td>\n",
       "      <td>NaN</td>\n",
       "    </tr>\n",
       "    <tr>\n",
       "      <th>other</th>\n",
       "      <td>0.000000</td>\n",
       "      <td>1.000000</td>\n",
       "    </tr>\n",
       "    <tr>\n",
       "      <th>white</th>\n",
       "      <td>-0.264775</td>\n",
       "      <td>1.000000</td>\n",
       "    </tr>\n",
       "  </tbody>\n",
       "</table>\n",
       "</div>"
      ],
      "text/plain": [
       "                                       1          \n",
       "                                   kappa    pvalue\n",
       "sdb_column                                        \n",
       "annotatorAge    (-0.001, 20.0]  0.000000  1.000000\n",
       "                (20.0, 40.0]    0.034851  1.000000\n",
       "                (40.0, 60.0]   -0.072392  1.000000\n",
       "                (60.0, 80.0]   -0.123876  1.000000\n",
       "annotatorGender man             0.140682  0.817204\n",
       "                nonBinary       0.000000  1.000000\n",
       "                woman           0.042289  0.817204\n",
       "annotatorRace   black           0.517580  1.000000\n",
       "                hisp            0.000000  1.000000\n",
       "                middleEastern   0.000000       NaN\n",
       "                other           0.000000  1.000000\n",
       "                white          -0.264775  1.000000"
      ]
     },
     "execution_count": 5,
     "metadata": {},
     "output_type": "execute_result"
    }
   ],
   "source": [
    "sdb_columns = [\"annotatorAge\", \"annotatorRace\", \"annotatorGender\"]\n",
    "res = tasks.run_helper.run_all_results(\n",
    "    df=df,\n",
    "    sdb_columns=sdb_columns,\n",
    "    discussion_id_col=\"fake_index\",\n",
    "    value_col=\"racism\",\n",
    "    comment_key_col=\"tweet\",\n",
    ")\n",
    "res"
   ]
  },
  {
   "cell_type": "code",
   "execution_count": 8,
   "metadata": {},
   "outputs": [
    {
     "data": {
      "text/html": [
       "<div>\n",
       "<style scoped>\n",
       "    .dataframe tbody tr th:only-of-type {\n",
       "        vertical-align: middle;\n",
       "    }\n",
       "\n",
       "    .dataframe tbody tr th {\n",
       "        vertical-align: top;\n",
       "    }\n",
       "\n",
       "    .dataframe thead tr th {\n",
       "        text-align: left;\n",
       "    }\n",
       "</style>\n",
       "<table border=\"1\" class=\"dataframe\">\n",
       "  <thead>\n",
       "    <tr>\n",
       "      <th></th>\n",
       "      <th colspan=\"2\" halign=\"left\">1</th>\n",
       "    </tr>\n",
       "    <tr>\n",
       "      <th></th>\n",
       "      <th>kappa</th>\n",
       "      <th>pvalue</th>\n",
       "    </tr>\n",
       "  </thead>\n",
       "  <tbody>\n",
       "    <tr>\n",
       "      <th>5</th>\n",
       "      <td>-0.086502</td>\n",
       "      <td>0.792517</td>\n",
       "    </tr>\n",
       "    <tr>\n",
       "      <th>2</th>\n",
       "      <td>-0.048406</td>\n",
       "      <td>0.792517</td>\n",
       "    </tr>\n",
       "    <tr>\n",
       "      <th>7</th>\n",
       "      <td>-0.377793</td>\n",
       "      <td>0.792517</td>\n",
       "    </tr>\n",
       "    <tr>\n",
       "      <th>1</th>\n",
       "      <td>0.148721</td>\n",
       "      <td>0.792517</td>\n",
       "    </tr>\n",
       "    <tr>\n",
       "      <th>8</th>\n",
       "      <td>0.098104</td>\n",
       "      <td>0.792517</td>\n",
       "    </tr>\n",
       "    <tr>\n",
       "      <th>4</th>\n",
       "      <td>-0.136343</td>\n",
       "      <td>0.792517</td>\n",
       "    </tr>\n",
       "    <tr>\n",
       "      <th>3</th>\n",
       "      <td>0.103510</td>\n",
       "      <td>0.792517</td>\n",
       "    </tr>\n",
       "    <tr>\n",
       "      <th>9</th>\n",
       "      <td>0.150851</td>\n",
       "      <td>0.792517</td>\n",
       "    </tr>\n",
       "    <tr>\n",
       "      <th>6</th>\n",
       "      <td>0.060911</td>\n",
       "      <td>0.792517</td>\n",
       "    </tr>\n",
       "  </tbody>\n",
       "</table>\n",
       "</div>"
      ],
      "text/plain": [
       "          1          \n",
       "      kappa    pvalue\n",
       "5 -0.086502  0.792517\n",
       "2 -0.048406  0.792517\n",
       "7 -0.377793  0.792517\n",
       "1  0.148721  0.792517\n",
       "8  0.098104  0.792517\n",
       "4 -0.136343  0.792517\n",
       "3  0.103510  0.792517\n",
       "9  0.150851  0.792517\n",
       "6  0.060911  0.792517"
      ]
     },
     "execution_count": 8,
     "metadata": {},
     "output_type": "execute_result"
    }
   ],
   "source": [
    "tasks.run_helper.run_result(\n",
    "    df,\n",
    "    discussion_id_col=\"fake_index\",\n",
    "    sdb_column=\"random\",\n",
    "    value_col=\"racism\",\n",
    "    comment_key_col=\"tweet\",\n",
    ")"
   ]
  }
 ],
 "metadata": {
  "kernelspec": {
   "display_name": "apunim-experiments",
   "language": "python",
   "name": "python3"
  },
  "language_info": {
   "codemirror_mode": {
    "name": "ipython",
    "version": 3
   },
   "file_extension": ".py",
   "mimetype": "text/x-python",
   "name": "python",
   "nbconvert_exporter": "python",
   "pygments_lexer": "ipython3",
   "version": "3.13.5"
  }
 },
 "nbformat": 4,
 "nbformat_minor": 2
}
