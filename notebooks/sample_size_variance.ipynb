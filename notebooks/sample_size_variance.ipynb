{
 "cells": [
  {
   "cell_type": "code",
   "execution_count": 22,
   "metadata": {},
   "outputs": [],
   "source": [
    "import sys\n",
    "\n",
    "# IT'S 2025 WHY HASN'T SOMEONE FIXED THIS\n",
    "if \"..\" not in sys.path:\n",
    "    sys.path.insert(0, \"..\")\n",
    "    \n",
    "from collections import defaultdict\n",
    "from pathlib import Path\n",
    "import ast\n",
    "\n",
    "import pandas as pd\n",
    "import numpy as np\n",
    "import matplotlib.pyplot as plt\n",
    "import seaborn as sns\n",
    "from sklearn.linear_model import LinearRegression\n",
    "from tqdm.auto import tqdm\n",
    "\n",
    "from src import aposteriori\n",
    "import tasks.graphs\n",
    "\n",
    "\n",
    "GRAPH_DIR = Path(\"../graphs\")"
   ]
  },
  {
   "cell_type": "code",
   "execution_count": 23,
   "metadata": {},
   "outputs": [],
   "source": [
    "df = pd.read_csv(\n",
    "    \"../data/100_annotators.csv\",\n",
    "    converters={\"annot_personality_characteristics\": ast.literal_eval},\n",
    ")\n",
    "df[\"toxicity\"] = df.annotation.apply(lambda x: x[-1]).astype(int)\n",
    "df[\"annot_politics\"] = df.annot_personality_characteristics.apply(\n",
    "    lambda x: x[0]\n",
    ")\n",
    "df.annot_age = pd.cut(df.annot_age, bins=4)\n",
    "df.message_id = df.message_id.astype(str)\n",
    "df[\"comment_key\"] = df.conv_id + df.message_id\n",
    "\n",
    "df = df.loc[\n",
    "    :,\n",
    "    [\n",
    "        \"conv_id\",\n",
    "        \"message_id\",\n",
    "        \"comment_key\",\n",
    "        \"message\",\n",
    "        \"toxicity\",\n",
    "        \"annot_age\",\n",
    "        \"annot_sex\",\n",
    "        \"annot_sexual_orientation\",\n",
    "        \"annot_demographic_group\",\n",
    "        \"annot_current_employment\",\n",
    "        \"annot_education_level\",\n",
    "        \"annot_politics\",\n",
    "    ],\n",
    "]\n",
    "df = df.groupby([\"conv_id\", \"message_id\", \"comment_key\", \"message\"]).apply(\n",
    "    lambda x: pd.Series(\n",
    "        {\n",
    "            col: x[col].tolist()\n",
    "            for col in df.columns\n",
    "            if col not in [\"conv_id\", \"message_id\", \"comment_key\", \"message\"]\n",
    "        }\n",
    "    ),\n",
    "    include_groups=False,\n",
    ")\n",
    "df[\"fake_index\"] = 1"
   ]
  },
  {
   "cell_type": "code",
   "execution_count": 28,
   "metadata": {},
   "outputs": [
    {
     "data": {
      "application/vnd.jupyter.widget-view+json": {
       "model_id": "16710d1d734c4dd193abb2fd26609520",
       "version_major": 2,
       "version_minor": 0
      },
      "text/plain": [
       "#Annotators:   0%|          | 0/98 [00:00<?, ?it/s]"
      ]
     },
     "metadata": {},
     "output_type": "display_data"
    },
    {
     "data": {
      "application/vnd.jupyter.widget-view+json": {
       "model_id": "d5d5eb0f81a143b9b0bed8ae1b267046",
       "version_major": 2,
       "version_minor": 0
      },
      "text/plain": [
       "#Comments:   0%|          | 0/1000 [00:00<?, ?it/s]"
      ]
     },
     "metadata": {},
     "output_type": "display_data"
    },
    {
     "data": {
      "application/vnd.jupyter.widget-view+json": {
       "model_id": "6583ce4258774ffc941cb618a37de033",
       "version_major": 2,
       "version_minor": 0
      },
      "text/plain": [
       "#Comments:   0%|          | 0/1000 [00:00<?, ?it/s]"
      ]
     },
     "metadata": {},
     "output_type": "display_data"
    },
    {
     "data": {
      "application/vnd.jupyter.widget-view+json": {
       "model_id": "8938d18f441e42188c3141417e9fb864",
       "version_major": 2,
       "version_minor": 0
      },
      "text/plain": [
       "#Comments:   0%|          | 0/1000 [00:00<?, ?it/s]"
      ]
     },
     "metadata": {},
     "output_type": "display_data"
    },
    {
     "data": {
      "application/vnd.jupyter.widget-view+json": {
       "model_id": "315d123e937647ae91f62257cddaf4fb",
       "version_major": 2,
       "version_minor": 0
      },
      "text/plain": [
       "#Comments:   0%|          | 0/1000 [00:00<?, ?it/s]"
      ]
     },
     "metadata": {},
     "output_type": "display_data"
    },
    {
     "data": {
      "application/vnd.jupyter.widget-view+json": {
       "model_id": "fb1802ec0b52421bbb102e6625b0dab8",
       "version_major": 2,
       "version_minor": 0
      },
      "text/plain": [
       "#Comments:   0%|          | 0/1000 [00:00<?, ?it/s]"
      ]
     },
     "metadata": {},
     "output_type": "display_data"
    },
    {
     "data": {
      "application/vnd.jupyter.widget-view+json": {
       "model_id": "f8b277a0e62d47c9a959e2f529fbfec4",
       "version_major": 2,
       "version_minor": 0
      },
      "text/plain": [
       "#Comments:   0%|          | 0/1000 [00:00<?, ?it/s]"
      ]
     },
     "metadata": {},
     "output_type": "display_data"
    },
    {
     "data": {
      "application/vnd.jupyter.widget-view+json": {
       "model_id": "b22fb4f6ec374929953dcdbebb25d895",
       "version_major": 2,
       "version_minor": 0
      },
      "text/plain": [
       "#Comments:   0%|          | 0/1000 [00:00<?, ?it/s]"
      ]
     },
     "metadata": {},
     "output_type": "display_data"
    },
    {
     "data": {
      "application/vnd.jupyter.widget-view+json": {
       "model_id": "a6a37d634cfa444198264809287ea6e0",
       "version_major": 2,
       "version_minor": 0
      },
      "text/plain": [
       "#Comments:   0%|          | 0/1000 [00:00<?, ?it/s]"
      ]
     },
     "metadata": {},
     "output_type": "display_data"
    },
    {
     "data": {
      "application/vnd.jupyter.widget-view+json": {
       "model_id": "ae48371d44954cf48ba026baaed4dffd",
       "version_major": 2,
       "version_minor": 0
      },
      "text/plain": [
       "#Comments:   0%|          | 0/1000 [00:00<?, ?it/s]"
      ]
     },
     "metadata": {},
     "output_type": "display_data"
    },
    {
     "data": {
      "application/vnd.jupyter.widget-view+json": {
       "model_id": "161dec049346410b80d25c175db93dcd",
       "version_major": 2,
       "version_minor": 0
      },
      "text/plain": [
       "#Comments:   0%|          | 0/1000 [00:00<?, ?it/s]"
      ]
     },
     "metadata": {},
     "output_type": "display_data"
    },
    {
     "data": {
      "application/vnd.jupyter.widget-view+json": {
       "model_id": "0b4546f1171541da9454d9e2bbf66e68",
       "version_major": 2,
       "version_minor": 0
      },
      "text/plain": [
       "#Comments:   0%|          | 0/1000 [00:00<?, ?it/s]"
      ]
     },
     "metadata": {},
     "output_type": "display_data"
    },
    {
     "data": {
      "application/vnd.jupyter.widget-view+json": {
       "model_id": "98084bd16a8f4cfba4a5d0d9c37e3fc3",
       "version_major": 2,
       "version_minor": 0
      },
      "text/plain": [
       "#Comments:   0%|          | 0/1000 [00:00<?, ?it/s]"
      ]
     },
     "metadata": {},
     "output_type": "display_data"
    },
    {
     "data": {
      "application/vnd.jupyter.widget-view+json": {
       "model_id": "5f498699c5f34242b74761f7ece96546",
       "version_major": 2,
       "version_minor": 0
      },
      "text/plain": [
       "#Comments:   0%|          | 0/1000 [00:00<?, ?it/s]"
      ]
     },
     "metadata": {},
     "output_type": "display_data"
    },
    {
     "data": {
      "application/vnd.jupyter.widget-view+json": {
       "model_id": "3fb9ef76d0c64b30a8dabcd4dff42590",
       "version_major": 2,
       "version_minor": 0
      },
      "text/plain": [
       "#Comments:   0%|          | 0/1000 [00:00<?, ?it/s]"
      ]
     },
     "metadata": {},
     "output_type": "display_data"
    },
    {
     "data": {
      "application/vnd.jupyter.widget-view+json": {
       "model_id": "1c053f49e6ab4adc907d77d0a777a225",
       "version_major": 2,
       "version_minor": 0
      },
      "text/plain": [
       "#Comments:   0%|          | 0/1000 [00:00<?, ?it/s]"
      ]
     },
     "metadata": {},
     "output_type": "display_data"
    },
    {
     "data": {
      "application/vnd.jupyter.widget-view+json": {
       "model_id": "b50b4310300c42dab7cdc3d1eea3ed88",
       "version_major": 2,
       "version_minor": 0
      },
      "text/plain": [
       "#Comments:   0%|          | 0/1000 [00:00<?, ?it/s]"
      ]
     },
     "metadata": {},
     "output_type": "display_data"
    },
    {
     "data": {
      "application/vnd.jupyter.widget-view+json": {
       "model_id": "15d33746990d40a4a94e08f96711964c",
       "version_major": 2,
       "version_minor": 0
      },
      "text/plain": [
       "#Comments:   0%|          | 0/1000 [00:00<?, ?it/s]"
      ]
     },
     "metadata": {},
     "output_type": "display_data"
    },
    {
     "data": {
      "application/vnd.jupyter.widget-view+json": {
       "model_id": "bd20228b5e7d466b9c85fa59806ddd88",
       "version_major": 2,
       "version_minor": 0
      },
      "text/plain": [
       "#Comments:   0%|          | 0/1000 [00:00<?, ?it/s]"
      ]
     },
     "metadata": {},
     "output_type": "display_data"
    },
    {
     "data": {
      "application/vnd.jupyter.widget-view+json": {
       "model_id": "fafc8a671709431db2de08a10cccf2c2",
       "version_major": 2,
       "version_minor": 0
      },
      "text/plain": [
       "#Comments:   0%|          | 0/1000 [00:00<?, ?it/s]"
      ]
     },
     "metadata": {},
     "output_type": "display_data"
    },
    {
     "data": {
      "application/vnd.jupyter.widget-view+json": {
       "model_id": "6f596f446e8f4ed0a38511a4fa88ea68",
       "version_major": 2,
       "version_minor": 0
      },
      "text/plain": [
       "#Comments:   0%|          | 0/1000 [00:00<?, ?it/s]"
      ]
     },
     "metadata": {},
     "output_type": "display_data"
    },
    {
     "data": {
      "application/vnd.jupyter.widget-view+json": {
       "model_id": "b3b8631eba374ecda3392f17cee7132a",
       "version_major": 2,
       "version_minor": 0
      },
      "text/plain": [
       "#Comments:   0%|          | 0/1000 [00:00<?, ?it/s]"
      ]
     },
     "metadata": {},
     "output_type": "display_data"
    },
    {
     "data": {
      "application/vnd.jupyter.widget-view+json": {
       "model_id": "93387fdf8d5847ffa4f8a157d3f16215",
       "version_major": 2,
       "version_minor": 0
      },
      "text/plain": [
       "#Comments:   0%|          | 0/1000 [00:00<?, ?it/s]"
      ]
     },
     "metadata": {},
     "output_type": "display_data"
    },
    {
     "data": {
      "application/vnd.jupyter.widget-view+json": {
       "model_id": "af8f1292e185400485346d77459de8e1",
       "version_major": 2,
       "version_minor": 0
      },
      "text/plain": [
       "#Comments:   0%|          | 0/1000 [00:00<?, ?it/s]"
      ]
     },
     "metadata": {},
     "output_type": "display_data"
    },
    {
     "data": {
      "application/vnd.jupyter.widget-view+json": {
       "model_id": "743b9d7c3980481785bfe663b4e1311e",
       "version_major": 2,
       "version_minor": 0
      },
      "text/plain": [
       "#Comments:   0%|          | 0/1000 [00:00<?, ?it/s]"
      ]
     },
     "metadata": {},
     "output_type": "display_data"
    },
    {
     "data": {
      "application/vnd.jupyter.widget-view+json": {
       "model_id": "dfc00f49a1e64679b60ed2d4cc2ca38b",
       "version_major": 2,
       "version_minor": 0
      },
      "text/plain": [
       "#Comments:   0%|          | 0/1000 [00:00<?, ?it/s]"
      ]
     },
     "metadata": {},
     "output_type": "display_data"
    },
    {
     "data": {
      "application/vnd.jupyter.widget-view+json": {
       "model_id": "b55a608b7d754880afbdc4411d6288e9",
       "version_major": 2,
       "version_minor": 0
      },
      "text/plain": [
       "#Comments:   0%|          | 0/1000 [00:00<?, ?it/s]"
      ]
     },
     "metadata": {},
     "output_type": "display_data"
    },
    {
     "data": {
      "application/vnd.jupyter.widget-view+json": {
       "model_id": "6ff00e2b508842cca01c13f52d652221",
       "version_major": 2,
       "version_minor": 0
      },
      "text/plain": [
       "#Comments:   0%|          | 0/1000 [00:00<?, ?it/s]"
      ]
     },
     "metadata": {},
     "output_type": "display_data"
    },
    {
     "data": {
      "application/vnd.jupyter.widget-view+json": {
       "model_id": "b0c6c37967854787bec07b93f05cee2a",
       "version_major": 2,
       "version_minor": 0
      },
      "text/plain": [
       "#Comments:   0%|          | 0/1000 [00:00<?, ?it/s]"
      ]
     },
     "metadata": {},
     "output_type": "display_data"
    },
    {
     "data": {
      "application/vnd.jupyter.widget-view+json": {
       "model_id": "0ef8bb8e98fb4b0f8d5af6870eb78321",
       "version_major": 2,
       "version_minor": 0
      },
      "text/plain": [
       "#Comments:   0%|          | 0/1000 [00:00<?, ?it/s]"
      ]
     },
     "metadata": {},
     "output_type": "display_data"
    },
    {
     "data": {
      "application/vnd.jupyter.widget-view+json": {
       "model_id": "c2310c04585d4c639e87313b6bf708b4",
       "version_major": 2,
       "version_minor": 0
      },
      "text/plain": [
       "#Comments:   0%|          | 0/1000 [00:00<?, ?it/s]"
      ]
     },
     "metadata": {},
     "output_type": "display_data"
    },
    {
     "data": {
      "application/vnd.jupyter.widget-view+json": {
       "model_id": "a25d09a0954c4b3eb8d2d15383f6fec2",
       "version_major": 2,
       "version_minor": 0
      },
      "text/plain": [
       "#Comments:   0%|          | 0/1000 [00:00<?, ?it/s]"
      ]
     },
     "metadata": {},
     "output_type": "display_data"
    },
    {
     "data": {
      "application/vnd.jupyter.widget-view+json": {
       "model_id": "266e24e0703446fcb4fe04b9c821d208",
       "version_major": 2,
       "version_minor": 0
      },
      "text/plain": [
       "#Comments:   0%|          | 0/1000 [00:00<?, ?it/s]"
      ]
     },
     "metadata": {},
     "output_type": "display_data"
    },
    {
     "data": {
      "application/vnd.jupyter.widget-view+json": {
       "model_id": "b313c4751fc14de3b1f1510aba42bc99",
       "version_major": 2,
       "version_minor": 0
      },
      "text/plain": [
       "#Comments:   0%|          | 0/1000 [00:00<?, ?it/s]"
      ]
     },
     "metadata": {},
     "output_type": "display_data"
    },
    {
     "data": {
      "application/vnd.jupyter.widget-view+json": {
       "model_id": "e4b4212036e0471e807c0e82f327bbe4",
       "version_major": 2,
       "version_minor": 0
      },
      "text/plain": [
       "#Comments:   0%|          | 0/1000 [00:00<?, ?it/s]"
      ]
     },
     "metadata": {},
     "output_type": "display_data"
    },
    {
     "data": {
      "application/vnd.jupyter.widget-view+json": {
       "model_id": "f9fb3d3c9542403ab17c748774589cc4",
       "version_major": 2,
       "version_minor": 0
      },
      "text/plain": [
       "#Comments:   0%|          | 0/1000 [00:00<?, ?it/s]"
      ]
     },
     "metadata": {},
     "output_type": "display_data"
    },
    {
     "data": {
      "application/vnd.jupyter.widget-view+json": {
       "model_id": "4840bc6e5c2d47f19093f333d2369511",
       "version_major": 2,
       "version_minor": 0
      },
      "text/plain": [
       "#Comments:   0%|          | 0/1000 [00:00<?, ?it/s]"
      ]
     },
     "metadata": {},
     "output_type": "display_data"
    },
    {
     "data": {
      "application/vnd.jupyter.widget-view+json": {
       "model_id": "7dcaab4553e84c109da1fcecf0c8137f",
       "version_major": 2,
       "version_minor": 0
      },
      "text/plain": [
       "#Comments:   0%|          | 0/1000 [00:00<?, ?it/s]"
      ]
     },
     "metadata": {},
     "output_type": "display_data"
    },
    {
     "data": {
      "application/vnd.jupyter.widget-view+json": {
       "model_id": "4a7d6d34af1941789e7416a90a8ecb0c",
       "version_major": 2,
       "version_minor": 0
      },
      "text/plain": [
       "#Comments:   0%|          | 0/1000 [00:00<?, ?it/s]"
      ]
     },
     "metadata": {},
     "output_type": "display_data"
    },
    {
     "data": {
      "application/vnd.jupyter.widget-view+json": {
       "model_id": "05facc011a2e42cf89cfcd288a9a5b0f",
       "version_major": 2,
       "version_minor": 0
      },
      "text/plain": [
       "#Comments:   0%|          | 0/1000 [00:00<?, ?it/s]"
      ]
     },
     "metadata": {},
     "output_type": "display_data"
    },
    {
     "data": {
      "application/vnd.jupyter.widget-view+json": {
       "model_id": "1a4b529e3d8a4006b2121036e5a8c114",
       "version_major": 2,
       "version_minor": 0
      },
      "text/plain": [
       "#Comments:   0%|          | 0/1000 [00:00<?, ?it/s]"
      ]
     },
     "metadata": {},
     "output_type": "display_data"
    },
    {
     "data": {
      "application/vnd.jupyter.widget-view+json": {
       "model_id": "f06a20f7060e4ec38aafc5b6be3311f9",
       "version_major": 2,
       "version_minor": 0
      },
      "text/plain": [
       "#Comments:   0%|          | 0/1000 [00:00<?, ?it/s]"
      ]
     },
     "metadata": {},
     "output_type": "display_data"
    },
    {
     "data": {
      "application/vnd.jupyter.widget-view+json": {
       "model_id": "5fc0d22362f043b985727f8a166986bd",
       "version_major": 2,
       "version_minor": 0
      },
      "text/plain": [
       "#Comments:   0%|          | 0/1000 [00:00<?, ?it/s]"
      ]
     },
     "metadata": {},
     "output_type": "display_data"
    },
    {
     "data": {
      "application/vnd.jupyter.widget-view+json": {
       "model_id": "2ea0afc863eb4f46bc0d2cd67825a0fd",
       "version_major": 2,
       "version_minor": 0
      },
      "text/plain": [
       "#Comments:   0%|          | 0/1000 [00:00<?, ?it/s]"
      ]
     },
     "metadata": {},
     "output_type": "display_data"
    },
    {
     "data": {
      "application/vnd.jupyter.widget-view+json": {
       "model_id": "e1bd7c47aaf24027bbcd922e90babb42",
       "version_major": 2,
       "version_minor": 0
      },
      "text/plain": [
       "#Comments:   0%|          | 0/1000 [00:00<?, ?it/s]"
      ]
     },
     "metadata": {},
     "output_type": "display_data"
    },
    {
     "data": {
      "application/vnd.jupyter.widget-view+json": {
       "model_id": "a86c3812def64dd4a9a0f5a05e5dc635",
       "version_major": 2,
       "version_minor": 0
      },
      "text/plain": [
       "#Comments:   0%|          | 0/1000 [00:00<?, ?it/s]"
      ]
     },
     "metadata": {},
     "output_type": "display_data"
    },
    {
     "data": {
      "application/vnd.jupyter.widget-view+json": {
       "model_id": "066592e7f7be43918be1e7cf50d92401",
       "version_major": 2,
       "version_minor": 0
      },
      "text/plain": [
       "#Comments:   0%|          | 0/1000 [00:00<?, ?it/s]"
      ]
     },
     "metadata": {},
     "output_type": "display_data"
    },
    {
     "data": {
      "application/vnd.jupyter.widget-view+json": {
       "model_id": "8da653bee712469d9e19f5de46fc235d",
       "version_major": 2,
       "version_minor": 0
      },
      "text/plain": [
       "#Comments:   0%|          | 0/1000 [00:00<?, ?it/s]"
      ]
     },
     "metadata": {},
     "output_type": "display_data"
    },
    {
     "data": {
      "application/vnd.jupyter.widget-view+json": {
       "model_id": "17ac1fcef1ae40729dd434eeb591016d",
       "version_major": 2,
       "version_minor": 0
      },
      "text/plain": [
       "#Comments:   0%|          | 0/1000 [00:00<?, ?it/s]"
      ]
     },
     "metadata": {},
     "output_type": "display_data"
    },
    {
     "data": {
      "application/vnd.jupyter.widget-view+json": {
       "model_id": "f13828b150cd41269bab8db5d76c9dfe",
       "version_major": 2,
       "version_minor": 0
      },
      "text/plain": [
       "#Comments:   0%|          | 0/1000 [00:00<?, ?it/s]"
      ]
     },
     "metadata": {},
     "output_type": "display_data"
    },
    {
     "data": {
      "application/vnd.jupyter.widget-view+json": {
       "model_id": "954e368edccb46438f6e0905c872cd72",
       "version_major": 2,
       "version_minor": 0
      },
      "text/plain": [
       "#Comments:   0%|          | 0/1000 [00:00<?, ?it/s]"
      ]
     },
     "metadata": {},
     "output_type": "display_data"
    },
    {
     "data": {
      "application/vnd.jupyter.widget-view+json": {
       "model_id": "7e1f2c5f781c422197c37cb626165a11",
       "version_major": 2,
       "version_minor": 0
      },
      "text/plain": [
       "#Comments:   0%|          | 0/1000 [00:00<?, ?it/s]"
      ]
     },
     "metadata": {},
     "output_type": "display_data"
    },
    {
     "data": {
      "application/vnd.jupyter.widget-view+json": {
       "model_id": "13f07598aeb34276adf49244623307b0",
       "version_major": 2,
       "version_minor": 0
      },
      "text/plain": [
       "#Comments:   0%|          | 0/1000 [00:00<?, ?it/s]"
      ]
     },
     "metadata": {},
     "output_type": "display_data"
    },
    {
     "data": {
      "application/vnd.jupyter.widget-view+json": {
       "model_id": "6aed1c6ecbef482f8507133a95a746b2",
       "version_major": 2,
       "version_minor": 0
      },
      "text/plain": [
       "#Comments:   0%|          | 0/1000 [00:00<?, ?it/s]"
      ]
     },
     "metadata": {},
     "output_type": "display_data"
    },
    {
     "data": {
      "application/vnd.jupyter.widget-view+json": {
       "model_id": "4171cc6be888471c9d5e47b341aff722",
       "version_major": 2,
       "version_minor": 0
      },
      "text/plain": [
       "#Comments:   0%|          | 0/1000 [00:00<?, ?it/s]"
      ]
     },
     "metadata": {},
     "output_type": "display_data"
    },
    {
     "data": {
      "application/vnd.jupyter.widget-view+json": {
       "model_id": "d47bb2e4b44d406a8abf65dad6ee752c",
       "version_major": 2,
       "version_minor": 0
      },
      "text/plain": [
       "#Comments:   0%|          | 0/1000 [00:00<?, ?it/s]"
      ]
     },
     "metadata": {},
     "output_type": "display_data"
    },
    {
     "data": {
      "application/vnd.jupyter.widget-view+json": {
       "model_id": "6f4b0771d4db4daabc4b2fee192bccb7",
       "version_major": 2,
       "version_minor": 0
      },
      "text/plain": [
       "#Comments:   0%|          | 0/1000 [00:00<?, ?it/s]"
      ]
     },
     "metadata": {},
     "output_type": "display_data"
    },
    {
     "data": {
      "application/vnd.jupyter.widget-view+json": {
       "model_id": "334eda17abbc4a4ea1552e528eeae96c",
       "version_major": 2,
       "version_minor": 0
      },
      "text/plain": [
       "#Comments:   0%|          | 0/1000 [00:00<?, ?it/s]"
      ]
     },
     "metadata": {},
     "output_type": "display_data"
    },
    {
     "data": {
      "application/vnd.jupyter.widget-view+json": {
       "model_id": "063cd317df124514b34ea41be863ef26",
       "version_major": 2,
       "version_minor": 0
      },
      "text/plain": [
       "#Comments:   0%|          | 0/1000 [00:00<?, ?it/s]"
      ]
     },
     "metadata": {},
     "output_type": "display_data"
    },
    {
     "data": {
      "application/vnd.jupyter.widget-view+json": {
       "model_id": "78876e9e292146aaa415b7b7b300d823",
       "version_major": 2,
       "version_minor": 0
      },
      "text/plain": [
       "#Comments:   0%|          | 0/1000 [00:00<?, ?it/s]"
      ]
     },
     "metadata": {},
     "output_type": "display_data"
    },
    {
     "data": {
      "application/vnd.jupyter.widget-view+json": {
       "model_id": "29858a43306d4d7db677645adc2a0efd",
       "version_major": 2,
       "version_minor": 0
      },
      "text/plain": [
       "#Comments:   0%|          | 0/1000 [00:00<?, ?it/s]"
      ]
     },
     "metadata": {},
     "output_type": "display_data"
    },
    {
     "data": {
      "application/vnd.jupyter.widget-view+json": {
       "model_id": "b1e973054a654543af492dbd8c3e8b60",
       "version_major": 2,
       "version_minor": 0
      },
      "text/plain": [
       "#Comments:   0%|          | 0/1000 [00:00<?, ?it/s]"
      ]
     },
     "metadata": {},
     "output_type": "display_data"
    },
    {
     "data": {
      "application/vnd.jupyter.widget-view+json": {
       "model_id": "a0789e3cf3dd4bdf8d44593f58d491d6",
       "version_major": 2,
       "version_minor": 0
      },
      "text/plain": [
       "#Comments:   0%|          | 0/1000 [00:00<?, ?it/s]"
      ]
     },
     "metadata": {},
     "output_type": "display_data"
    },
    {
     "data": {
      "application/vnd.jupyter.widget-view+json": {
       "model_id": "86dc72f12fd643a19ad5996dcbb9c007",
       "version_major": 2,
       "version_minor": 0
      },
      "text/plain": [
       "#Comments:   0%|          | 0/1000 [00:00<?, ?it/s]"
      ]
     },
     "metadata": {},
     "output_type": "display_data"
    },
    {
     "data": {
      "application/vnd.jupyter.widget-view+json": {
       "model_id": "991091f95ba842cd9c152548906bccff",
       "version_major": 2,
       "version_minor": 0
      },
      "text/plain": [
       "#Comments:   0%|          | 0/1000 [00:00<?, ?it/s]"
      ]
     },
     "metadata": {},
     "output_type": "display_data"
    },
    {
     "data": {
      "application/vnd.jupyter.widget-view+json": {
       "model_id": "e2bdf5bb91804ca98c59284a1985b1e3",
       "version_major": 2,
       "version_minor": 0
      },
      "text/plain": [
       "#Comments:   0%|          | 0/1000 [00:00<?, ?it/s]"
      ]
     },
     "metadata": {},
     "output_type": "display_data"
    },
    {
     "data": {
      "application/vnd.jupyter.widget-view+json": {
       "model_id": "887557ef52c942108252f75103f9ac1d",
       "version_major": 2,
       "version_minor": 0
      },
      "text/plain": [
       "#Comments:   0%|          | 0/1000 [00:00<?, ?it/s]"
      ]
     },
     "metadata": {},
     "output_type": "display_data"
    },
    {
     "data": {
      "application/vnd.jupyter.widget-view+json": {
       "model_id": "674238b228e34a4e91efa645f76deff5",
       "version_major": 2,
       "version_minor": 0
      },
      "text/plain": [
       "#Comments:   0%|          | 0/1000 [00:00<?, ?it/s]"
      ]
     },
     "metadata": {},
     "output_type": "display_data"
    },
    {
     "data": {
      "application/vnd.jupyter.widget-view+json": {
       "model_id": "334b8d558489477897ac3e0fbba62c11",
       "version_major": 2,
       "version_minor": 0
      },
      "text/plain": [
       "#Comments:   0%|          | 0/1000 [00:00<?, ?it/s]"
      ]
     },
     "metadata": {},
     "output_type": "display_data"
    },
    {
     "data": {
      "application/vnd.jupyter.widget-view+json": {
       "model_id": "20e236f9f8d54074942a4326476cf99b",
       "version_major": 2,
       "version_minor": 0
      },
      "text/plain": [
       "#Comments:   0%|          | 0/1000 [00:00<?, ?it/s]"
      ]
     },
     "metadata": {},
     "output_type": "display_data"
    },
    {
     "data": {
      "application/vnd.jupyter.widget-view+json": {
       "model_id": "2c6fdd6023674b758c9ec2b571d11bf1",
       "version_major": 2,
       "version_minor": 0
      },
      "text/plain": [
       "#Comments:   0%|          | 0/1000 [00:00<?, ?it/s]"
      ]
     },
     "metadata": {},
     "output_type": "display_data"
    },
    {
     "data": {
      "application/vnd.jupyter.widget-view+json": {
       "model_id": "de3792206f7146aa91621d2d163dca6f",
       "version_major": 2,
       "version_minor": 0
      },
      "text/plain": [
       "#Comments:   0%|          | 0/1000 [00:00<?, ?it/s]"
      ]
     },
     "metadata": {},
     "output_type": "display_data"
    },
    {
     "data": {
      "application/vnd.jupyter.widget-view+json": {
       "model_id": "1632cd2ca9d546fdac0c78132e6866f2",
       "version_major": 2,
       "version_minor": 0
      },
      "text/plain": [
       "#Comments:   0%|          | 0/1000 [00:00<?, ?it/s]"
      ]
     },
     "metadata": {},
     "output_type": "display_data"
    },
    {
     "data": {
      "application/vnd.jupyter.widget-view+json": {
       "model_id": "2ab1fa6869c04652a40dbfd09c3b3d27",
       "version_major": 2,
       "version_minor": 0
      },
      "text/plain": [
       "#Comments:   0%|          | 0/1000 [00:00<?, ?it/s]"
      ]
     },
     "metadata": {},
     "output_type": "display_data"
    },
    {
     "data": {
      "application/vnd.jupyter.widget-view+json": {
       "model_id": "ba03e14edd094f7abeac7f254961f269",
       "version_major": 2,
       "version_minor": 0
      },
      "text/plain": [
       "#Comments:   0%|          | 0/1000 [00:00<?, ?it/s]"
      ]
     },
     "metadata": {},
     "output_type": "display_data"
    },
    {
     "data": {
      "application/vnd.jupyter.widget-view+json": {
       "model_id": "6e2f3df3fea34de58339b589ac5d3a59",
       "version_major": 2,
       "version_minor": 0
      },
      "text/plain": [
       "#Comments:   0%|          | 0/1000 [00:00<?, ?it/s]"
      ]
     },
     "metadata": {},
     "output_type": "display_data"
    },
    {
     "data": {
      "application/vnd.jupyter.widget-view+json": {
       "model_id": "76d151fbd889428f8f191b952fc5671f",
       "version_major": 2,
       "version_minor": 0
      },
      "text/plain": [
       "#Comments:   0%|          | 0/1000 [00:00<?, ?it/s]"
      ]
     },
     "metadata": {},
     "output_type": "display_data"
    },
    {
     "data": {
      "application/vnd.jupyter.widget-view+json": {
       "model_id": "4f2d4b3a25fc4ca39f7f30b91d0dbb78",
       "version_major": 2,
       "version_minor": 0
      },
      "text/plain": [
       "#Comments:   0%|          | 0/1000 [00:00<?, ?it/s]"
      ]
     },
     "metadata": {},
     "output_type": "display_data"
    },
    {
     "data": {
      "application/vnd.jupyter.widget-view+json": {
       "model_id": "85ea2da222fd496097a254cc1c1d0662",
       "version_major": 2,
       "version_minor": 0
      },
      "text/plain": [
       "#Comments:   0%|          | 0/1000 [00:00<?, ?it/s]"
      ]
     },
     "metadata": {},
     "output_type": "display_data"
    },
    {
     "data": {
      "application/vnd.jupyter.widget-view+json": {
       "model_id": "8702bb3eb9724076b3e11aba653dfdb4",
       "version_major": 2,
       "version_minor": 0
      },
      "text/plain": [
       "#Comments:   0%|          | 0/1000 [00:00<?, ?it/s]"
      ]
     },
     "metadata": {},
     "output_type": "display_data"
    },
    {
     "data": {
      "application/vnd.jupyter.widget-view+json": {
       "model_id": "cc8439622b664d799677cf9757a44bd8",
       "version_major": 2,
       "version_minor": 0
      },
      "text/plain": [
       "#Comments:   0%|          | 0/1000 [00:00<?, ?it/s]"
      ]
     },
     "metadata": {},
     "output_type": "display_data"
    },
    {
     "data": {
      "application/vnd.jupyter.widget-view+json": {
       "model_id": "37b93de0d4f740b097d4c8cd9f59763a",
       "version_major": 2,
       "version_minor": 0
      },
      "text/plain": [
       "#Comments:   0%|          | 0/1000 [00:00<?, ?it/s]"
      ]
     },
     "metadata": {},
     "output_type": "display_data"
    },
    {
     "data": {
      "application/vnd.jupyter.widget-view+json": {
       "model_id": "cf9457b55357428789a9ac31231d6645",
       "version_major": 2,
       "version_minor": 0
      },
      "text/plain": [
       "#Comments:   0%|          | 0/1000 [00:00<?, ?it/s]"
      ]
     },
     "metadata": {},
     "output_type": "display_data"
    },
    {
     "data": {
      "application/vnd.jupyter.widget-view+json": {
       "model_id": "cea4fcb13deb4ac5a2d956625e872bc0",
       "version_major": 2,
       "version_minor": 0
      },
      "text/plain": [
       "#Comments:   0%|          | 0/1000 [00:00<?, ?it/s]"
      ]
     },
     "metadata": {},
     "output_type": "display_data"
    },
    {
     "data": {
      "application/vnd.jupyter.widget-view+json": {
       "model_id": "049b040471d04a3a9d550459d50edad8",
       "version_major": 2,
       "version_minor": 0
      },
      "text/plain": [
       "#Comments:   0%|          | 0/1000 [00:00<?, ?it/s]"
      ]
     },
     "metadata": {},
     "output_type": "display_data"
    },
    {
     "data": {
      "application/vnd.jupyter.widget-view+json": {
       "model_id": "bd169f7b2d8b465aba920ee9a0a87d36",
       "version_major": 2,
       "version_minor": 0
      },
      "text/plain": [
       "#Comments:   0%|          | 0/1000 [00:00<?, ?it/s]"
      ]
     },
     "metadata": {},
     "output_type": "display_data"
    },
    {
     "data": {
      "application/vnd.jupyter.widget-view+json": {
       "model_id": "d1ff65490b854987952798f03fe04ba8",
       "version_major": 2,
       "version_minor": 0
      },
      "text/plain": [
       "#Comments:   0%|          | 0/1000 [00:00<?, ?it/s]"
      ]
     },
     "metadata": {},
     "output_type": "display_data"
    },
    {
     "data": {
      "application/vnd.jupyter.widget-view+json": {
       "model_id": "6acf87d44aa64b10bd63a2337246e9a4",
       "version_major": 2,
       "version_minor": 0
      },
      "text/plain": [
       "#Comments:   0%|          | 0/1000 [00:00<?, ?it/s]"
      ]
     },
     "metadata": {},
     "output_type": "display_data"
    },
    {
     "data": {
      "application/vnd.jupyter.widget-view+json": {
       "model_id": "59a71d71be404b8089d59b4d335c4805",
       "version_major": 2,
       "version_minor": 0
      },
      "text/plain": [
       "#Comments:   0%|          | 0/1000 [00:00<?, ?it/s]"
      ]
     },
     "metadata": {},
     "output_type": "display_data"
    },
    {
     "data": {
      "application/vnd.jupyter.widget-view+json": {
       "model_id": "2fcbc9a3d7114ffc9bade6d00b6cd6f2",
       "version_major": 2,
       "version_minor": 0
      },
      "text/plain": [
       "#Comments:   0%|          | 0/1000 [00:00<?, ?it/s]"
      ]
     },
     "metadata": {},
     "output_type": "display_data"
    },
    {
     "data": {
      "application/vnd.jupyter.widget-view+json": {
       "model_id": "915c6a1fce56476fafa671bc6ca5cb4c",
       "version_major": 2,
       "version_minor": 0
      },
      "text/plain": [
       "#Comments:   0%|          | 0/1000 [00:00<?, ?it/s]"
      ]
     },
     "metadata": {},
     "output_type": "display_data"
    },
    {
     "data": {
      "application/vnd.jupyter.widget-view+json": {
       "model_id": "d0017b02254b42b696decd62a7ecede4",
       "version_major": 2,
       "version_minor": 0
      },
      "text/plain": [
       "#Comments:   0%|          | 0/1000 [00:00<?, ?it/s]"
      ]
     },
     "metadata": {},
     "output_type": "display_data"
    },
    {
     "data": {
      "application/vnd.jupyter.widget-view+json": {
       "model_id": "af80fd5c41d44deb9a85f36120ee6782",
       "version_major": 2,
       "version_minor": 0
      },
      "text/plain": [
       "#Comments:   0%|          | 0/1000 [00:00<?, ?it/s]"
      ]
     },
     "metadata": {},
     "output_type": "display_data"
    },
    {
     "data": {
      "application/vnd.jupyter.widget-view+json": {
       "model_id": "6ad95ea9eaa64ff48834b30c4d7f05f8",
       "version_major": 2,
       "version_minor": 0
      },
      "text/plain": [
       "#Comments:   0%|          | 0/1000 [00:00<?, ?it/s]"
      ]
     },
     "metadata": {},
     "output_type": "display_data"
    },
    {
     "data": {
      "application/vnd.jupyter.widget-view+json": {
       "model_id": "5ed64bed239d448386ca77499b4eda4a",
       "version_major": 2,
       "version_minor": 0
      },
      "text/plain": [
       "#Comments:   0%|          | 0/1000 [00:00<?, ?it/s]"
      ]
     },
     "metadata": {},
     "output_type": "display_data"
    },
    {
     "data": {
      "application/vnd.jupyter.widget-view+json": {
       "model_id": "ace54de0449a4df2b4dcd3c79ab20efc",
       "version_major": 2,
       "version_minor": 0
      },
      "text/plain": [
       "#Comments:   0%|          | 0/1000 [00:00<?, ?it/s]"
      ]
     },
     "metadata": {},
     "output_type": "display_data"
    },
    {
     "data": {
      "application/vnd.jupyter.widget-view+json": {
       "model_id": "a960bdf7bec44d37b5c6ff49e6ebf3ba",
       "version_major": 2,
       "version_minor": 0
      },
      "text/plain": [
       "#Comments:   0%|          | 0/1000 [00:00<?, ?it/s]"
      ]
     },
     "metadata": {},
     "output_type": "display_data"
    },
    {
     "data": {
      "application/vnd.jupyter.widget-view+json": {
       "model_id": "bd7731d9e6734c4fb2d7fbe331a845ed",
       "version_major": 2,
       "version_minor": 0
      },
      "text/plain": [
       "#Comments:   0%|          | 0/1000 [00:00<?, ?it/s]"
      ]
     },
     "metadata": {},
     "output_type": "display_data"
    },
    {
     "data": {
      "application/vnd.jupyter.widget-view+json": {
       "model_id": "c0581ce8d79e45548c1f0f25651ca78e",
       "version_major": 2,
       "version_minor": 0
      },
      "text/plain": [
       "#Comments:   0%|          | 0/1000 [00:00<?, ?it/s]"
      ]
     },
     "metadata": {},
     "output_type": "display_data"
    },
    {
     "data": {
      "text/html": [
       "<div>\n",
       "<style scoped>\n",
       "    .dataframe tbody tr th:only-of-type {\n",
       "        vertical-align: middle;\n",
       "    }\n",
       "\n",
       "    .dataframe tbody tr th {\n",
       "        vertical-align: top;\n",
       "    }\n",
       "\n",
       "    .dataframe thead th {\n",
       "        text-align: right;\n",
       "    }\n",
       "</style>\n",
       "<table border=\"1\" class=\"dataframe\">\n",
       "  <thead>\n",
       "    <tr style=\"text-align: right;\">\n",
       "      <th></th>\n",
       "      <th>sample_size</th>\n",
       "      <th>standard_error</th>\n",
       "    </tr>\n",
       "  </thead>\n",
       "  <tbody>\n",
       "    <tr>\n",
       "      <th>0</th>\n",
       "      <td>3</td>\n",
       "      <td>0.039703</td>\n",
       "    </tr>\n",
       "    <tr>\n",
       "      <th>1</th>\n",
       "      <td>4</td>\n",
       "      <td>0.041574</td>\n",
       "    </tr>\n",
       "    <tr>\n",
       "      <th>2</th>\n",
       "      <td>5</td>\n",
       "      <td>0.041691</td>\n",
       "    </tr>\n",
       "    <tr>\n",
       "      <th>3</th>\n",
       "      <td>6</td>\n",
       "      <td>0.042541</td>\n",
       "    </tr>\n",
       "    <tr>\n",
       "      <th>4</th>\n",
       "      <td>7</td>\n",
       "      <td>0.042044</td>\n",
       "    </tr>\n",
       "    <tr>\n",
       "      <th>...</th>\n",
       "      <td>...</td>\n",
       "      <td>...</td>\n",
       "    </tr>\n",
       "    <tr>\n",
       "      <th>93</th>\n",
       "      <td>96</td>\n",
       "      <td>0.036153</td>\n",
       "    </tr>\n",
       "    <tr>\n",
       "      <th>94</th>\n",
       "      <td>97</td>\n",
       "      <td>0.036132</td>\n",
       "    </tr>\n",
       "    <tr>\n",
       "      <th>95</th>\n",
       "      <td>98</td>\n",
       "      <td>0.036125</td>\n",
       "    </tr>\n",
       "    <tr>\n",
       "      <th>96</th>\n",
       "      <td>99</td>\n",
       "      <td>0.036132</td>\n",
       "    </tr>\n",
       "    <tr>\n",
       "      <th>97</th>\n",
       "      <td>100</td>\n",
       "      <td>0.036144</td>\n",
       "    </tr>\n",
       "  </tbody>\n",
       "</table>\n",
       "<p>98 rows × 2 columns</p>\n",
       "</div>"
      ],
      "text/plain": [
       "    sample_size  standard_error\n",
       "0             3        0.039703\n",
       "1             4        0.041574\n",
       "2             5        0.041691\n",
       "3             6        0.042541\n",
       "4             7        0.042044\n",
       "..          ...             ...\n",
       "93           96        0.036153\n",
       "94           97        0.036132\n",
       "95           98        0.036125\n",
       "96           99        0.036132\n",
       "97          100        0.036144\n",
       "\n",
       "[98 rows x 2 columns]"
      ]
     },
     "execution_count": 28,
     "metadata": {},
     "output_type": "execute_result"
    }
   ],
   "source": [
    "def sample_se_vs_sample_size_unimodality(\n",
    "    df: pd.DataFrame,\n",
    "    annotation_col: str,\n",
    "    group_col: str,\n",
    "    comment_col: str,\n",
    "    bins: int = 5,\n",
    "    min_size: int = 2,\n",
    "    max_size: int = 100,\n",
    "    step: int = 10,\n",
    "    iters: int = 30,\n",
    ") -> pd.DataFrame:\n",
    "    \"\"\"\n",
    "    Sample decreasing subsets of annotations and compute the standard error\n",
    "    of Aposteriori Unimodality statistics at each sample size.\n",
    "\n",
    "    :param df: DataFrame with annotations, factor groups, and comment ids.\n",
    "    :param annotation_col: Column name for list of annotations.\n",
    "    :param group_col: Column name for list of factor groups (e.g., annot_sex).\n",
    "    :param comment_col: Column name for list of comment ids.\n",
    "    :param bins: Number of bins for DFU.\n",
    "    :param min_size: Minimum sample size to consider.\n",
    "    :param max_size: Maximum sample size to consider.\n",
    "    :param step: Step size to decrease sample size.\n",
    "    :param iters: Repetitions per sample size for averaging.\n",
    "    :return: DataFrame with columns [sample_size, standard_error]\n",
    "    \"\"\"\n",
    "    results: list[dict[str, Any]] = []\n",
    "    for size in tqdm(range(min_size, max_size + 1, step), desc=\"#Annotators\"):\n",
    "        iter_ses = []\n",
    "\n",
    "        for _ in tqdm(range(iters), desc=\"#Comments\", leave=False):\n",
    "            sample_stats = []\n",
    "\n",
    "            # loop over comments\n",
    "            for _, row in df.iterrows():\n",
    "                annotations = np.array(row[annotation_col])\n",
    "                groups = np.array(row[group_col])\n",
    "\n",
    "                # skip if not enough annotators\n",
    "                if len(annotations) < size:\n",
    "                    continue\n",
    "\n",
    "                # subsample\n",
    "                idx = np.random.choice(\n",
    "                    len(annotations), size=size, replace=False\n",
    "                )\n",
    "                sub_ann = annotations[idx]\n",
    "                sub_grp = groups[idx]\n",
    "\n",
    "                # compute factor DFU stats\n",
    "                stats_dict = aposteriori._factor_dfu_stat(\n",
    "                    sub_ann, sub_grp, bins=bins\n",
    "                )\n",
    "\n",
    "                # collect values (drop NaNs)\n",
    "                sample_stats.extend(\n",
    "                    [v for v in stats_dict.values() if not np.isnan(v)]\n",
    "                )\n",
    "\n",
    "            # compute SE for this iteration\n",
    "            if len(sample_stats) > 1:\n",
    "                se = np.std(sample_stats, ddof=1) / np.sqrt(len(sample_stats))\n",
    "                iter_ses.append(se)\n",
    "\n",
    "        # average SE across iterations\n",
    "        if len(iter_ses) > 0:\n",
    "            results.append(\n",
    "                {\"sample_size\": size, \"standard_error\": np.mean(iter_ses)}\n",
    "            )\n",
    "\n",
    "    return pd.DataFrame(results)\n",
    "\n",
    "\n",
    "res_df = sample_se_vs_sample_size_unimodality(\n",
    "    df=df.reset_index(),\n",
    "    annotation_col=\"toxicity\",\n",
    "    group_col=\"annot_sex\",\n",
    "    comment_col=\"message_id\",\n",
    "    bins=5,\n",
    "    min_size=3,\n",
    "    max_size=100,\n",
    "    step=1,\n",
    "    iters=1000,\n",
    ")\n",
    "res_df"
   ]
  },
  {
   "cell_type": "code",
   "execution_count": 29,
   "metadata": {},
   "outputs": [
    {
     "name": "stdout",
     "output_type": "stream",
     "text": [
      "Figure saved to /home/dimits/Documents/research/aposteriori-unimodality/graphs/ndfu_std_error_sample_size.png\n"
     ]
    },
    {
     "data": {
      "image/png": "[encoded data removed]",
      "text/plain": [
       "<Figure size 800x500 with 1 Axes>"
      ]
     },
     "metadata": {},
     "output_type": "display_data"
    }
   ],
   "source": [
    "def plot_variance_curve(results_df: pd.DataFrame):\n",
    "    results_df = results_df.sort_values(\"sample_size\")\n",
    "\n",
    "    x = results_df[\"sample_size\"].values.reshape(-1, 1)\n",
    "    y = results_df[\"standard_error\"].values\n",
    "\n",
    "    model = LinearRegression()\n",
    "    model.fit(x, y)\n",
    "    y_pred = model.predict(x)\n",
    "\n",
    "    plt.figure(figsize=(8, 5))\n",
    "    plt.plot(\n",
    "        x,\n",
    "        y_pred,\n",
    "        label=f\"Linear Fit: y = {model.coef_[0]:.4f}x + {model.intercept_:.4f}\",\n",
    "        color=\"tab:orange\",\n",
    "    )\n",
    "    plt.plot(x, y, color=\"tab:blue\", marker=\"o\")\n",
    "    plt.xlabel(\"#Annotators\")\n",
    "    plt.ylabel(\"Std error of Polarization Statistic\")\n",
    "    plt.title(\"Sample size affects pol-statistic estimation\")\n",
    "    plt.grid(True)\n",
    "    plt.legend()\n",
    "    plt.tight_layout()\n",
    "\n",
    "\n",
    "# Example usage\n",
    "plot_variance_curve(res_df)\n",
    "tasks.graphs.save_plot(GRAPH_DIR / \"ndfu_std_error_sample_size.png\")\n",
    "plt.show()"
   ]
  }
 ],
 "metadata": {
  "kernelspec": {
   "display_name": "apunim-experiments",
   "language": "python",
   "name": "python3"
  },
  "language_info": {
   "codemirror_mode": {
    "name": "ipython",
    "version": 3
   },
   "file_extension": ".py",
   "mimetype": "text/x-python",
   "name": "python",
   "nbconvert_exporter": "python",
   "pygments_lexer": "ipython3",
   "version": "3.13.5"
  }
 },
 "nbformat": 4,
 "nbformat_minor": 2
}
